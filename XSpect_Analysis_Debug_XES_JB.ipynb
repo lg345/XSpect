{
 "cells": [
  {
   "cell_type": "code",
   "execution_count": 107,
   "id": "041959d8-20a5-421a-9d20-ffbb5ee60381",
   "metadata": {},
   "outputs": [],
   "source": [
    "import h5py\n",
    "import psana\n",
    "import numpy as np\n",
    "import matplotlib.pyplot as plt\n",
    "from scipy.ndimage import rotate\n",
    "from scipy.interpolate import interp1d\n",
    "from scipy.optimize import curve_fit,minimize\n",
    "import multiprocessing\n",
    "import os\n",
    "from functools import partial\n",
    "import time\n",
    "import sys\n",
    "import argparse\n",
    "from datetime import datetime\n",
    "import tempfile\n",
    "\n",
    "sys.path.insert(0, './XSpecT/')\n",
    "import XSpect.XSpect_Analysis\n",
    "import XSpect.XSpect_Controller\n",
    "import XSpect.XSpect_Visualization\n",
    "import XSpect.XSpect_PostProcessing\n",
    "import XSpect.XSpect_Diagnostics\n",
    "\n",
    "import inspect"
   ]
  },
  {
   "cell_type": "markdown",
   "id": "f4ae7a09-ae17-4d4d-9cff-9292bb8e3efe",
   "metadata": {},
   "source": [
    "### Define object inspection function"
   ]
  },
  {
   "cell_type": "code",
   "execution_count": 4,
   "id": "784ad735-d097-44cf-ab96-7437150fa18b",
   "metadata": {},
   "outputs": [],
   "source": [
    "def object_inspector(data_object, verbose=False):\n",
    "    if verbose==True:\n",
    "        print(\"------ ATTRIBUTE LIST ------\")\n",
    "        for x in dir(data_object):\n",
    "            print(x)\n",
    "        print(\"----- METHODS -----\")\n",
    "        for method in inspect.getmembers(data_object, predicate=inspect.ismethod):\n",
    "            print(method)\n",
    "        print(\"----- ATTRIBUTES -----\")\n",
    "        for key, value in vars(data_object).items():\n",
    "            print(key, \":\", value)\n",
    "    if verbose==False:\n",
    "        print(\"----- METHODS -----\")\n",
    "        for method in inspect.getmembers(data_object, predicate=inspect.ismethod):\n",
    "            print(method)\n",
    "        print(\"----- ATTRIBUTES -----\")\n",
    "        for key, value in vars(data_object).items():\n",
    "            print(key, \":\", value)"
   ]
  },
  {
   "cell_type": "markdown",
   "id": "c94f0eb2-05a5-4789-b763-acf067dc0291",
   "metadata": {},
   "source": [
    "### Define and create Experiment and XES objects"
   ]
  },
  {
   "cell_type": "code",
   "execution_count": 5,
   "id": "1d7673ea-185b-474e-aa62-f08d825d3af1",
   "metadata": {},
   "outputs": [],
   "source": [
    "xes_experiment = XSpect.XSpect_Analysis.spectroscopy_experiment(lcls_run=24, hutch='xcs', experiment_id='xcs100861524')"
   ]
  },
  {
   "cell_type": "code",
   "execution_count": 9,
   "id": "e4a6b90e-8d20-4c32-a7ec-4d1f918d274c",
   "metadata": {},
   "outputs": [
    {
     "name": "stdout",
     "output_type": "stream",
     "text": [
      "----- METHODS -----\n",
      "('__init__', <bound method spectroscopy_experiment.__init__ of <XSpect.XSpect_Analysis.spectroscopy_experiment object at 0x7fbd1c0f6700>>)\n",
      "('add_detector', <bound method spectroscopy_experiment.add_detector of <XSpect.XSpect_Analysis.spectroscopy_experiment object at 0x7fbd1c0f6700>>)\n",
      "('get_experiment_directory', <bound method experiment.get_experiment_directory of <XSpect.XSpect_Analysis.spectroscopy_experiment object at 0x7fbd1c0f6700>>)\n",
      "----- ATTRIBUTES -----\n",
      "lcls_run : 24\n",
      "hutch : xcs\n",
      "experiment_id : xcs100861524\n",
      "experiment_directory : /sdf/data/lcls/ds/xcs/xcs100861524/hdf5/smalldata\n"
     ]
    }
   ],
   "source": [
    "object_inspector(xes_experiment)"
   ]
  },
  {
   "cell_type": "code",
   "execution_count": 10,
   "id": "cd0f67a2-1543-43f4-8001-8c162625c16f",
   "metadata": {},
   "outputs": [],
   "source": [
    "xes = XSpect.XSpect_Controller.XESBatchAnalysisRotation()\n",
    "keys=['epics/ccm_E','epicsUser/ccm_E_setpoint','tt/ttCorr','epics/lxt_ttc', 'enc/lasDelay', 'ipm4/sum','tt/AMPL'] \n",
    "names=['ccm','ccm_E_setpoint','time_tool_correction','lxt_ttc','encoder','ipm', 'time_tool_ampl']\n",
    "xes.key_epix=[r'epix_2/ROI_0_area']\n",
    "xes.friendly_name_epix=['epix']\n",
    "xes.set_key_aliases(keys,names)\n",
    "xes.lxt_key=None"
   ]
  },
  {
   "cell_type": "code",
   "execution_count": 11,
   "id": "f3f7e16d-c44e-41f3-bb5b-ef225e88e209",
   "metadata": {},
   "outputs": [],
   "source": [
    "xes.mintime=-10\n",
    "xes.maxtime=70\n",
    "xes.numpoints=25\n",
    "xes.time_bins=np.linspace(xes.mintime,xes.maxtime,xes.numpoints)"
   ]
  },
  {
   "cell_type": "code",
   "execution_count": 12,
   "id": "557c69d9-d69f-4a81-be34-50ffd2e6d2a1",
   "metadata": {},
   "outputs": [],
   "source": [
    "## Set an ROI (K alpha)\n",
    "xes.rois=[[95,125]]\n",
    "#xes.angle=1\n",
    "#xes.transpose=True"
   ]
  },
  {
   "cell_type": "code",
   "execution_count": 13,
   "id": "2d3a31c3-d4dd-49f8-9dd6-727d149b822f",
   "metadata": {},
   "outputs": [],
   "source": [
    "## Set filters\n",
    "xes.adu_cutoff=3.0\n",
    "xes.add_filter('xray','ipm',200.0E3)\n",
    "xes.add_filter('simultaneous','ipm',200.0E3)\n",
    "xes.add_filter('simultaneous','time_tool_ampl',0.05)"
   ]
  },
  {
   "cell_type": "code",
   "execution_count": 14,
   "id": "cc8d03ed-ce5f-42a4-a1c3-04c71a03aa96",
   "metadata": {},
   "outputs": [
    {
     "name": "stdout",
     "output_type": "stream",
     "text": [
      "----- METHODS -----\n",
      "('__init__', <bound method XESBatchAnalysisRotation.__init__ of <XSpect.XSpect_Controller.XESBatchAnalysisRotation object at 0x7fbcdcdd4be0>>)\n",
      "('add_filter', <bound method BatchAnalysis.add_filter of <XSpect.XSpect_Controller.XESBatchAnalysisRotation object at 0x7fbcdcdd4be0>>)\n",
      "('aggregate_statistics', <bound method BatchAnalysis.aggregate_statistics of <XSpect.XSpect_Controller.XESBatchAnalysisRotation object at 0x7fbcdcdd4be0>>)\n",
      "('append_arbitrary_filtering', <bound method XESBatchAnalysisRotation.append_arbitrary_filtering of <XSpect.XSpect_Controller.XESBatchAnalysisRotation object at 0x7fbcdcdd4be0>>)\n",
      "('break_into_shot_ranges', <bound method BatchAnalysis.break_into_shot_ranges of <XSpect.XSpect_Controller.XESBatchAnalysisRotation object at 0x7fbcdcdd4be0>>)\n",
      "('hit_find', <bound method XESBatchAnalysisRotation.hit_find of <XSpect.XSpect_Controller.XESBatchAnalysisRotation object at 0x7fbcdcdd4be0>>)\n",
      "('parse_run_shots', <bound method BatchAnalysis.parse_run_shots of <XSpect.XSpect_Controller.XESBatchAnalysisRotation object at 0x7fbcdcdd4be0>>)\n",
      "('primary_analysis', <bound method XESBatchAnalysisRotation.primary_analysis of <XSpect.XSpect_Controller.XESBatchAnalysisRotation object at 0x7fbcdcdd4be0>>)\n",
      "('primary_analysis_loop', <bound method BatchAnalysis.primary_analysis_loop of <XSpect.XSpect_Controller.XESBatchAnalysisRotation object at 0x7fbcdcdd4be0>>)\n",
      "('primary_analysis_parallel_loop', <bound method BatchAnalysis.primary_analysis_parallel_loop of <XSpect.XSpect_Controller.XESBatchAnalysisRotation object at 0x7fbcdcdd4be0>>)\n",
      "('primary_analysis_parallel_range', <bound method BatchAnalysis.primary_analysis_parallel_range of <XSpect.XSpect_Controller.XESBatchAnalysisRotation object at 0x7fbcdcdd4be0>>)\n",
      "('primary_analysis_range', <bound method XESBatchAnalysisRotation.primary_analysis_range of <XSpect.XSpect_Controller.XESBatchAnalysisRotation object at 0x7fbcdcdd4be0>>)\n",
      "('primary_analysis_static', <bound method XESBatchAnalysisRotation.primary_analysis_static of <XSpect.XSpect_Controller.XESBatchAnalysisRotation object at 0x7fbcdcdd4be0>>)\n",
      "('primary_analysis_static_parallel_loop', <bound method XESBatchAnalysisRotation.primary_analysis_static_parallel_loop of <XSpect.XSpect_Controller.XESBatchAnalysisRotation object at 0x7fbcdcdd4be0>>)\n",
      "('print_run_statistics', <bound method BatchAnalysis.print_run_statistics of <XSpect.XSpect_Controller.XESBatchAnalysisRotation object at 0x7fbcdcdd4be0>>)\n",
      "('run_parser', <bound method BatchAnalysis.run_parser of <XSpect.XSpect_Controller.XESBatchAnalysisRotation object at 0x7fbcdcdd4be0>>)\n",
      "('set_key_aliases', <bound method BatchAnalysis.set_key_aliases of <XSpect.XSpect_Controller.XESBatchAnalysisRotation object at 0x7fbcdcdd4be0>>)\n",
      "('update_status', <bound method BatchAnalysis.update_status of <XSpect.XSpect_Controller.XESBatchAnalysisRotation object at 0x7fbcdcdd4be0>>)\n",
      "----- ATTRIBUTES -----\n",
      "verbose : False\n",
      "status : ['Setting key aliases.', 'Adding filter: Shot Type=xray, Filter Key=ipm, Threshold=200000.0', 'Adding filter: Shot Type=simultaneous, Filter Key=ipm, Threshold=200000.0', 'Adding filter: Shot Type=simultaneous, Filter Key=time_tool_ampl, Threshold=0.05']\n",
      "status_datetime : ['2025-05-03 10:09:32', '2025-05-03 10:09:34', '2025-05-03 10:09:34', '2025-05-03 10:09:34']\n",
      "filters : [{'FilterType': 'xray', 'FilterKey': 'ipm', 'FilterThreshold': 200000.0}, {'FilterType': 'simultaneous', 'FilterKey': 'ipm', 'FilterThreshold': 200000.0}, {'FilterType': 'simultaneous', 'FilterKey': 'time_tool_ampl', 'FilterThreshold': 0.05}]\n",
      "keys : ['epics/ccm_E', 'epicsUser/ccm_E_setpoint', 'tt/ttCorr', 'epics/lxt_ttc', 'enc/lasDelay', 'ipm4/sum', 'tt/AMPL']\n",
      "friendly_names : ['ccm', 'ccm_E_setpoint', 'time_tool_correction', 'lxt_ttc', 'encoder', 'ipm', 'time_tool_ampl']\n",
      "runs : []\n",
      "run_shots : {}\n",
      "run_shot_ranges : {}\n",
      "analyzed_runs : []\n",
      "xes_line : kbeta\n",
      "pixels_to_patch : [351, 352, 529, 530, 531]\n",
      "crystal_detector_distance : 50.6\n",
      "crystal_d_space : 0.895\n",
      "crystal_radius : 250\n",
      "adu_cutoff : 3.0\n",
      "rois : [[95, 125]]\n",
      "mintime : -10\n",
      "maxtime : 70\n",
      "numpoints : 25\n",
      "time_bins : [-10.          -6.66666667  -3.33333333   0.           3.33333333\n",
      "   6.66666667  10.          13.33333333  16.66666667  20.\n",
      "  23.33333333  26.66666667  30.          33.33333333  36.66666667\n",
      "  40.          43.33333333  46.66666667  50.          53.33333333\n",
      "  56.66666667  60.          63.33333333  66.66666667  70.        ]\n",
      "key_epix : ['epix_2/ROI_0_area']\n",
      "friendly_name_epix : ['epix']\n",
      "angle : 0.0\n",
      "end_index : None\n",
      "start_index : 0\n",
      "transpose : False\n",
      "lxt_key : None\n",
      "import_roi : None\n",
      "keys_to_save : ['start_index', 'end_index', 'run_file', 'run_number', 'verbose', 'status', 'status_datetime', 'epix_ROI_1_summed', 'epix_summed']\n",
      "patch_mode : average\n",
      "arbitrary_filter : False\n",
      "hitfind : False\n"
     ]
    }
   ],
   "source": [
    "object_inspector(xes)"
   ]
  },
  {
   "cell_type": "markdown",
   "id": "7c2bf636-ffd9-4467-86a5-2dfccc080178",
   "metadata": {},
   "source": [
    "### How the primary_analysis_parallel_range runs\n",
    "\n",
    "- This method is from the parent `BatchAnalysis` class\n",
    "- Chunks the files into shot ranges\n",
    "- Sets up parallelization\n",
    "- Loops using `primary_analysis_range` from `XESBatchAnalysisRotation` class, which calls `primary_analysis` (also from `XESBatchAnalysisRotation`)\n",
    "- Unclear how to \"walk through\" each analysis step with parallelization. Skip parallelization for now.\n",
    "- Also don't break shots into runs to keep things simple"
   ]
  },
  {
   "cell_type": "markdown",
   "id": "92fa138c-9194-45ae-83c6-cbd68ae18b52",
   "metadata": {},
   "source": [
    "### Individual Analysis Steps"
   ]
  },
  {
   "cell_type": "code",
   "execution_count": 26,
   "id": "569525e2-c606-414a-85fd-4b40e3348297",
   "metadata": {},
   "outputs": [],
   "source": [
    "# Use only for the first 5000 shots to limit the size of object in memory\n",
    "f=XSpect.XSpect_Analysis.spectroscopy_run(xes_experiment, 306, verbose=False, end_index=5000)"
   ]
  },
  {
   "cell_type": "code",
   "execution_count": 27,
   "id": "659630bf-5cd2-48c0-8b71-fcf95295449e",
   "metadata": {},
   "outputs": [
    {
     "name": "stdout",
     "output_type": "stream",
     "text": [
      "----- METHODS -----\n",
      "('__init__', <bound method spectroscopy_run.__init__ of <XSpect.XSpect_Analysis.spectroscopy_run object at 0x7fbcdc128490>>)\n",
      "('close_h5', <bound method spectroscopy_run.close_h5 of <XSpect.XSpect_Analysis.spectroscopy_run object at 0x7fbcdc128490>>)\n",
      "('get_run_shot_properties', <bound method spectroscopy_run.get_run_shot_properties of <XSpect.XSpect_Analysis.spectroscopy_run object at 0x7fbcdc128490>>)\n",
      "('get_scan_val', <bound method spectroscopy_run.get_scan_val of <XSpect.XSpect_Analysis.spectroscopy_run object at 0x7fbcdc128490>>)\n",
      "('load_run_key_delayed', <bound method spectroscopy_run.load_run_key_delayed of <XSpect.XSpect_Analysis.spectroscopy_run object at 0x7fbcdc128490>>)\n",
      "('load_run_keys', <bound method spectroscopy_run.load_run_keys of <XSpect.XSpect_Analysis.spectroscopy_run object at 0x7fbcdc128490>>)\n",
      "('load_sum_run_scattering', <bound method spectroscopy_run.load_sum_run_scattering of <XSpect.XSpect_Analysis.spectroscopy_run object at 0x7fbcdc128490>>)\n",
      "('purge_all_keys', <bound method spectroscopy_run.purge_all_keys of <XSpect.XSpect_Analysis.spectroscopy_run object at 0x7fbcdc128490>>)\n",
      "('set_arbitrary_filter', <bound method spectroscopy_run.set_arbitrary_filter of <XSpect.XSpect_Analysis.spectroscopy_run object at 0x7fbcdc128490>>)\n",
      "('update_status', <bound method spectroscopy_run.update_status of <XSpect.XSpect_Analysis.spectroscopy_run object at 0x7fbcdc128490>>)\n",
      "----- ATTRIBUTES -----\n",
      "spec_experiment : <XSpect.XSpect_Analysis.spectroscopy_experiment object at 0x7fbd1c0f6700>\n",
      "run_number : 306\n",
      "run_file : /sdf/data/lcls/ds/xcs/xcs100861524/hdf5/smalldata/xcs100861524_Run0306.h5\n",
      "status : ['New analysis of run 306 located in: /sdf/data/lcls/ds/xcs/xcs100861524/hdf5/smalldata/xcs100861524_Run0306.h5']\n",
      "status_datetime : ['2025-05-03 11:31:16']\n",
      "verbose : False\n",
      "end_index : 5000\n",
      "start_index : 0\n"
     ]
    }
   ],
   "source": [
    "object_inspector(f)"
   ]
  },
  {
   "cell_type": "code",
   "execution_count": 33,
   "id": "30824bae-c7e3-4fb1-ad69-143457d9d6d8",
   "metadata": {},
   "outputs": [],
   "source": [
    "f.load_run_keys(xes.keys,xes.friendly_names)\n",
    "f.load_run_key_delayed(xes.key_epix,xes.friendly_name_epix,rois=xes.import_roi)\n",
    "f.get_run_shot_properties()"
   ]
  },
  {
   "cell_type": "code",
   "execution_count": 34,
   "id": "f2e76d22-26f8-48d7-9f2a-f77c0a18889d",
   "metadata": {
    "scrolled": true
   },
   "outputs": [
    {
     "name": "stdout",
     "output_type": "stream",
     "text": [
      "----- METHODS -----\n",
      "('__init__', <bound method spectroscopy_run.__init__ of <XSpect.XSpect_Analysis.spectroscopy_run object at 0x7fbcdc128490>>)\n",
      "('close_h5', <bound method spectroscopy_run.close_h5 of <XSpect.XSpect_Analysis.spectroscopy_run object at 0x7fbcdc128490>>)\n",
      "('get_run_shot_properties', <bound method spectroscopy_run.get_run_shot_properties of <XSpect.XSpect_Analysis.spectroscopy_run object at 0x7fbcdc128490>>)\n",
      "('get_scan_val', <bound method spectroscopy_run.get_scan_val of <XSpect.XSpect_Analysis.spectroscopy_run object at 0x7fbcdc128490>>)\n",
      "('load_run_key_delayed', <bound method spectroscopy_run.load_run_key_delayed of <XSpect.XSpect_Analysis.spectroscopy_run object at 0x7fbcdc128490>>)\n",
      "('load_run_keys', <bound method spectroscopy_run.load_run_keys of <XSpect.XSpect_Analysis.spectroscopy_run object at 0x7fbcdc128490>>)\n",
      "('load_sum_run_scattering', <bound method spectroscopy_run.load_sum_run_scattering of <XSpect.XSpect_Analysis.spectroscopy_run object at 0x7fbcdc128490>>)\n",
      "('purge_all_keys', <bound method spectroscopy_run.purge_all_keys of <XSpect.XSpect_Analysis.spectroscopy_run object at 0x7fbcdc128490>>)\n",
      "('set_arbitrary_filter', <bound method spectroscopy_run.set_arbitrary_filter of <XSpect.XSpect_Analysis.spectroscopy_run object at 0x7fbcdc128490>>)\n",
      "('update_status', <bound method spectroscopy_run.update_status of <XSpect.XSpect_Analysis.spectroscopy_run object at 0x7fbcdc128490>>)\n",
      "----- ATTRIBUTES -----\n",
      "spec_experiment : <XSpect.XSpect_Analysis.spectroscopy_experiment object at 0x7fbd1c0f6700>\n",
      "run_number : 306\n",
      "run_file : /sdf/data/lcls/ds/xcs/xcs100861524/hdf5/smalldata/xcs100861524_Run0306.h5\n",
      "status : ['New analysis of run 306 located in: /sdf/data/lcls/ds/xcs/xcs100861524/hdf5/smalldata/xcs100861524_Run0306.h5', \"Key does not exist: Unable to synchronously open object (object 'ccm_E_setpoint' doesn't exist)\", 'HDF5 import of keys completed. Time: 0.01 seconds', 'HDF5 import of keys completed. Time: 2.01 seconds', \"Key does not exist: Unable to synchronously open object (object 'ccm_E_setpoint' doesn't exist)\", 'HDF5 import of keys completed. Time: 0.02 seconds', 'HDF5 import of keys completed. Time: 2.01 seconds', 'Obtained shot properties']\n",
      "status_datetime : ['2025-05-03 11:31:16', '2025-05-03 11:31:20', '2025-05-03 11:31:20', '2025-05-03 11:31:22', '2025-05-03 11:54:27', '2025-05-03 11:54:27', '2025-05-03 11:54:29', '2025-05-03 11:54:29']\n",
      "verbose : False\n",
      "end_index : 5000\n",
      "start_index : 0\n",
      "ccm : [12.07364909 12.07364909 12.07364909 ... 12.07364909 12.07364909\n",
      " 12.07364909]\n",
      "time_tool_correction : [ 1.68635266e-01  1.31297917e-02  0.00000000e+00 ...  0.00000000e+00\n",
      "  3.19701560e-01 -1.62563956e-04]\n",
      "lxt_ttc : [0. 0. 0. ... 0. 0. 0.]\n",
      "encoder : [0.00760528 0.00760528 0.00760528 ... 4.68965705 4.55609762 4.42293847]\n",
      "ipm : [846997.875 862280.625 869040.375 ... 818609.75  893142.    884230.625]\n",
      "time_tool_ampl : [0.35969945 0.36151491 0.         ... 0.         0.45171615 0.45000825]\n",
      "epix : [[[-2.87963867e-01  1.91659182e-01  4.99638692e-02 ...  9.78906266e-03\n",
      "    3.26266646e-01  1.87970626e+00]\n",
      "  [ 2.80904472e-01 -8.57791752e-02 -9.91459116e-02 ... -2.10341975e-01\n",
      "    1.53356880e-01  3.50823760e+00]\n",
      "  [ 1.33329883e-01 -1.77740157e-01 -4.85232919e-02 ... -1.78120062e-01\n",
      "   -1.87115483e-02 -1.24988474e-01]\n",
      "  ...\n",
      "  [ 2.42116511e-01  3.18398058e-01  2.69426871e-02 ... -1.30745545e-01\n",
      "    1.27971485e-01  1.32913068e-01]\n",
      "  [-6.03088848e-02 -1.39642939e-01 -1.01881415e-01 ...  1.02796875e-01\n",
      "    1.59082025e-01  3.64222407e-01]\n",
      "  [ 1.73040163e-02  6.68942258e-02  3.21994692e-01 ...  2.94036627e-01\n",
      "    8.62218738e-02  1.89572747e-03]]\n",
      "\n",
      " [[ 1.18712895e-01  3.40757817e-01  6.71972707e-02 ...  4.61972654e-02\n",
      "   -6.41074255e-02  1.76681653e-01]\n",
      "  [ 1.52821243e-01 -1.92161232e-01 -6.22229241e-02 ... -1.19024284e-01\n",
      "   -1.16838135e-01 -1.84669062e-01]\n",
      "  [-2.86051899e-01 -8.77870247e-02  1.30769417e-01 ...  7.36910179e-02\n",
      "   -6.18750006e-02 -1.50443256e-01]\n",
      "  ...\n",
      "  [ 2.31498584e-01  1.63618356e-01  1.42085120e-01 ... -2.46258974e-01\n",
      "   -3.62843752e-01  2.52845109e-01]\n",
      "  [ 9.12111774e-02 -4.60123152e-01  1.20737962e-01 ...  1.01594925e-01\n",
      "    6.82728656e-04 -2.14742362e-01]\n",
      "  [ 2.18026608e-01 -3.67329448e-01 -3.34145069e-01 ...  1.37658983e-01\n",
      "    3.16067189e-01  1.35484859e-01]]\n",
      "\n",
      " [[ 4.27041017e-02 -1.19403325e-01 -1.02067389e-01 ...  2.26228520e-01\n",
      "    1.12820312e-01 -1.61875010e-01]\n",
      "  [-1.71816379e-01  8.69965628e-02  1.72846586e-01 ... -1.18744336e-01\n",
      "   -1.03841275e-02  2.05366239e-02]\n",
      "  [-1.40376151e-01  1.11013334e-02  1.31986797e-01 ...  2.46840846e-02\n",
      "   -1.69108883e-01  4.90547204e-03]\n",
      "  ...\n",
      "  [-3.68566928e-03  8.52789059e-02 -7.37167969e-02 ...  1.90315127e-01\n",
      "   -1.91250001e-03 -1.04350880e-01]\n",
      "  [-1.60187129e-02 -1.37760192e-01  3.07253480e-01 ... -1.51499227e-01\n",
      "    1.06147483e-01  4.09278832e-02]\n",
      "  [-8.84826761e-03  1.07496455e-01  3.32372159e-01 ...  3.33807133e-02\n",
      "   -2.80499998e-02  5.12774400e-02]]\n",
      "\n",
      " ...\n",
      "\n",
      " [[ 1.76968753e-01  5.43320328e-02 -1.90421879e-01 ... -2.09610358e-01\n",
      "    1.56084970e-01 -4.32783179e-02]\n",
      "  [ 3.09751153e-01 -9.78339165e-02  5.97596318e-02 ...  1.64339870e-01\n",
      "    1.39226004e-01  2.44412556e-01]\n",
      "  [-7.85873532e-02  1.10907637e-01  1.95112064e-01 ... -1.31253779e-01\n",
      "   -1.85067743e-01 -4.28888589e-01]\n",
      "  ...\n",
      "  [-2.03184143e-01  5.07137895e-01  4.65611041e-01 ... -1.52884454e-01\n",
      "    4.75933664e-02 -2.56384790e-01]\n",
      "  [-2.18419388e-01  1.73712075e-01  1.33311212e-01 ... -1.41876951e-01\n",
      "   -3.46334837e-02  2.42484137e-02]\n",
      "  [-8.20294172e-02  2.20448241e-01 -2.58536875e-01 ...  5.00644386e-01\n",
      "   -3.69882807e-02 -4.30873662e-01]]\n",
      "\n",
      " [[-5.22128940e-02  9.00292993e-02 -2.38150403e-01 ... -1.16757818e-01\n",
      "    1.48613220e-02  2.76076168e-01]\n",
      "  [-6.03524148e-01 -2.12744266e-01  2.43166029e-01 ... -8.32730010e-02\n",
      "    2.09388867e-01 -5.64589910e-02]\n",
      "  [-1.03014410e-02 -5.19404933e-02 -1.02981329e-01 ...  2.81264752e-01\n",
      "   -1.65939942e-01  2.57563770e-01]\n",
      "  ...\n",
      "  [ 1.98986232e-02 -1.98222660e-02 -7.02780187e-02 ... -1.04801916e-01\n",
      "    4.10722643e-02  4.82520349e-02]\n",
      "  [ 1.55205905e-01  2.85459697e-01  1.30046040e-01 ...  8.81011635e-02\n",
      "   -7.68697634e-02  7.64238536e-02]\n",
      "  [ 1.07376710e-01  4.76342767e-01  4.64153327e-02 ... -6.88228607e-02\n",
      "    9.94035006e-02  1.25575379e-01]]\n",
      "\n",
      " [[ 3.85068357e-02 -7.85517618e-02 -2.77928710e-01 ... -1.90312508e-02\n",
      "   -3.46062511e-01  1.41667977e-01]\n",
      "  [-2.43215233e-01 -1.03401452e-01  2.06239745e-01 ... -8.05003420e-02\n",
      "   -1.80422604e-01 -6.16366230e-02]\n",
      "  [ 3.37492935e-02  6.61258921e-02  3.15659419e-02 ...  4.15388286e-01\n",
      "    2.33212888e-01 -1.62733600e-01]\n",
      "  ...\n",
      "  [ 9.09974352e-02 -2.61667192e-01 -9.08105448e-02 ... -1.42292246e-01\n",
      "    4.43261713e-02 -2.78588802e-01]\n",
      "  [ 1.82969898e-01 -2.18266115e-01 -1.52882218e-01 ... -8.06703120e-02\n",
      "    1.26072504e-02  2.15053320e-01]\n",
      "  [ 6.66347668e-02 -3.13787460e-01 -3.04525644e-01 ...  1.50948957e-01\n",
      "   -7.48066381e-02  1.09368900e-03]]]\n",
      "h5 : <HDF5 file \"xcs100861524_Run0306.h5\" (mode r)>\n",
      "total_shots : 5000\n",
      "xray : [1 1 1 ... 1 1 1]\n",
      "laser : [1 1 0 ... 0 1 1]\n",
      "simultaneous : [ True  True False ... False  True  True]\n",
      "run_shots : {'Total': 5000, 'X-ray Total': 4964, 'Laser Total': 3572}\n"
     ]
    }
   ],
   "source": [
    "object_inspector(f)"
   ]
  },
  {
   "cell_type": "code",
   "execution_count": 38,
   "id": "de090b49-dc76-40d5-aba2-03e97707d7dd",
   "metadata": {},
   "outputs": [],
   "source": [
    "analysis=XSpect.XSpect_Analysis.XESAnalysis()"
   ]
  },
  {
   "cell_type": "code",
   "execution_count": 46,
   "id": "18ac32f9-f6ad-41aa-9023-683791ab13f4",
   "metadata": {
    "scrolled": true
   },
   "outputs": [
    {
     "data": {
      "text/plain": [
       "array([[[-0.       ,  0.       ,  0.       , ...,  0.       ,\n",
       "          0.       ,  0.       ],\n",
       "        [ 0.       , -0.       , -0.       , ..., -0.       ,\n",
       "          0.       ,  3.5082376],\n",
       "        [ 0.       , -0.       , -0.       , ..., -0.       ,\n",
       "         -0.       , -0.       ],\n",
       "        ...,\n",
       "        [ 0.       ,  0.       ,  0.       , ..., -0.       ,\n",
       "          0.       ,  0.       ],\n",
       "        [-0.       , -0.       , -0.       , ...,  0.       ,\n",
       "          0.       ,  0.       ],\n",
       "        [ 0.       ,  0.       ,  0.       , ...,  0.       ,\n",
       "          0.       ,  0.       ]],\n",
       "\n",
       "       [[ 0.       ,  0.       ,  0.       , ...,  0.       ,\n",
       "         -0.       ,  0.       ],\n",
       "        [ 0.       , -0.       , -0.       , ..., -0.       ,\n",
       "         -0.       , -0.       ],\n",
       "        [-0.       , -0.       ,  0.       , ...,  0.       ,\n",
       "         -0.       , -0.       ],\n",
       "        ...,\n",
       "        [ 0.       ,  0.       ,  0.       , ..., -0.       ,\n",
       "         -0.       ,  0.       ],\n",
       "        [ 0.       , -0.       ,  0.       , ...,  0.       ,\n",
       "          0.       , -0.       ],\n",
       "        [ 0.       , -0.       , -0.       , ...,  0.       ,\n",
       "          0.       ,  0.       ]],\n",
       "\n",
       "       [[ 0.       , -0.       , -0.       , ...,  0.       ,\n",
       "          0.       , -0.       ],\n",
       "        [-0.       ,  0.       ,  0.       , ..., -0.       ,\n",
       "         -0.       ,  0.       ],\n",
       "        [-0.       ,  0.       ,  0.       , ...,  0.       ,\n",
       "         -0.       ,  0.       ],\n",
       "        ...,\n",
       "        [-0.       ,  0.       , -0.       , ...,  0.       ,\n",
       "         -0.       , -0.       ],\n",
       "        [-0.       , -0.       ,  0.       , ..., -0.       ,\n",
       "          0.       ,  0.       ],\n",
       "        [-0.       ,  0.       ,  0.       , ...,  0.       ,\n",
       "         -0.       ,  0.       ]],\n",
       "\n",
       "       ...,\n",
       "\n",
       "       [[ 0.       ,  0.       , -0.       , ..., -0.       ,\n",
       "          0.       , -0.       ],\n",
       "        [ 0.       , -0.       ,  0.       , ...,  0.       ,\n",
       "          0.       ,  0.       ],\n",
       "        [-0.       ,  0.       ,  0.       , ..., -0.       ,\n",
       "         -0.       , -0.       ],\n",
       "        ...,\n",
       "        [-0.       ,  0.       ,  0.       , ..., -0.       ,\n",
       "          0.       , -0.       ],\n",
       "        [-0.       ,  0.       ,  0.       , ..., -0.       ,\n",
       "         -0.       ,  0.       ],\n",
       "        [-0.       ,  0.       , -0.       , ...,  0.       ,\n",
       "         -0.       , -0.       ]],\n",
       "\n",
       "       [[-0.       ,  0.       , -0.       , ..., -0.       ,\n",
       "          0.       ,  0.       ],\n",
       "        [-0.       , -0.       ,  0.       , ..., -0.       ,\n",
       "          0.       , -0.       ],\n",
       "        [-0.       , -0.       , -0.       , ...,  0.       ,\n",
       "         -0.       ,  0.       ],\n",
       "        ...,\n",
       "        [ 0.       , -0.       , -0.       , ..., -0.       ,\n",
       "          0.       ,  0.       ],\n",
       "        [ 0.       ,  0.       ,  0.       , ...,  0.       ,\n",
       "         -0.       ,  0.       ],\n",
       "        [ 0.       ,  0.       ,  0.       , ..., -0.       ,\n",
       "          0.       ,  0.       ]],\n",
       "\n",
       "       [[ 0.       , -0.       , -0.       , ..., -0.       ,\n",
       "         -0.       ,  0.       ],\n",
       "        [-0.       , -0.       ,  0.       , ..., -0.       ,\n",
       "         -0.       , -0.       ],\n",
       "        [ 0.       ,  0.       ,  0.       , ...,  0.       ,\n",
       "          0.       , -0.       ],\n",
       "        ...,\n",
       "        [ 0.       , -0.       , -0.       , ..., -0.       ,\n",
       "          0.       , -0.       ],\n",
       "        [ 0.       , -0.       , -0.       , ..., -0.       ,\n",
       "          0.       ,  0.       ],\n",
       "        [ 0.       , -0.       , -0.       , ...,  0.       ,\n",
       "         -0.       ,  0.       ]]], dtype=float32)"
      ]
     },
     "execution_count": 46,
     "metadata": {},
     "output_type": "execute_result"
    }
   ],
   "source": [
    "analysis.pixels_to_patch=xes.pixels_to_patch\n",
    "analysis.filter_detector_adu(f,'epix',adu_threshold=xes.adu_cutoff)"
   ]
  },
  {
   "cell_type": "code",
   "execution_count": 48,
   "id": "4b28e57f-f2ad-4ca4-9924-cbb9ca2959e5",
   "metadata": {},
   "outputs": [],
   "source": [
    "for fil in xes.filters:\n",
    "    analysis.filter_shots(f,fil['FilterType'],fil['FilterKey'],fil['FilterThreshold'])"
   ]
  },
  {
   "cell_type": "code",
   "execution_count": 51,
   "id": "5bc270cd-1912-47a2-ab72-4817f8794ca7",
   "metadata": {
    "scrolled": true
   },
   "outputs": [
    {
     "name": "stdout",
     "output_type": "stream",
     "text": [
      "----- METHODS -----\n",
      "('__init__', <bound method spectroscopy_run.__init__ of <XSpect.XSpect_Analysis.spectroscopy_run object at 0x7fbcdc128490>>)\n",
      "('close_h5', <bound method spectroscopy_run.close_h5 of <XSpect.XSpect_Analysis.spectroscopy_run object at 0x7fbcdc128490>>)\n",
      "('get_run_shot_properties', <bound method spectroscopy_run.get_run_shot_properties of <XSpect.XSpect_Analysis.spectroscopy_run object at 0x7fbcdc128490>>)\n",
      "('get_scan_val', <bound method spectroscopy_run.get_scan_val of <XSpect.XSpect_Analysis.spectroscopy_run object at 0x7fbcdc128490>>)\n",
      "('load_run_key_delayed', <bound method spectroscopy_run.load_run_key_delayed of <XSpect.XSpect_Analysis.spectroscopy_run object at 0x7fbcdc128490>>)\n",
      "('load_run_keys', <bound method spectroscopy_run.load_run_keys of <XSpect.XSpect_Analysis.spectroscopy_run object at 0x7fbcdc128490>>)\n",
      "('load_sum_run_scattering', <bound method spectroscopy_run.load_sum_run_scattering of <XSpect.XSpect_Analysis.spectroscopy_run object at 0x7fbcdc128490>>)\n",
      "('purge_all_keys', <bound method spectroscopy_run.purge_all_keys of <XSpect.XSpect_Analysis.spectroscopy_run object at 0x7fbcdc128490>>)\n",
      "('set_arbitrary_filter', <bound method spectroscopy_run.set_arbitrary_filter of <XSpect.XSpect_Analysis.spectroscopy_run object at 0x7fbcdc128490>>)\n",
      "('update_status', <bound method spectroscopy_run.update_status of <XSpect.XSpect_Analysis.spectroscopy_run object at 0x7fbcdc128490>>)\n",
      "----- ATTRIBUTES -----\n",
      "spec_experiment : <XSpect.XSpect_Analysis.spectroscopy_experiment object at 0x7fbd1c0f6700>\n",
      "run_number : 306\n",
      "run_file : /sdf/data/lcls/ds/xcs/xcs100861524/hdf5/smalldata/xcs100861524_Run0306.h5\n",
      "status : ['New analysis of run 306 located in: /sdf/data/lcls/ds/xcs/xcs100861524/hdf5/smalldata/xcs100861524_Run0306.h5', \"Key does not exist: Unable to synchronously open object (object 'ccm_E_setpoint' doesn't exist)\", 'HDF5 import of keys completed. Time: 0.01 seconds', 'HDF5 import of keys completed. Time: 2.01 seconds', \"Key does not exist: Unable to synchronously open object (object 'ccm_E_setpoint' doesn't exist)\", 'HDF5 import of keys completed. Time: 0.02 seconds', 'HDF5 import of keys completed. Time: 2.01 seconds', 'Obtained shot properties', 'Key: epix has been adu filtered by threshold: 3.000000', 'Mask: xray has been filtered on ipm by minimum threshold: 200000.000\\nShots removed: 5', 'Mask: simultaneous has been filtered on ipm by minimum threshold: 200000.000\\nShots removed: 4', 'Mask: simultaneous has been filtered on time_tool_ampl by minimum threshold: 0.050\\nShots removed: 0']\n",
      "status_datetime : ['2025-05-03 11:31:16', '2025-05-03 11:31:20', '2025-05-03 11:31:20', '2025-05-03 11:31:22', '2025-05-03 11:54:27', '2025-05-03 11:54:27', '2025-05-03 11:54:29', '2025-05-03 11:54:29', '2025-05-03 12:15:22', '2025-05-03 12:16:19', '2025-05-03 12:16:19', '2025-05-03 12:16:19']\n",
      "verbose : False\n",
      "end_index : 5000\n",
      "start_index : 0\n",
      "ccm : [12.07364909 12.07364909 12.07364909 ... 12.07364909 12.07364909\n",
      " 12.07364909]\n",
      "time_tool_correction : [ 1.68635266e-01  1.31297917e-02  0.00000000e+00 ...  0.00000000e+00\n",
      "  3.19701560e-01 -1.62563956e-04]\n",
      "lxt_ttc : [0. 0. 0. ... 0. 0. 0.]\n",
      "encoder : [0.00760528 0.00760528 0.00760528 ... 4.68965705 4.55609762 4.42293847]\n",
      "ipm : [846997.875 862280.625 869040.375 ... 818609.75  893142.    884230.625]\n",
      "time_tool_ampl : [0.35969945 0.36151491 0.         ... 0.         0.45171615 0.45000825]\n",
      "epix : [[[-0.         0.         0.        ...  0.         0.         0.       ]\n",
      "  [ 0.        -0.        -0.        ... -0.         0.         3.5082376]\n",
      "  [ 0.        -0.        -0.        ... -0.        -0.        -0.       ]\n",
      "  ...\n",
      "  [ 0.         0.         0.        ... -0.         0.         0.       ]\n",
      "  [-0.        -0.        -0.        ...  0.         0.         0.       ]\n",
      "  [ 0.         0.         0.        ...  0.         0.         0.       ]]\n",
      "\n",
      " [[ 0.         0.         0.        ...  0.        -0.         0.       ]\n",
      "  [ 0.        -0.        -0.        ... -0.        -0.        -0.       ]\n",
      "  [-0.        -0.         0.        ...  0.        -0.        -0.       ]\n",
      "  ...\n",
      "  [ 0.         0.         0.        ... -0.        -0.         0.       ]\n",
      "  [ 0.        -0.         0.        ...  0.         0.        -0.       ]\n",
      "  [ 0.        -0.        -0.        ...  0.         0.         0.       ]]\n",
      "\n",
      " [[ 0.        -0.        -0.        ...  0.         0.        -0.       ]\n",
      "  [-0.         0.         0.        ... -0.        -0.         0.       ]\n",
      "  [-0.         0.         0.        ...  0.        -0.         0.       ]\n",
      "  ...\n",
      "  [-0.         0.        -0.        ...  0.        -0.        -0.       ]\n",
      "  [-0.        -0.         0.        ... -0.         0.         0.       ]\n",
      "  [-0.         0.         0.        ...  0.        -0.         0.       ]]\n",
      "\n",
      " ...\n",
      "\n",
      " [[ 0.         0.        -0.        ... -0.         0.        -0.       ]\n",
      "  [ 0.        -0.         0.        ...  0.         0.         0.       ]\n",
      "  [-0.         0.         0.        ... -0.        -0.        -0.       ]\n",
      "  ...\n",
      "  [-0.         0.         0.        ... -0.         0.        -0.       ]\n",
      "  [-0.         0.         0.        ... -0.        -0.         0.       ]\n",
      "  [-0.         0.        -0.        ...  0.        -0.        -0.       ]]\n",
      "\n",
      " [[-0.         0.        -0.        ... -0.         0.         0.       ]\n",
      "  [-0.        -0.         0.        ... -0.         0.        -0.       ]\n",
      "  [-0.        -0.        -0.        ...  0.        -0.         0.       ]\n",
      "  ...\n",
      "  [ 0.        -0.        -0.        ... -0.         0.         0.       ]\n",
      "  [ 0.         0.         0.        ...  0.        -0.         0.       ]\n",
      "  [ 0.         0.         0.        ... -0.         0.         0.       ]]\n",
      "\n",
      " [[ 0.        -0.        -0.        ... -0.        -0.         0.       ]\n",
      "  [-0.        -0.         0.        ... -0.        -0.        -0.       ]\n",
      "  [ 0.         0.         0.        ...  0.         0.        -0.       ]\n",
      "  ...\n",
      "  [ 0.        -0.        -0.        ... -0.         0.        -0.       ]\n",
      "  [ 0.        -0.        -0.        ... -0.         0.         0.       ]\n",
      "  [ 0.        -0.        -0.        ...  0.        -0.         0.       ]]]\n",
      "h5 : <HDF5 file \"xcs100861524_Run0306.h5\" (mode r)>\n",
      "total_shots : 5000\n",
      "xray : [1 1 1 ... 1 1 1]\n",
      "laser : [1 1 0 ... 0 1 1]\n",
      "simultaneous : [ True  True False ... False  True  True]\n",
      "run_shots : {'Total': 5000, 'X-ray Total': 4964, 'Laser Total': 3572}\n"
     ]
    }
   ],
   "source": [
    "object_inspector(f)"
   ]
  },
  {
   "cell_type": "code",
   "execution_count": 56,
   "id": "acbe69c6-6061-4d46-9d90-54a09ce191a7",
   "metadata": {},
   "outputs": [],
   "source": [
    "analysis.union_shots(f,'epix',['simultaneous','laser'])\n",
    "analysis.separate_shots(f,'epix',['xray','laser'])"
   ]
  },
  {
   "cell_type": "code",
   "execution_count": 59,
   "id": "153cd6d7-097c-4313-8251-6f9501bd2ae4",
   "metadata": {},
   "outputs": [],
   "source": [
    "analysis.time_binning(f,xes.time_bins,lxt_key=xes.lxt_key)\n",
    "analysis.union_shots(f,'timing_bin_indices',['simultaneous','laser'])\n",
    "analysis.separate_shots(f,'timing_bin_indices',['xray','laser'])"
   ]
  },
  {
   "cell_type": "code",
   "execution_count": 64,
   "id": "3e334f71-4df4-432f-ad53-023f8011770b",
   "metadata": {},
   "outputs": [],
   "source": [
    "analysis.reduce_detector_temporal(f,'epix_simultaneous_laser','timing_bin_indices_simultaneous_laser',average=False)\n",
    "analysis.reduce_detector_temporal(f,'epix_xray_not_laser','timing_bin_indices_xray_not_laser',average=False)"
   ]
  },
  {
   "cell_type": "code",
   "execution_count": 66,
   "id": "a20d3a0c-d5cd-424a-af6a-2a75e4660ed9",
   "metadata": {},
   "outputs": [],
   "source": [
    "analysis.reduce_detector_spatial(f,'epix_simultaneous_laser_time_binned', rois=xes.rois)\n",
    "analysis.reduce_detector_spatial(f,'epix_xray_not_laser_time_binned', rois=xes.rois)"
   ]
  },
  {
   "cell_type": "code",
   "execution_count": 67,
   "id": "88799a9c-e8d6-4d37-a028-97bb9d14c7ef",
   "metadata": {
    "scrolled": true
   },
   "outputs": [
    {
     "name": "stdout",
     "output_type": "stream",
     "text": [
      "----- METHODS -----\n",
      "('__init__', <bound method spectroscopy_run.__init__ of <XSpect.XSpect_Analysis.spectroscopy_run object at 0x7fbcdc128490>>)\n",
      "('close_h5', <bound method spectroscopy_run.close_h5 of <XSpect.XSpect_Analysis.spectroscopy_run object at 0x7fbcdc128490>>)\n",
      "('get_run_shot_properties', <bound method spectroscopy_run.get_run_shot_properties of <XSpect.XSpect_Analysis.spectroscopy_run object at 0x7fbcdc128490>>)\n",
      "('get_scan_val', <bound method spectroscopy_run.get_scan_val of <XSpect.XSpect_Analysis.spectroscopy_run object at 0x7fbcdc128490>>)\n",
      "('load_run_key_delayed', <bound method spectroscopy_run.load_run_key_delayed of <XSpect.XSpect_Analysis.spectroscopy_run object at 0x7fbcdc128490>>)\n",
      "('load_run_keys', <bound method spectroscopy_run.load_run_keys of <XSpect.XSpect_Analysis.spectroscopy_run object at 0x7fbcdc128490>>)\n",
      "('load_sum_run_scattering', <bound method spectroscopy_run.load_sum_run_scattering of <XSpect.XSpect_Analysis.spectroscopy_run object at 0x7fbcdc128490>>)\n",
      "('purge_all_keys', <bound method spectroscopy_run.purge_all_keys of <XSpect.XSpect_Analysis.spectroscopy_run object at 0x7fbcdc128490>>)\n",
      "('set_arbitrary_filter', <bound method spectroscopy_run.set_arbitrary_filter of <XSpect.XSpect_Analysis.spectroscopy_run object at 0x7fbcdc128490>>)\n",
      "('update_status', <bound method spectroscopy_run.update_status of <XSpect.XSpect_Analysis.spectroscopy_run object at 0x7fbcdc128490>>)\n",
      "----- ATTRIBUTES -----\n",
      "spec_experiment : <XSpect.XSpect_Analysis.spectroscopy_experiment object at 0x7fbd1c0f6700>\n",
      "run_number : 306\n",
      "run_file : /sdf/data/lcls/ds/xcs/xcs100861524/hdf5/smalldata/xcs100861524_Run0306.h5\n",
      "status : ['New analysis of run 306 located in: /sdf/data/lcls/ds/xcs/xcs100861524/hdf5/smalldata/xcs100861524_Run0306.h5', \"Key does not exist: Unable to synchronously open object (object 'ccm_E_setpoint' doesn't exist)\", 'HDF5 import of keys completed. Time: 0.01 seconds', 'HDF5 import of keys completed. Time: 2.01 seconds', \"Key does not exist: Unable to synchronously open object (object 'ccm_E_setpoint' doesn't exist)\", 'HDF5 import of keys completed. Time: 0.02 seconds', 'HDF5 import of keys completed. Time: 2.01 seconds', 'Obtained shot properties', 'Key: epix has been adu filtered by threshold: 3.000000', 'Mask: xray has been filtered on ipm by minimum threshold: 200000.000\\nShots removed: 5', 'Mask: simultaneous has been filtered on ipm by minimum threshold: 200000.000\\nShots removed: 4', 'Mask: simultaneous has been filtered on time_tool_ampl by minimum threshold: 0.050\\nShots removed: 0', 'Shots combined for detector epix on filters: simultaneous and laser into epix_simultaneous_laser', 'Shots combined for detector epix on filters: simultaneous and laser into epix_simultaneous_laser', 'Shots (1417) separated for detector epix on filters: xray and laser into epix_xray_laser', 'Shots combined for detector epix on filters: simultaneous and laser into epix_simultaneous_laser', 'Shots (1417) separated for detector epix on filters: xray and laser into epix_xray_laser', 'Generated timing bins from -10.000000 to 70.000000 in 25 steps.', 'Shots combined for detector timing_bin_indices on filters: simultaneous and laser into timing_bin_indices_simultaneous_laser', 'Shots (1417) separated for detector timing_bin_indices on filters: xray and laser into timing_bin_indices_xray_laser', 'Detector epix_simultaneous_laser binned in time into key: epix_simultaneous_laser_time_binned from detector shape: (3542, 700, 210) to reduced shape: (26, 700, 210)', 'Detector epix_xray_not_laser binned in time into key: epix_xray_not_laser_time_binned from detector shape: (1417, 700, 210) to reduced shape: (26, 700, 210)', 'Spatially reduced detector: epix_simultaneous_laser_time_binned with combined ROI indices: 95-125', 'Purged key after spatial reduction to save room: epix_simultaneous_laser_time_binned', 'Spatially reduced detector: epix_xray_not_laser_time_binned with combined ROI indices: 95-125', 'Purged key after spatial reduction to save room: epix_xray_not_laser_time_binned']\n",
      "status_datetime : ['2025-05-03 11:31:16', '2025-05-03 11:31:20', '2025-05-03 11:31:20', '2025-05-03 11:31:22', '2025-05-03 11:54:27', '2025-05-03 11:54:27', '2025-05-03 11:54:29', '2025-05-03 11:54:29', '2025-05-03 12:15:22', '2025-05-03 12:16:19', '2025-05-03 12:16:19', '2025-05-03 12:16:19', '2025-05-03 12:28:56', '2025-05-03 12:29:59', '2025-05-03 12:29:59', '2025-05-03 12:31:06', '2025-05-03 12:31:06', '2025-05-03 12:31:42', '2025-05-03 12:31:42', '2025-05-03 12:31:42', '2025-05-03 12:35:26', '2025-05-03 12:36:06', '2025-05-03 12:49:04', '2025-05-03 12:49:04', '2025-05-03 12:49:04', '2025-05-03 12:49:04']\n",
      "verbose : False\n",
      "end_index : 5000\n",
      "start_index : 0\n",
      "ccm : [12.07364909 12.07364909 12.07364909 ... 12.07364909 12.07364909\n",
      " 12.07364909]\n",
      "time_tool_correction : [ 1.68635266e-01  1.31297917e-02  0.00000000e+00 ...  0.00000000e+00\n",
      "  3.19701560e-01 -1.62563956e-04]\n",
      "lxt_ttc : [0. 0. 0. ... 0. 0. 0.]\n",
      "encoder : [0.00760528 0.00760528 0.00760528 ... 4.68965705 4.55609762 4.42293847]\n",
      "ipm : [846997.875 862280.625 869040.375 ... 818609.75  893142.    884230.625]\n",
      "time_tool_ampl : [0.35969945 0.36151491 0.         ... 0.         0.45171615 0.45000825]\n",
      "epix : [[[-0.         0.         0.        ...  0.         0.         0.       ]\n",
      "  [ 0.        -0.        -0.        ... -0.         0.         3.5082376]\n",
      "  [ 0.        -0.        -0.        ... -0.        -0.        -0.       ]\n",
      "  ...\n",
      "  [ 0.         0.         0.        ... -0.         0.         0.       ]\n",
      "  [-0.        -0.        -0.        ...  0.         0.         0.       ]\n",
      "  [ 0.         0.         0.        ...  0.         0.         0.       ]]\n",
      "\n",
      " [[ 0.         0.         0.        ...  0.        -0.         0.       ]\n",
      "  [ 0.        -0.        -0.        ... -0.        -0.        -0.       ]\n",
      "  [-0.        -0.         0.        ...  0.        -0.        -0.       ]\n",
      "  ...\n",
      "  [ 0.         0.         0.        ... -0.        -0.         0.       ]\n",
      "  [ 0.        -0.         0.        ...  0.         0.        -0.       ]\n",
      "  [ 0.        -0.        -0.        ...  0.         0.         0.       ]]\n",
      "\n",
      " [[ 0.        -0.        -0.        ...  0.         0.        -0.       ]\n",
      "  [-0.         0.         0.        ... -0.        -0.         0.       ]\n",
      "  [-0.         0.         0.        ...  0.        -0.         0.       ]\n",
      "  ...\n",
      "  [-0.         0.        -0.        ...  0.        -0.        -0.       ]\n",
      "  [-0.        -0.         0.        ... -0.         0.         0.       ]\n",
      "  [-0.         0.         0.        ...  0.        -0.         0.       ]]\n",
      "\n",
      " ...\n",
      "\n",
      " [[ 0.         0.        -0.        ... -0.         0.        -0.       ]\n",
      "  [ 0.        -0.         0.        ...  0.         0.         0.       ]\n",
      "  [-0.         0.         0.        ... -0.        -0.        -0.       ]\n",
      "  ...\n",
      "  [-0.         0.         0.        ... -0.         0.        -0.       ]\n",
      "  [-0.         0.         0.        ... -0.        -0.         0.       ]\n",
      "  [-0.         0.        -0.        ...  0.        -0.        -0.       ]]\n",
      "\n",
      " [[-0.         0.        -0.        ... -0.         0.         0.       ]\n",
      "  [-0.        -0.         0.        ... -0.         0.        -0.       ]\n",
      "  [-0.        -0.        -0.        ...  0.        -0.         0.       ]\n",
      "  ...\n",
      "  [ 0.        -0.        -0.        ... -0.         0.         0.       ]\n",
      "  [ 0.         0.         0.        ...  0.        -0.         0.       ]\n",
      "  [ 0.         0.         0.        ... -0.         0.         0.       ]]\n",
      "\n",
      " [[ 0.        -0.        -0.        ... -0.        -0.         0.       ]\n",
      "  [-0.        -0.         0.        ... -0.        -0.        -0.       ]\n",
      "  [ 0.         0.         0.        ...  0.         0.        -0.       ]\n",
      "  ...\n",
      "  [ 0.        -0.        -0.        ... -0.         0.        -0.       ]\n",
      "  [ 0.        -0.        -0.        ... -0.         0.         0.       ]\n",
      "  [ 0.        -0.        -0.        ...  0.        -0.         0.       ]]]\n",
      "h5 : <HDF5 file \"xcs100861524_Run0306.h5\" (mode r)>\n",
      "total_shots : 5000\n",
      "xray : [1 1 1 ... 1 1 1]\n",
      "laser : [1 1 0 ... 0 1 1]\n",
      "simultaneous : [ True  True False ... False  True  True]\n",
      "run_shots : {'Total': 5000, 'X-ray Total': 4964, 'Laser Total': 3572}\n",
      "epix_simultaneous_laser : [[[-0.         0.         0.        ...  0.         0.         0.       ]\n",
      "  [ 0.        -0.        -0.        ... -0.         0.         3.5082376]\n",
      "  [ 0.        -0.        -0.        ... -0.        -0.        -0.       ]\n",
      "  ...\n",
      "  [ 0.         0.         0.        ... -0.         0.         0.       ]\n",
      "  [-0.        -0.        -0.        ...  0.         0.         0.       ]\n",
      "  [ 0.         0.         0.        ...  0.         0.         0.       ]]\n",
      "\n",
      " [[ 0.         0.         0.        ...  0.        -0.         0.       ]\n",
      "  [ 0.        -0.        -0.        ... -0.        -0.        -0.       ]\n",
      "  [-0.        -0.         0.        ...  0.        -0.        -0.       ]\n",
      "  ...\n",
      "  [ 0.         0.         0.        ... -0.        -0.         0.       ]\n",
      "  [ 0.        -0.         0.        ...  0.         0.        -0.       ]\n",
      "  [ 0.        -0.        -0.        ...  0.         0.         0.       ]]\n",
      "\n",
      " [[-0.         0.         0.        ...  0.        -0.        -0.       ]\n",
      "  [-0.        -0.        -0.        ... -0.        -0.        -0.       ]\n",
      "  [-0.         0.         0.        ...  0.         0.         0.       ]\n",
      "  ...\n",
      "  [-0.        -0.         0.        ... -0.         0.         0.       ]\n",
      "  [ 0.        -0.         0.        ... -0.         0.        -0.       ]\n",
      "  [-0.        -0.        -0.        ... -0.        -0.         0.       ]]\n",
      "\n",
      " ...\n",
      "\n",
      " [[ 0.         0.        -0.        ...  0.        -0.         0.       ]\n",
      "  [ 0.         0.         0.        ...  0.        -0.        -0.       ]\n",
      "  [ 0.         0.        -0.        ... -0.         0.         0.       ]\n",
      "  ...\n",
      "  [-0.        -0.        -0.        ... -0.         0.         0.       ]\n",
      "  [ 0.        -0.        -0.        ...  0.        -0.         0.       ]\n",
      "  [-0.        -0.         0.        ...  0.        -0.        -0.       ]]\n",
      "\n",
      " [[-0.         0.        -0.        ... -0.         0.         0.       ]\n",
      "  [-0.        -0.         0.        ... -0.         0.        -0.       ]\n",
      "  [-0.        -0.        -0.        ...  0.        -0.         0.       ]\n",
      "  ...\n",
      "  [ 0.        -0.        -0.        ... -0.         0.         0.       ]\n",
      "  [ 0.         0.         0.        ...  0.        -0.         0.       ]\n",
      "  [ 0.         0.         0.        ... -0.         0.         0.       ]]\n",
      "\n",
      " [[ 0.        -0.        -0.        ... -0.        -0.         0.       ]\n",
      "  [-0.        -0.         0.        ... -0.        -0.        -0.       ]\n",
      "  [ 0.         0.         0.        ...  0.         0.        -0.       ]\n",
      "  ...\n",
      "  [ 0.        -0.        -0.        ... -0.         0.        -0.       ]\n",
      "  [ 0.        -0.        -0.        ... -0.         0.         0.       ]\n",
      "  [ 0.        -0.        -0.        ...  0.        -0.         0.       ]]]\n",
      "epix_xray_not_laser : [[[ 0. -0. -0. ...  0.  0. -0.]\n",
      "  [-0.  0.  0. ... -0. -0.  0.]\n",
      "  [-0.  0.  0. ...  0. -0.  0.]\n",
      "  ...\n",
      "  [-0.  0. -0. ...  0. -0. -0.]\n",
      "  [-0. -0.  0. ... -0.  0.  0.]\n",
      "  [-0.  0.  0. ...  0. -0.  0.]]\n",
      "\n",
      " [[-0. -0.  0. ... -0.  0. -0.]\n",
      "  [-0. -0. -0. ...  0.  0.  0.]\n",
      "  [ 0. -0. -0. ...  0.  0.  0.]\n",
      "  ...\n",
      "  [-0.  0. -0. ...  0.  0.  0.]\n",
      "  [-0. -0. -0. ...  0.  0. -0.]\n",
      "  [ 0. -0. -0. ... -0.  0. -0.]]\n",
      "\n",
      " [[ 0.  0.  0. ...  0.  0.  0.]\n",
      "  [-0. -0.  0. ...  0.  0. -0.]\n",
      "  [-0. -0.  0. ...  0. -0. -0.]\n",
      "  ...\n",
      "  [-0. -0.  0. ... -0. -0. -0.]\n",
      "  [ 0.  0. -0. ... -0.  0. -0.]\n",
      "  [-0.  0. -0. ...  0. -0. -0.]]\n",
      "\n",
      " ...\n",
      "\n",
      " [[-0. -0.  0. ... -0. -0. -0.]\n",
      "  [-0. -0.  0. ... -0.  0. -0.]\n",
      "  [ 0.  0. -0. ...  0. -0.  0.]\n",
      "  ...\n",
      "  [ 0.  0. -0. ...  0. -0. -0.]\n",
      "  [-0. -0.  0. ... -0.  0.  0.]\n",
      "  [-0. -0. -0. ... -0. -0.  0.]]\n",
      "\n",
      " [[-0.  0. -0. ...  0. -0. -0.]\n",
      "  [-0. -0. -0. ... -0.  0. -0.]\n",
      "  [-0.  0.  0. ...  0.  0.  0.]\n",
      "  ...\n",
      "  [ 0. -0.  0. ...  0.  0. -0.]\n",
      "  [-0. -0.  0. ... -0. -0.  0.]\n",
      "  [ 0. -0.  0. ... -0.  0. -0.]]\n",
      "\n",
      " [[ 0.  0. -0. ... -0.  0. -0.]\n",
      "  [ 0. -0.  0. ...  0.  0.  0.]\n",
      "  [-0.  0.  0. ... -0. -0. -0.]\n",
      "  ...\n",
      "  [-0.  0.  0. ... -0.  0. -0.]\n",
      "  [-0.  0.  0. ... -0. -0.  0.]\n",
      "  [-0.  0. -0. ...  0. -0. -0.]]]\n",
      "delays : [0.17624055 0.02073507 0.00760528 ... 4.68965705 4.87579918 4.42277591]\n",
      "time_bins : [-10.          -6.66666667  -3.33333333   0.           3.33333333\n",
      "   6.66666667  10.          13.33333333  16.66666667  20.\n",
      "  23.33333333  26.66666667  30.          33.33333333  36.66666667\n",
      "  40.          43.33333333  46.66666667  50.          53.33333333\n",
      "  56.66666667  60.          63.33333333  66.66666667  70.        ]\n",
      "timing_bin_indices : [4 4 4 ... 5 5 5]\n",
      "timing_bin_indices_simultaneous_laser : [4 4 4 ... 5 5 5]\n",
      "timing_bin_indices_xray_not_laser : [4 3 3 ... 5 5 5]\n",
      "epix_simultaneous_laser_time_binned : None\n",
      "epix_xray_not_laser_time_binned : None\n",
      "epix_simultaneous_laser_time_binned_ROI_1 : [[  0.           0.           0.         ...  26.02727437  22.78464127\n",
      "   16.18348503]\n",
      " [ 32.59035492  22.14708281   9.72272706 ... 413.36741924 437.33079457\n",
      "  446.57438827]\n",
      " [ 16.65083599  22.76126647  48.99193978 ... 325.44018102 328.62757015\n",
      "  278.84311676]\n",
      " ...\n",
      " [ 39.23120189  35.70530701  34.69755316 ... 362.87248468 316.90869904\n",
      "  321.8623848 ]\n",
      " [ 35.48707151  50.09600282  24.44658804 ... 273.4160769  315.69961691\n",
      "  400.1605103 ]\n",
      " [ 17.88580227   4.66189098  29.83536744 ... 221.35647893 178.69562793\n",
      "  183.00242901]]\n",
      "epix_xray_not_laser_time_binned_ROI_1 : [[  0.           0.           0.         ...   0.           0.\n",
      "    0.        ]\n",
      " [ 22.69776678  27.38017988  12.57910872 ... 243.25444508 220.53292251\n",
      "  179.46430397]\n",
      " [ 15.28332925   3.15638924  10.09515715 ... 117.32835865  85.43968153\n",
      "  102.33253765]\n",
      " ...\n",
      " [ 21.76454973  14.96052241  19.58884549 ... 130.18379807 156.06978583\n",
      "   75.09231949]\n",
      " [ 20.20649529  14.62198138   4.60744524 ...  90.64549541 119.56914496\n",
      "  153.68306088]\n",
      " [ 19.88738394   0.           0.         ...  73.2832346   91.45737863\n",
      "   66.12940478]]\n"
     ]
    }
   ],
   "source": [
    "object_inspector(f)"
   ]
  },
  {
   "cell_type": "code",
   "execution_count": 70,
   "id": "38b591d2-ead9-44ff-8ec5-1daf0780442b",
   "metadata": {},
   "outputs": [],
   "source": [
    "analysis.make_energy_axis(f,f.epix_xray_not_laser_time_binned_ROI_1.shape[1],d=xes.crystal_d_space,R=xes.crystal_radius,A=xes.crystal_detector_distance)"
   ]
  },
  {
   "cell_type": "code",
   "execution_count": 80,
   "id": "338b4900-0ca7-4178-a803-1c51ed694cf2",
   "metadata": {
    "scrolled": true
   },
   "outputs": [
    {
     "name": "stdout",
     "output_type": "stream",
     "text": [
      "----- METHODS -----\n",
      "('__init__', <bound method spectroscopy_run.__init__ of <XSpect.XSpect_Analysis.spectroscopy_run object at 0x7fbcdc128490>>)\n",
      "('close_h5', <bound method spectroscopy_run.close_h5 of <XSpect.XSpect_Analysis.spectroscopy_run object at 0x7fbcdc128490>>)\n",
      "('get_run_shot_properties', <bound method spectroscopy_run.get_run_shot_properties of <XSpect.XSpect_Analysis.spectroscopy_run object at 0x7fbcdc128490>>)\n",
      "('get_scan_val', <bound method spectroscopy_run.get_scan_val of <XSpect.XSpect_Analysis.spectroscopy_run object at 0x7fbcdc128490>>)\n",
      "('load_run_key_delayed', <bound method spectroscopy_run.load_run_key_delayed of <XSpect.XSpect_Analysis.spectroscopy_run object at 0x7fbcdc128490>>)\n",
      "('load_run_keys', <bound method spectroscopy_run.load_run_keys of <XSpect.XSpect_Analysis.spectroscopy_run object at 0x7fbcdc128490>>)\n",
      "('load_sum_run_scattering', <bound method spectroscopy_run.load_sum_run_scattering of <XSpect.XSpect_Analysis.spectroscopy_run object at 0x7fbcdc128490>>)\n",
      "('purge_all_keys', <bound method spectroscopy_run.purge_all_keys of <XSpect.XSpect_Analysis.spectroscopy_run object at 0x7fbcdc128490>>)\n",
      "('set_arbitrary_filter', <bound method spectroscopy_run.set_arbitrary_filter of <XSpect.XSpect_Analysis.spectroscopy_run object at 0x7fbcdc128490>>)\n",
      "('update_status', <bound method spectroscopy_run.update_status of <XSpect.XSpect_Analysis.spectroscopy_run object at 0x7fbcdc128490>>)\n",
      "----- ATTRIBUTES -----\n",
      "run_number : 306\n",
      "run_file : /sdf/data/lcls/ds/xcs/xcs100861524/hdf5/smalldata/xcs100861524_Run0306.h5\n",
      "status : ['New analysis of run 306 located in: /sdf/data/lcls/ds/xcs/xcs100861524/hdf5/smalldata/xcs100861524_Run0306.h5', \"Key does not exist: Unable to synchronously open object (object 'ccm_E_setpoint' doesn't exist)\", 'HDF5 import of keys completed. Time: 0.01 seconds', 'HDF5 import of keys completed. Time: 2.01 seconds', \"Key does not exist: Unable to synchronously open object (object 'ccm_E_setpoint' doesn't exist)\", 'HDF5 import of keys completed. Time: 0.02 seconds', 'HDF5 import of keys completed. Time: 2.01 seconds', 'Obtained shot properties', 'Key: epix has been adu filtered by threshold: 3.000000', 'Mask: xray has been filtered on ipm by minimum threshold: 200000.000\\nShots removed: 5', 'Mask: simultaneous has been filtered on ipm by minimum threshold: 200000.000\\nShots removed: 4', 'Mask: simultaneous has been filtered on time_tool_ampl by minimum threshold: 0.050\\nShots removed: 0', 'Shots combined for detector epix on filters: simultaneous and laser into epix_simultaneous_laser', 'Shots combined for detector epix on filters: simultaneous and laser into epix_simultaneous_laser', 'Shots (1417) separated for detector epix on filters: xray and laser into epix_xray_laser', 'Shots combined for detector epix on filters: simultaneous and laser into epix_simultaneous_laser', 'Shots (1417) separated for detector epix on filters: xray and laser into epix_xray_laser', 'Generated timing bins from -10.000000 to 70.000000 in 25 steps.', 'Shots combined for detector timing_bin_indices on filters: simultaneous and laser into timing_bin_indices_simultaneous_laser', 'Shots (1417) separated for detector timing_bin_indices on filters: xray and laser into timing_bin_indices_xray_laser', 'Detector epix_simultaneous_laser binned in time into key: epix_simultaneous_laser_time_binned from detector shape: (3542, 700, 210) to reduced shape: (26, 700, 210)', 'Detector epix_xray_not_laser binned in time into key: epix_xray_not_laser_time_binned from detector shape: (1417, 700, 210) to reduced shape: (26, 700, 210)', 'Spatially reduced detector: epix_simultaneous_laser_time_binned with combined ROI indices: 95-125', 'Purged key after spatial reduction to save room: epix_simultaneous_laser_time_binned', 'Spatially reduced detector: epix_xray_not_laser_time_binned with combined ROI indices: 95-125', 'Purged key after spatial reduction to save room: epix_xray_not_laser_time_binned', 'XES energy axis generated for kbeta']\n",
      "status_datetime : ['2025-05-03 11:31:16', '2025-05-03 11:31:20', '2025-05-03 11:31:20', '2025-05-03 11:31:22', '2025-05-03 11:54:27', '2025-05-03 11:54:27', '2025-05-03 11:54:29', '2025-05-03 11:54:29', '2025-05-03 12:15:22', '2025-05-03 12:16:19', '2025-05-03 12:16:19', '2025-05-03 12:16:19', '2025-05-03 12:28:56', '2025-05-03 12:29:59', '2025-05-03 12:29:59', '2025-05-03 12:31:06', '2025-05-03 12:31:06', '2025-05-03 12:31:42', '2025-05-03 12:31:42', '2025-05-03 12:31:42', '2025-05-03 12:35:26', '2025-05-03 12:36:06', '2025-05-03 12:49:04', '2025-05-03 12:49:04', '2025-05-03 12:49:04', '2025-05-03 12:49:04', '2025-05-03 12:57:47']\n",
      "verbose : False\n",
      "end_index : 5000\n",
      "start_index : 0\n",
      "epix_simultaneous_laser_time_binned_ROI_1 : [[  0.           0.           0.         ...  26.02727437  22.78464127\n",
      "   16.18348503]\n",
      " [ 32.59035492  22.14708281   9.72272706 ... 413.36741924 437.33079457\n",
      "  446.57438827]\n",
      " [ 16.65083599  22.76126647  48.99193978 ... 325.44018102 328.62757015\n",
      "  278.84311676]\n",
      " ...\n",
      " [ 39.23120189  35.70530701  34.69755316 ... 362.87248468 316.90869904\n",
      "  321.8623848 ]\n",
      " [ 35.48707151  50.09600282  24.44658804 ... 273.4160769  315.69961691\n",
      "  400.1605103 ]\n",
      " [ 17.88580227   4.66189098  29.83536744 ... 221.35647893 178.69562793\n",
      "  183.00242901]]\n",
      "epix_xray_not_laser_time_binned_ROI_1 : [[  0.           0.           0.         ...   0.           0.\n",
      "    0.        ]\n",
      " [ 22.69776678  27.38017988  12.57910872 ... 243.25444508 220.53292251\n",
      "  179.46430397]\n",
      " [ 15.28332925   3.15638924  10.09515715 ... 117.32835865  85.43968153\n",
      "  102.33253765]\n",
      " ...\n",
      " [ 21.76454973  14.96052241  19.58884549 ... 130.18379807 156.06978583\n",
      "   75.09231949]\n",
      " [ 20.20649529  14.62198138   4.60744524 ...  90.64549541 119.56914496\n",
      "  153.68306088]\n",
      " [ 19.88738394   0.           0.         ...  73.2832346   91.45737863\n",
      "   66.12940478]]\n"
     ]
    }
   ],
   "source": [
    "object_inspector(f)"
   ]
  },
  {
   "cell_type": "code",
   "execution_count": 76,
   "id": "81ea4bc2-dd76-47cb-88df-e28746b1c26f",
   "metadata": {},
   "outputs": [],
   "source": [
    "keys_to_save=['start_index','end_index','run_file','run_number','verbose','status','status_datetime','epix_xray_not_laser_time_binned_ROI_1','epix_simultaneous_laser_time_binned_ROI_1']\n",
    "f.purge_all_keys(keys_to_save)"
   ]
  },
  {
   "cell_type": "markdown",
   "id": "75582b57-30b6-44e7-8be5-6263cddc2ba0",
   "metadata": {},
   "source": [
    "### Final data\n",
    "- Looks like `primary_analysis` returns f to `primary_analysis_range` which returns object to `primary_analysis` as `result` which is appended to `analyzed_runs`list"
   ]
  },
  {
   "cell_type": "code",
   "execution_count": 82,
   "id": "e79978ed-5122-4222-83aa-2085a19293d5",
   "metadata": {},
   "outputs": [],
   "source": [
    "xes.analyzed_runs = f"
   ]
  },
  {
   "cell_type": "code",
   "execution_count": 93,
   "id": "47f18abd-b898-4404-a5bf-77422865ccd2",
   "metadata": {},
   "outputs": [
    {
     "data": {
      "text/plain": [
       "700"
      ]
     },
     "execution_count": 93,
     "metadata": {},
     "output_type": "execute_result"
    }
   ],
   "source": [
    "len(xes.analyzed_runs.epix_simultaneous_laser_time_binned_ROI_1[0,:])"
   ]
  },
  {
   "cell_type": "code",
   "execution_count": 105,
   "id": "175c9dc6-8467-42e8-81af-0d6300fa4984",
   "metadata": {},
   "outputs": [
    {
     "data": {
      "image/png": "[encoded data removed]",
      "text/plain": [
       "<Figure size 750x450 with 3 Axes>"
      ]
     },
     "metadata": {},
     "output_type": "display_data"
    }
   ],
   "source": [
    "plt.subplot(2, 2, 1)\n",
    "plt.imshow(xes.analyzed_runs.epix_xray_not_laser_time_binned_ROI_1, aspect='auto')\n",
    "plt.xlabel(\"Pixel\")\n",
    "plt.ylabel(\"Time bins\")\n",
    "plt.title(\"Laser Off\")\n",
    "\n",
    "\n",
    "plt.subplot(2, 2, 2)\n",
    "plt.imshow(xes.analyzed_runs.epix_simultaneous_laser_time_binned_ROI_1, aspect='auto')\n",
    "plt.xlabel(\"Pixel\")\n",
    "plt.ylabel(\"Time bins\")\n",
    "plt.title(\"Laser On\")\n",
    "\n",
    "plt.subplot(2, 2, (3,4))\n",
    "diff = xes.analyzed_runs.epix_simultaneous_laser_time_binned_ROI_1 - xes.analyzed_runs.epix_xray_not_laser_time_binned_ROI_1\n",
    "plt.imshow(diff, aspect = 'auto')\n",
    "plt.xlabel(\"Pixel\")\n",
    "plt.ylabel(\"Time bins\")\n",
    "plt.title(\"Diff\")\n",
    "\n",
    "plt.tight_layout()"
   ]
  },
  {
   "cell_type": "code",
   "execution_count": 114,
   "id": "c1a4cad7-34f2-42b5-a756-181c2de9edfc",
   "metadata": {},
   "outputs": [
    {
     "data": {
      "text/plain": [
       "[<matplotlib.lines.Line2D at 0x7fbcd0047fd0>]"
      ]
     },
     "execution_count": 114,
     "metadata": {},
     "output_type": "execute_result"
    },
    {
     "data": {
      "image/png": "[encoded data removed]",
      "text/plain": [
       "<Figure size 750x450 with 1 Axes>"
      ]
     },
     "metadata": {},
     "output_type": "display_data"
    }
   ],
   "source": [
    "plt.plot(diff[0, :])\n",
    "plt.plot(diff[1, :])\n",
    "plt.plot(diff[2, :])\n",
    "plt.plot(diff[3, :])"
   ]
  },
  {
   "cell_type": "code",
   "execution_count": null,
   "id": "f99b19d7-45fb-469b-a24b-8a7b30b2e7b6",
   "metadata": {},
   "outputs": [],
   "source": []
  }
 ],
 "metadata": {
  "kernelspec": {
   "display_name": "Python 3 (ipykernel)",
   "language": "python",
   "name": "python3"
  },
  "language_info": {
   "codemirror_mode": {
    "name": "ipython",
    "version": 3
   },
   "file_extension": ".py",
   "mimetype": "text/x-python",
   "name": "python",
   "nbconvert_exporter": "python",
   "pygments_lexer": "ipython3",
   "version": "3.9.20"
  }
 },
 "nbformat": 4,
 "nbformat_minor": 5
}
