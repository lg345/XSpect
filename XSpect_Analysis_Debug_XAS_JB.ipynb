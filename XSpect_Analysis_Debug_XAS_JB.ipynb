{
 "cells": [
  {
   "cell_type": "code",
   "execution_count": 1,
   "id": "041959d8-20a5-421a-9d20-ffbb5ee60381",
   "metadata": {},
   "outputs": [],
   "source": [
    "import h5py\n",
    "import psana\n",
    "import numpy as np\n",
    "import matplotlib.pyplot as plt\n",
    "from scipy.ndimage import rotate\n",
    "from scipy.interpolate import interp1d\n",
    "from scipy.optimize import curve_fit,minimize\n",
    "import multiprocessing\n",
    "import os\n",
    "from functools import partial\n",
    "import time\n",
    "import sys\n",
    "import argparse\n",
    "from datetime import datetime\n",
    "import tempfile\n",
    "\n",
    "sys.path.insert(0, './XSpecT/')\n",
    "import XSpect.XSpect_Analysis\n",
    "import XSpect.XSpect_Controller\n",
    "import XSpect.XSpect_Visualization\n",
    "import XSpect.XSpect_PostProcessing\n",
    "import XSpect.XSpect_Diagnostics\n",
    "\n",
    "import inspect"
   ]
  },
  {
   "cell_type": "code",
   "execution_count": 2,
   "id": "784ad735-d097-44cf-ab96-7437150fa18b",
   "metadata": {},
   "outputs": [],
   "source": [
    "def object_inspector(data_object, verbose=False):\n",
    "    if verbose==True:\n",
    "        print(\"------ ATTRIBUTE LIST ------\")\n",
    "        for x in dir(data_object):\n",
    "            print(x)\n",
    "        print(\"----- METHODS -----\")\n",
    "        for method in inspect.getmembers(data_object, predicate=inspect.ismethod):\n",
    "            print(method)\n",
    "        print(\"----- ATTRIBUTES -----\")\n",
    "        for key, value in vars(data_object).items():\n",
    "            print(key, \":\", value)\n",
    "    if verbose==False:\n",
    "        print(\"----- METHODS -----\")\n",
    "        for method in inspect.getmembers(data_object, predicate=inspect.ismethod):\n",
    "            print(method)\n",
    "        print(\"----- ATTRIBUTES -----\")\n",
    "        for key, value in vars(data_object).items():\n",
    "            print(key, \":\", value)"
   ]
  },
  {
   "cell_type": "code",
   "execution_count": 2,
   "id": "dae24e50-ff71-4c85-8968-c987a37f2487",
   "metadata": {},
   "outputs": [],
   "source": [
    "xas_experiment = XSpect.XSpect_Analysis.spectroscopy_experiment(lcls_run=24, hutch='xcs', experiment_id='xcs100864324')"
   ]
  },
  {
   "cell_type": "code",
   "execution_count": 4,
   "id": "8b9c6671-ac80-47f4-8fa8-f4469e4bc2d5",
   "metadata": {},
   "outputs": [
    {
     "name": "stdout",
     "output_type": "stream",
     "text": [
      "----- METHODS -----\n",
      "('__init__', <bound method spectroscopy_experiment.__init__ of <XSpect.XSpect_Analysis.spectroscopy_experiment object at 0x7f1ca0ed5fd0>>)\n",
      "('add_detector', <bound method spectroscopy_experiment.add_detector of <XSpect.XSpect_Analysis.spectroscopy_experiment object at 0x7f1ca0ed5fd0>>)\n",
      "('get_experiment_directory', <bound method experiment.get_experiment_directory of <XSpect.XSpect_Analysis.spectroscopy_experiment object at 0x7f1ca0ed5fd0>>)\n",
      "----- ATTRIBUTES -----\n",
      "lcls_run : 24\n",
      "hutch : xcs\n",
      "experiment_id : xcs100864324\n",
      "experiment_directory : /sdf/data/lcls/ds/xcs/xcs100864324/hdf5/smalldata\n"
     ]
    }
   ],
   "source": [
    "object_inspector(xas_experiment, verbose=False)"
   ]
  },
  {
   "cell_type": "code",
   "execution_count": 5,
   "id": "b754b84d-295d-4154-a9b2-6fcc0fc3fcce",
   "metadata": {},
   "outputs": [],
   "source": [
    "xas=XSpect.XSpect_Controller.XASBatchAnalysis()"
   ]
  },
  {
   "cell_type": "code",
   "execution_count": 6,
   "id": "6c70ee8f-2672-4fc1-943a-54350aa1b11f",
   "metadata": {},
   "outputs": [],
   "source": [
    "keys=['epicsUser/dccm_E','epicsUser/dccm_E_setpoint','tt/ttCorr','epics/lxt_ttc', 'enc/lasDelay' , 'ipm4/sum','tt/AMPL','epix_2/ROI_0_sum'] \n",
    "names=['ccm','ccm_E_setpoint','time_tool_correction','lxt_ttc'  ,'encoder','ipm', 'time_tool_ampl','epix']\n",
    "xas.set_key_aliases(keys,names)\n",
    "xas.add_filter('xray','ipm',200.0)\n",
    "xas.add_filter('simultaneous','ipm',500.0)\n",
    "xas.add_filter('simultaneous','time_tool_ampl',0.01)"
   ]
  },
  {
   "cell_type": "code",
   "execution_count": 7,
   "id": "d93327f5-56ac-4429-bafe-07938af6f8df",
   "metadata": {},
   "outputs": [
    {
     "name": "stdout",
     "output_type": "stream",
     "text": [
      "----- METHODS -----\n",
      "('__init__', <bound method XASBatchAnalysis.__init__ of <XSpect.XSpect_Controller.XASBatchAnalysis object at 0x7f1ca0ec87c0>>)\n",
      "('add_filter', <bound method BatchAnalysis.add_filter of <XSpect.XSpect_Controller.XASBatchAnalysis object at 0x7f1ca0ec87c0>>)\n",
      "('break_into_shot_ranges', <bound method BatchAnalysis.break_into_shot_ranges of <XSpect.XSpect_Controller.XASBatchAnalysis object at 0x7f1ca0ec87c0>>)\n",
      "('parse_run_shots', <bound method BatchAnalysis.parse_run_shots of <XSpect.XSpect_Controller.XASBatchAnalysis object at 0x7f1ca0ec87c0>>)\n",
      "('primary_analysis', <bound method XASBatchAnalysis.primary_analysis of <XSpect.XSpect_Controller.XASBatchAnalysis object at 0x7f1ca0ec87c0>>)\n",
      "('primary_analysis_loop', <bound method BatchAnalysis.primary_analysis_loop of <XSpect.XSpect_Controller.XASBatchAnalysis object at 0x7f1ca0ec87c0>>)\n",
      "('primary_analysis_parallel_loop', <bound method BatchAnalysis.primary_analysis_parallel_loop of <XSpect.XSpect_Controller.XASBatchAnalysis object at 0x7f1ca0ec87c0>>)\n",
      "('primary_analysis_parallel_range', <bound method BatchAnalysis.primary_analysis_parallel_range of <XSpect.XSpect_Controller.XASBatchAnalysis object at 0x7f1ca0ec87c0>>)\n",
      "('run_parser', <bound method BatchAnalysis.run_parser of <XSpect.XSpect_Controller.XASBatchAnalysis object at 0x7f1ca0ec87c0>>)\n",
      "('set_key_aliases', <bound method BatchAnalysis.set_key_aliases of <XSpect.XSpect_Controller.XASBatchAnalysis object at 0x7f1ca0ec87c0>>)\n",
      "('update_status', <bound method BatchAnalysis.update_status of <XSpect.XSpect_Controller.XASBatchAnalysis object at 0x7f1ca0ec87c0>>)\n",
      "----- ATTRIBUTES -----\n",
      "verbose : False\n",
      "status : ['Setting key aliases.', 'Adding filter: Shot Type=xray, Filter Key=ipm, Threshold=200.0', 'Adding filter: Shot Type=simultaneous, Filter Key=ipm, Threshold=500.0', 'Adding filter: Shot Type=simultaneous, Filter Key=time_tool_ampl, Threshold=0.01']\n",
      "status_datetime : ['2025-04-23 02:12:49', '2025-04-23 02:12:49', '2025-04-23 02:12:49', '2025-04-23 02:12:49']\n",
      "filters : [{'FilterType': 'xray', 'FilterKey': 'ipm', 'FilterThreshold': 200.0}, {'FilterType': 'simultaneous', 'FilterKey': 'ipm', 'FilterThreshold': 500.0}, {'FilterType': 'simultaneous', 'FilterKey': 'time_tool_ampl', 'FilterThreshold': 0.01}]\n",
      "keys : ['epicsUser/dccm_E', 'epicsUser/dccm_E_setpoint', 'tt/ttCorr', 'epics/lxt_ttc', 'enc/lasDelay', 'ipm4/sum', 'tt/AMPL', 'epix_2/ROI_0_sum']\n",
      "friendly_names : ['ccm', 'ccm_E_setpoint', 'time_tool_correction', 'lxt_ttc', 'encoder', 'ipm', 'time_tool_ampl', 'epix']\n",
      "runs : []\n",
      "run_shots : {}\n",
      "run_shot_ranges : {}\n",
      "analyzed_runs : []\n",
      "mintime : -2.0\n",
      "maxtime : 10.0\n",
      "numpoints : 240\n",
      "minccm : 7.105\n",
      "maxccm : 7.135\n",
      "numpoints_ccm : 90\n",
      "time_bins : [-2.00000000e+00 -1.94979079e+00 -1.89958159e+00 -1.84937238e+00\n",
      " -1.79916318e+00 -1.74895397e+00 -1.69874477e+00 -1.64853556e+00\n",
      " -1.59832636e+00 -1.54811715e+00 -1.49790795e+00 -1.44769874e+00\n",
      " -1.39748954e+00 -1.34728033e+00 -1.29707113e+00 -1.24686192e+00\n",
      " -1.19665272e+00 -1.14644351e+00 -1.09623431e+00 -1.04602510e+00\n",
      " -9.95815900e-01 -9.45606695e-01 -8.95397490e-01 -8.45188285e-01\n",
      " -7.94979079e-01 -7.44769874e-01 -6.94560669e-01 -6.44351464e-01\n",
      " -5.94142259e-01 -5.43933054e-01 -4.93723849e-01 -4.43514644e-01\n",
      " -3.93305439e-01 -3.43096234e-01 -2.92887029e-01 -2.42677824e-01\n",
      " -1.92468619e-01 -1.42259414e-01 -9.20502092e-02 -4.18410042e-02\n",
      "  8.36820084e-03  5.85774059e-02  1.08786611e-01  1.58995816e-01\n",
      "  2.09205021e-01  2.59414226e-01  3.09623431e-01  3.59832636e-01\n",
      "  4.10041841e-01  4.60251046e-01  5.10460251e-01  5.60669456e-01\n",
      "  6.10878661e-01  6.61087866e-01  7.11297071e-01  7.61506276e-01\n",
      "  8.11715481e-01  8.61924686e-01  9.12133891e-01  9.62343096e-01\n",
      "  1.01255230e+00  1.06276151e+00  1.11297071e+00  1.16317992e+00\n",
      "  1.21338912e+00  1.26359833e+00  1.31380753e+00  1.36401674e+00\n",
      "  1.41422594e+00  1.46443515e+00  1.51464435e+00  1.56485356e+00\n",
      "  1.61506276e+00  1.66527197e+00  1.71548117e+00  1.76569038e+00\n",
      "  1.81589958e+00  1.86610879e+00  1.91631799e+00  1.96652720e+00\n",
      "  2.01673640e+00  2.06694561e+00  2.11715481e+00  2.16736402e+00\n",
      "  2.21757322e+00  2.26778243e+00  2.31799163e+00  2.36820084e+00\n",
      "  2.41841004e+00  2.46861925e+00  2.51882845e+00  2.56903766e+00\n",
      "  2.61924686e+00  2.66945607e+00  2.71966527e+00  2.76987448e+00\n",
      "  2.82008368e+00  2.87029289e+00  2.92050209e+00  2.97071130e+00\n",
      "  3.02092050e+00  3.07112971e+00  3.12133891e+00  3.17154812e+00\n",
      "  3.22175732e+00  3.27196653e+00  3.32217573e+00  3.37238494e+00\n",
      "  3.42259414e+00  3.47280335e+00  3.52301255e+00  3.57322176e+00\n",
      "  3.62343096e+00  3.67364017e+00  3.72384937e+00  3.77405858e+00\n",
      "  3.82426778e+00  3.87447699e+00  3.92468619e+00  3.97489540e+00\n",
      "  4.02510460e+00  4.07531381e+00  4.12552301e+00  4.17573222e+00\n",
      "  4.22594142e+00  4.27615063e+00  4.32635983e+00  4.37656904e+00\n",
      "  4.42677824e+00  4.47698745e+00  4.52719665e+00  4.57740586e+00\n",
      "  4.62761506e+00  4.67782427e+00  4.72803347e+00  4.77824268e+00\n",
      "  4.82845188e+00  4.87866109e+00  4.92887029e+00  4.97907950e+00\n",
      "  5.02928870e+00  5.07949791e+00  5.12970711e+00  5.17991632e+00\n",
      "  5.23012552e+00  5.28033473e+00  5.33054393e+00  5.38075314e+00\n",
      "  5.43096234e+00  5.48117155e+00  5.53138075e+00  5.58158996e+00\n",
      "  5.63179916e+00  5.68200837e+00  5.73221757e+00  5.78242678e+00\n",
      "  5.83263598e+00  5.88284519e+00  5.93305439e+00  5.98326360e+00\n",
      "  6.03347280e+00  6.08368201e+00  6.13389121e+00  6.18410042e+00\n",
      "  6.23430962e+00  6.28451883e+00  6.33472803e+00  6.38493724e+00\n",
      "  6.43514644e+00  6.48535565e+00  6.53556485e+00  6.58577406e+00\n",
      "  6.63598326e+00  6.68619247e+00  6.73640167e+00  6.78661088e+00\n",
      "  6.83682008e+00  6.88702929e+00  6.93723849e+00  6.98744770e+00\n",
      "  7.03765690e+00  7.08786611e+00  7.13807531e+00  7.18828452e+00\n",
      "  7.23849372e+00  7.28870293e+00  7.33891213e+00  7.38912134e+00\n",
      "  7.43933054e+00  7.48953975e+00  7.53974895e+00  7.58995816e+00\n",
      "  7.64016736e+00  7.69037657e+00  7.74058577e+00  7.79079498e+00\n",
      "  7.84100418e+00  7.89121339e+00  7.94142259e+00  7.99163180e+00\n",
      "  8.04184100e+00  8.09205021e+00  8.14225941e+00  8.19246862e+00\n",
      "  8.24267782e+00  8.29288703e+00  8.34309623e+00  8.39330544e+00\n",
      "  8.44351464e+00  8.49372385e+00  8.54393305e+00  8.59414226e+00\n",
      "  8.64435146e+00  8.69456067e+00  8.74476987e+00  8.79497908e+00\n",
      "  8.84518828e+00  8.89539749e+00  8.94560669e+00  8.99581590e+00\n",
      "  9.04602510e+00  9.09623431e+00  9.14644351e+00  9.19665272e+00\n",
      "  9.24686192e+00  9.29707113e+00  9.34728033e+00  9.39748954e+00\n",
      "  9.44769874e+00  9.49790795e+00  9.54811715e+00  9.59832636e+00\n",
      "  9.64853556e+00  9.69874477e+00  9.74895397e+00  9.79916318e+00\n",
      "  9.84937238e+00  9.89958159e+00  9.94979079e+00  1.00000000e+01]\n",
      "scattering : False\n"
     ]
    }
   ],
   "source": [
    "object_inspector(xas, verbose=False)"
   ]
  },
  {
   "cell_type": "code",
   "execution_count": 8,
   "id": "2d189dd1-e138-48e6-9788-8a8bd261fc0b",
   "metadata": {},
   "outputs": [],
   "source": [
    "f=XSpect.XSpect_Analysis.spectroscopy_run(xas_experiment, 19, verbose=False)"
   ]
  },
  {
   "cell_type": "code",
   "execution_count": 9,
   "id": "e0ea9dae-201a-4fb5-91c8-bd35ab751a80",
   "metadata": {},
   "outputs": [
    {
     "name": "stdout",
     "output_type": "stream",
     "text": [
      "----- METHODS -----\n",
      "('__init__', <bound method spectroscopy_run.__init__ of <XSpect.XSpect_Analysis.spectroscopy_run object at 0x7f1cd1577f40>>)\n",
      "('close_h5', <bound method spectroscopy_run.close_h5 of <XSpect.XSpect_Analysis.spectroscopy_run object at 0x7f1cd1577f40>>)\n",
      "('get_run_shot_properties', <bound method spectroscopy_run.get_run_shot_properties of <XSpect.XSpect_Analysis.spectroscopy_run object at 0x7f1cd1577f40>>)\n",
      "('get_scan_val', <bound method spectroscopy_run.get_scan_val of <XSpect.XSpect_Analysis.spectroscopy_run object at 0x7f1cd1577f40>>)\n",
      "('load_run_key_delayed', <bound method spectroscopy_run.load_run_key_delayed of <XSpect.XSpect_Analysis.spectroscopy_run object at 0x7f1cd1577f40>>)\n",
      "('load_run_keys', <bound method spectroscopy_run.load_run_keys of <XSpect.XSpect_Analysis.spectroscopy_run object at 0x7f1cd1577f40>>)\n",
      "('load_sum_run_scattering', <bound method spectroscopy_run.load_sum_run_scattering of <XSpect.XSpect_Analysis.spectroscopy_run object at 0x7f1cd1577f40>>)\n",
      "('purge_all_keys', <bound method spectroscopy_run.purge_all_keys of <XSpect.XSpect_Analysis.spectroscopy_run object at 0x7f1cd1577f40>>)\n",
      "('update_status', <bound method spectroscopy_run.update_status of <XSpect.XSpect_Analysis.spectroscopy_run object at 0x7f1cd1577f40>>)\n",
      "----- ATTRIBUTES -----\n",
      "spec_experiment : <XSpect.XSpect_Analysis.spectroscopy_experiment object at 0x7f1ca0ed5fd0>\n",
      "run_number : 19\n",
      "run_file : /sdf/data/lcls/ds/xcs/xcs100864324/hdf5/smalldata/xcs100864324_Run0019.h5\n",
      "status : ['New analysis of run 19 located in: /sdf/data/lcls/ds/xcs/xcs100864324/hdf5/smalldata/xcs100864324_Run0019.h5']\n",
      "status_datetime : ['2025-04-23 02:12:49']\n",
      "verbose : False\n",
      "end_index : -1\n",
      "start_index : 0\n"
     ]
    }
   ],
   "source": [
    "object_inspector(f)"
   ]
  },
  {
   "cell_type": "code",
   "execution_count": 10,
   "id": "9db646b3-7cd2-4f4c-856c-08b7f14bb60f",
   "metadata": {},
   "outputs": [],
   "source": [
    "f.get_run_shot_properties()"
   ]
  },
  {
   "cell_type": "code",
   "execution_count": 11,
   "id": "fbce5987-59e6-42f4-aa4a-6c4d2b315c57",
   "metadata": {},
   "outputs": [
    {
     "name": "stdout",
     "output_type": "stream",
     "text": [
      "----- METHODS -----\n",
      "('__init__', <bound method spectroscopy_run.__init__ of <XSpect.XSpect_Analysis.spectroscopy_run object at 0x7f1cd1577f40>>)\n",
      "('close_h5', <bound method spectroscopy_run.close_h5 of <XSpect.XSpect_Analysis.spectroscopy_run object at 0x7f1cd1577f40>>)\n",
      "('get_run_shot_properties', <bound method spectroscopy_run.get_run_shot_properties of <XSpect.XSpect_Analysis.spectroscopy_run object at 0x7f1cd1577f40>>)\n",
      "('get_scan_val', <bound method spectroscopy_run.get_scan_val of <XSpect.XSpect_Analysis.spectroscopy_run object at 0x7f1cd1577f40>>)\n",
      "('load_run_key_delayed', <bound method spectroscopy_run.load_run_key_delayed of <XSpect.XSpect_Analysis.spectroscopy_run object at 0x7f1cd1577f40>>)\n",
      "('load_run_keys', <bound method spectroscopy_run.load_run_keys of <XSpect.XSpect_Analysis.spectroscopy_run object at 0x7f1cd1577f40>>)\n",
      "('load_sum_run_scattering', <bound method spectroscopy_run.load_sum_run_scattering of <XSpect.XSpect_Analysis.spectroscopy_run object at 0x7f1cd1577f40>>)\n",
      "('purge_all_keys', <bound method spectroscopy_run.purge_all_keys of <XSpect.XSpect_Analysis.spectroscopy_run object at 0x7f1cd1577f40>>)\n",
      "('update_status', <bound method spectroscopy_run.update_status of <XSpect.XSpect_Analysis.spectroscopy_run object at 0x7f1cd1577f40>>)\n",
      "----- ATTRIBUTES -----\n",
      "spec_experiment : <XSpect.XSpect_Analysis.spectroscopy_experiment object at 0x7f1ca0ed5fd0>\n",
      "run_number : 19\n",
      "run_file : /sdf/data/lcls/ds/xcs/xcs100864324/hdf5/smalldata/xcs100864324_Run0019.h5\n",
      "status : ['New analysis of run 19 located in: /sdf/data/lcls/ds/xcs/xcs100864324/hdf5/smalldata/xcs100864324_Run0019.h5', 'Obtained shot properties']\n",
      "status_datetime : ['2025-04-23 02:12:49', '2025-04-23 02:12:49']\n",
      "verbose : False\n",
      "end_index : -1\n",
      "start_index : 0\n",
      "total_shots : 50731\n",
      "xray : [1 1 1 ... 1 1 1]\n",
      "laser : [1 1 1 ... 0 1 1]\n",
      "simultaneous : [ True  True  True ... False  True  True]\n",
      "run_shots : {'Total': 50731, 'X-ray Total': 50361, 'Laser Total': 36237}\n"
     ]
    }
   ],
   "source": [
    "object_inspector(f)"
   ]
  },
  {
   "cell_type": "code",
   "execution_count": 12,
   "id": "cf2b5a9f-ebd4-4389-ad02-aac287e23687",
   "metadata": {},
   "outputs": [],
   "source": [
    "f.load_run_keys(xas.keys,xas.friendly_names)"
   ]
  },
  {
   "cell_type": "code",
   "execution_count": 13,
   "id": "ecaa309d-319b-4fa2-92b3-4983081697f7",
   "metadata": {},
   "outputs": [
    {
     "name": "stdout",
     "output_type": "stream",
     "text": [
      "----- METHODS -----\n",
      "('__init__', <bound method spectroscopy_run.__init__ of <XSpect.XSpect_Analysis.spectroscopy_run object at 0x7f1cd1577f40>>)\n",
      "('close_h5', <bound method spectroscopy_run.close_h5 of <XSpect.XSpect_Analysis.spectroscopy_run object at 0x7f1cd1577f40>>)\n",
      "('get_run_shot_properties', <bound method spectroscopy_run.get_run_shot_properties of <XSpect.XSpect_Analysis.spectroscopy_run object at 0x7f1cd1577f40>>)\n",
      "('get_scan_val', <bound method spectroscopy_run.get_scan_val of <XSpect.XSpect_Analysis.spectroscopy_run object at 0x7f1cd1577f40>>)\n",
      "('load_run_key_delayed', <bound method spectroscopy_run.load_run_key_delayed of <XSpect.XSpect_Analysis.spectroscopy_run object at 0x7f1cd1577f40>>)\n",
      "('load_run_keys', <bound method spectroscopy_run.load_run_keys of <XSpect.XSpect_Analysis.spectroscopy_run object at 0x7f1cd1577f40>>)\n",
      "('load_sum_run_scattering', <bound method spectroscopy_run.load_sum_run_scattering of <XSpect.XSpect_Analysis.spectroscopy_run object at 0x7f1cd1577f40>>)\n",
      "('purge_all_keys', <bound method spectroscopy_run.purge_all_keys of <XSpect.XSpect_Analysis.spectroscopy_run object at 0x7f1cd1577f40>>)\n",
      "('update_status', <bound method spectroscopy_run.update_status of <XSpect.XSpect_Analysis.spectroscopy_run object at 0x7f1cd1577f40>>)\n",
      "----- ATTRIBUTES -----\n",
      "spec_experiment : <XSpect.XSpect_Analysis.spectroscopy_experiment object at 0x7f1ca0ed5fd0>\n",
      "run_number : 19\n",
      "run_file : /sdf/data/lcls/ds/xcs/xcs100864324/hdf5/smalldata/xcs100864324_Run0019.h5\n",
      "status : ['New analysis of run 19 located in: /sdf/data/lcls/ds/xcs/xcs100864324/hdf5/smalldata/xcs100864324_Run0019.h5', 'Obtained shot properties', 'HDF5 import of keys completed. Time: 0.09 seconds']\n",
      "status_datetime : ['2025-04-23 02:12:49', '2025-04-23 02:12:49', '2025-04-23 02:12:50']\n",
      "verbose : False\n",
      "end_index : -1\n",
      "start_index : 0\n",
      "total_shots : 50731\n",
      "xray : [1 1 1 ... 1 1 1]\n",
      "laser : [1 1 1 ... 0 1 1]\n",
      "simultaneous : [ True  True  True ... False  True  True]\n",
      "run_shots : {'Total': 50731, 'X-ray Total': 50361, 'Laser Total': 36237}\n",
      "ccm : [7.1550389  7.1550389  7.1550389  ... 7.15506366 7.15506366 7.15506366]\n",
      "ccm_E_setpoint : [7.15501588 7.15501588 7.15501588 ... 7.1550389  7.1550389  7.1550389 ]\n",
      "time_tool_correction : [-0.08867445  0.41373819  0.40845152 ...  0.         -0.36357508\n",
      "  0.14634764]\n",
      "lxt_ttc : [0. 0. 0. ... 0. 0. 0.]\n",
      "encoder : [33.60894199 33.38665428 33.16516712 ...  1.45847961  1.45834618\n",
      "  1.45821275]\n",
      "ipm : [29825.375   401.625  1072.5   ... 15701.25  74034.5   28346.625]\n",
      "time_tool_ampl : [0.11674718 0.00318796 0.00944387 ... 0.         0.25577825 0.11167703]\n",
      "epix : [6.5570574 0.        0.        ... 0.        9.729452  0.       ]\n"
     ]
    }
   ],
   "source": [
    "object_inspector(f)"
   ]
  },
  {
   "cell_type": "code",
   "execution_count": 14,
   "id": "fb18403f-b73a-4a22-a1b9-76e46e62abb3",
   "metadata": {},
   "outputs": [],
   "source": [
    "f.load_sum_run_scattering('epix10k2M/azav_azav')\n",
    "f.ipm=f.scattering[:-1]"
   ]
  },
  {
   "cell_type": "code",
   "execution_count": 15,
   "id": "11b6052b-7ac9-42c6-b0e7-eb2b9e83dd12",
   "metadata": {},
   "outputs": [
    {
     "name": "stdout",
     "output_type": "stream",
     "text": [
      "----- METHODS -----\n",
      "('__init__', <bound method spectroscopy_run.__init__ of <XSpect.XSpect_Analysis.spectroscopy_run object at 0x7f1cd1577f40>>)\n",
      "('close_h5', <bound method spectroscopy_run.close_h5 of <XSpect.XSpect_Analysis.spectroscopy_run object at 0x7f1cd1577f40>>)\n",
      "('get_run_shot_properties', <bound method spectroscopy_run.get_run_shot_properties of <XSpect.XSpect_Analysis.spectroscopy_run object at 0x7f1cd1577f40>>)\n",
      "('get_scan_val', <bound method spectroscopy_run.get_scan_val of <XSpect.XSpect_Analysis.spectroscopy_run object at 0x7f1cd1577f40>>)\n",
      "('load_run_key_delayed', <bound method spectroscopy_run.load_run_key_delayed of <XSpect.XSpect_Analysis.spectroscopy_run object at 0x7f1cd1577f40>>)\n",
      "('load_run_keys', <bound method spectroscopy_run.load_run_keys of <XSpect.XSpect_Analysis.spectroscopy_run object at 0x7f1cd1577f40>>)\n",
      "('load_sum_run_scattering', <bound method spectroscopy_run.load_sum_run_scattering of <XSpect.XSpect_Analysis.spectroscopy_run object at 0x7f1cd1577f40>>)\n",
      "('purge_all_keys', <bound method spectroscopy_run.purge_all_keys of <XSpect.XSpect_Analysis.spectroscopy_run object at 0x7f1cd1577f40>>)\n",
      "('update_status', <bound method spectroscopy_run.update_status of <XSpect.XSpect_Analysis.spectroscopy_run object at 0x7f1cd1577f40>>)\n",
      "----- ATTRIBUTES -----\n",
      "spec_experiment : <XSpect.XSpect_Analysis.spectroscopy_experiment object at 0x7f1ca0ed5fd0>\n",
      "run_number : 19\n",
      "run_file : /sdf/data/lcls/ds/xcs/xcs100864324/hdf5/smalldata/xcs100864324_Run0019.h5\n",
      "status : ['New analysis of run 19 located in: /sdf/data/lcls/ds/xcs/xcs100864324/hdf5/smalldata/xcs100864324_Run0019.h5', 'Obtained shot properties', 'HDF5 import of keys completed. Time: 0.09 seconds']\n",
      "status_datetime : ['2025-04-23 02:12:49', '2025-04-23 02:12:49', '2025-04-23 02:12:50']\n",
      "verbose : False\n",
      "end_index : -1\n",
      "start_index : 0\n",
      "total_shots : 50731\n",
      "xray : [1 1 1 ... 1 1 1]\n",
      "laser : [1 1 1 ... 0 1 1]\n",
      "simultaneous : [ True  True  True ... False  True  True]\n",
      "run_shots : {'Total': 50731, 'X-ray Total': 50361, 'Laser Total': 36237}\n",
      "ccm : [7.1550389  7.1550389  7.1550389  ... 7.15506366 7.15506366 7.15506366]\n",
      "ccm_E_setpoint : [7.15501588 7.15501588 7.15501588 ... 7.1550389  7.1550389  7.1550389 ]\n",
      "time_tool_correction : [-0.08867445  0.41373819  0.40845152 ...  0.         -0.36357508\n",
      "  0.14634764]\n",
      "lxt_ttc : [0. 0. 0. ... 0. 0. 0.]\n",
      "encoder : [33.60894199 33.38665428 33.16516712 ...  1.45847961  1.45834618\n",
      "  1.45821275]\n",
      "ipm : [1470.03605992   90.43101491   34.57582856 ...  856.68665481 3675.72288778\n",
      " 1490.75976475]\n",
      "time_tool_ampl : [0.11674718 0.00318796 0.00944387 ... 0.         0.25577825 0.11167703]\n",
      "epix : [6.5570574 0.        0.        ... 0.        9.729452  0.       ]\n",
      "scattering : [1470.03605992   90.43101491   34.57582856 ... 3675.72288778 1490.75976475\n",
      "  598.68502345]\n"
     ]
    }
   ],
   "source": [
    "object_inspector(f)"
   ]
  },
  {
   "cell_type": "code",
   "execution_count": 16,
   "id": "a40d875b-8d32-4462-8c04-452058e5343b",
   "metadata": {},
   "outputs": [],
   "source": [
    "analysis = XSpect.XSpect_Analysis.XASAnalysis()"
   ]
  },
  {
   "cell_type": "code",
   "execution_count": 17,
   "id": "cbfb5566-ebf8-4b56-b7cf-a1edfc534b79",
   "metadata": {},
   "outputs": [
    {
     "name": "stdout",
     "output_type": "stream",
     "text": [
      "----- METHODS -----\n",
      "('__init__', <bound method XASAnalysis.__init__ of <XSpect.XSpect_Analysis.XASAnalysis object at 0x7f1cd152d430>>)\n",
      "('bin_uniques', <bound method SpectroscopyAnalysis.bin_uniques of <XSpect.XSpect_Analysis.XASAnalysis object at 0x7f1cd152d430>>)\n",
      "('ccm_binning', <bound method XASAnalysis.ccm_binning of <XSpect.XSpect_Analysis.XASAnalysis object at 0x7f1cd152d430>>)\n",
      "('filter_detector_adu', <bound method SpectroscopyAnalysis.filter_detector_adu of <XSpect.XSpect_Analysis.XASAnalysis object at 0x7f1cd152d430>>)\n",
      "('filter_nan', <bound method SpectroscopyAnalysis.filter_nan of <XSpect.XSpect_Analysis.XASAnalysis object at 0x7f1cd152d430>>)\n",
      "('filter_shots', <bound method SpectroscopyAnalysis.filter_shots of <XSpect.XSpect_Analysis.XASAnalysis object at 0x7f1cd152d430>>)\n",
      "('make_ccm_axis', <bound method XASAnalysis.make_ccm_axis of <XSpect.XSpect_Analysis.XASAnalysis object at 0x7f1cd152d430>>)\n",
      "('patch_pixel', <bound method SpectroscopyAnalysis.patch_pixel of <XSpect.XSpect_Analysis.XASAnalysis object at 0x7f1cd152d430>>)\n",
      "('patch_pixel_1d', <bound method SpectroscopyAnalysis.patch_pixel_1d of <XSpect.XSpect_Analysis.XASAnalysis object at 0x7f1cd152d430>>)\n",
      "('patch_pixels', <bound method SpectroscopyAnalysis.patch_pixels of <XSpect.XSpect_Analysis.XASAnalysis object at 0x7f1cd152d430>>)\n",
      "('patch_pixels_1d', <bound method SpectroscopyAnalysis.patch_pixels_1d of <XSpect.XSpect_Analysis.XASAnalysis object at 0x7f1cd152d430>>)\n",
      "('purge_keys', <bound method SpectroscopyAnalysis.purge_keys of <XSpect.XSpect_Analysis.XASAnalysis object at 0x7f1cd152d430>>)\n",
      "('reduce_detector_ccm', <bound method XASAnalysis.reduce_detector_ccm of <XSpect.XSpect_Analysis.XASAnalysis object at 0x7f1cd152d430>>)\n",
      "('reduce_detector_ccm_temporal', <bound method XASAnalysis.reduce_detector_ccm_temporal of <XSpect.XSpect_Analysis.XASAnalysis object at 0x7f1cd152d430>>)\n",
      "('reduce_detector_spatial', <bound method SpectroscopyAnalysis.reduce_detector_spatial of <XSpect.XSpect_Analysis.XASAnalysis object at 0x7f1cd152d430>>)\n",
      "('reduce_detector_temporal', <bound method XASAnalysis.reduce_detector_temporal of <XSpect.XSpect_Analysis.XASAnalysis object at 0x7f1cd152d430>>)\n",
      "('separate_shots', <bound method SpectroscopyAnalysis.separate_shots of <XSpect.XSpect_Analysis.XASAnalysis object at 0x7f1cd152d430>>)\n",
      "('time_binning', <bound method SpectroscopyAnalysis.time_binning of <XSpect.XSpect_Analysis.XASAnalysis object at 0x7f1cd152d430>>)\n",
      "('trim_ccm', <bound method XASAnalysis.trim_ccm of <XSpect.XSpect_Analysis.XASAnalysis object at 0x7f1cd152d430>>)\n",
      "('union_shots', <bound method SpectroscopyAnalysis.union_shots of <XSpect.XSpect_Analysis.XASAnalysis object at 0x7f1cd152d430>>)\n",
      "----- ATTRIBUTES -----\n"
     ]
    }
   ],
   "source": [
    "object_inspector(analysis)"
   ]
  },
  {
   "cell_type": "code",
   "execution_count": 18,
   "id": "ead3bed3-a27b-4a0f-a096-5d382fd1e4fc",
   "metadata": {},
   "outputs": [],
   "source": [
    "if hasattr(f, 'ccm_E_input'):\n",
    "    elist = f.ccm_E_input\n",
    "else:\n",
    "    try:\n",
    "        ccm_val = getattr(f, 'ccm_E_setpoint')\n",
    "        elist = np.unique(np.round(ccm_val,5))\n",
    "    except KeyError as e:\n",
    "        f.update_status('Key does not exist: %s' % e.args[0])\n",
    "        elist = np.linspace(f.minccm,f.maxccm,f.numpoints_ccm)"
   ]
  },
  {
   "cell_type": "code",
   "execution_count": 19,
   "id": "7faf6755-4611-4304-a3f7-88ca54085b38",
   "metadata": {},
   "outputs": [
    {
     "data": {
      "text/plain": [
       "array([7.102  , 7.104  , 7.106  , 7.108  , 7.1083 , 7.1086 , 7.1089 ,\n",
       "       7.1092 , 7.1095 , 7.1098 , 7.1101 , 7.1104 , 7.1107 , 7.111  ,\n",
       "       7.1113 , 7.1116 , 7.1119 , 7.1122 , 7.1125 , 7.1128 , 7.1131 ,\n",
       "       7.1134 , 7.1137 , 7.114  , 7.115  , 7.116  , 7.117  , 7.118  ,\n",
       "       7.119  , 7.12   , 7.121  , 7.122  , 7.123  , 7.124  , 7.125  ,\n",
       "       7.126  , 7.127  , 7.128  , 7.129  , 7.13   , 7.132  , 7.134  ,\n",
       "       7.136  , 7.138  , 7.14   , 7.142  , 7.144  , 7.146  , 7.148  ,\n",
       "       7.15   , 7.152  , 7.154  , 7.15502, 7.15504])"
      ]
     },
     "execution_count": 19,
     "metadata": {},
     "output_type": "execute_result"
    }
   ],
   "source": [
    "elist"
   ]
  },
  {
   "cell_type": "code",
   "execution_count": 20,
   "id": "5a878620-b56a-45af-a51c-f7205982e6e3",
   "metadata": {},
   "outputs": [],
   "source": [
    "analysis.make_ccm_axis(f,elist)"
   ]
  },
  {
   "cell_type": "code",
   "execution_count": 21,
   "id": "57ded631-18d8-4fcc-8490-dc45f6e51481",
   "metadata": {},
   "outputs": [
    {
     "name": "stdout",
     "output_type": "stream",
     "text": [
      "----- METHODS -----\n",
      "('__init__', <bound method spectroscopy_run.__init__ of <XSpect.XSpect_Analysis.spectroscopy_run object at 0x7f1cd1577f40>>)\n",
      "('close_h5', <bound method spectroscopy_run.close_h5 of <XSpect.XSpect_Analysis.spectroscopy_run object at 0x7f1cd1577f40>>)\n",
      "('get_run_shot_properties', <bound method spectroscopy_run.get_run_shot_properties of <XSpect.XSpect_Analysis.spectroscopy_run object at 0x7f1cd1577f40>>)\n",
      "('get_scan_val', <bound method spectroscopy_run.get_scan_val of <XSpect.XSpect_Analysis.spectroscopy_run object at 0x7f1cd1577f40>>)\n",
      "('load_run_key_delayed', <bound method spectroscopy_run.load_run_key_delayed of <XSpect.XSpect_Analysis.spectroscopy_run object at 0x7f1cd1577f40>>)\n",
      "('load_run_keys', <bound method spectroscopy_run.load_run_keys of <XSpect.XSpect_Analysis.spectroscopy_run object at 0x7f1cd1577f40>>)\n",
      "('load_sum_run_scattering', <bound method spectroscopy_run.load_sum_run_scattering of <XSpect.XSpect_Analysis.spectroscopy_run object at 0x7f1cd1577f40>>)\n",
      "('purge_all_keys', <bound method spectroscopy_run.purge_all_keys of <XSpect.XSpect_Analysis.spectroscopy_run object at 0x7f1cd1577f40>>)\n",
      "('update_status', <bound method spectroscopy_run.update_status of <XSpect.XSpect_Analysis.spectroscopy_run object at 0x7f1cd1577f40>>)\n",
      "----- ATTRIBUTES -----\n",
      "spec_experiment : <XSpect.XSpect_Analysis.spectroscopy_experiment object at 0x7f1ca0ed5fd0>\n",
      "run_number : 19\n",
      "run_file : /sdf/data/lcls/ds/xcs/xcs100864324/hdf5/smalldata/xcs100864324_Run0019.h5\n",
      "status : ['New analysis of run 19 located in: /sdf/data/lcls/ds/xcs/xcs100864324/hdf5/smalldata/xcs100864324_Run0019.h5', 'Obtained shot properties', 'HDF5 import of keys completed. Time: 0.09 seconds']\n",
      "status_datetime : ['2025-04-23 02:12:49', '2025-04-23 02:12:49', '2025-04-23 02:12:50']\n",
      "verbose : False\n",
      "end_index : -1\n",
      "start_index : 0\n",
      "total_shots : 50731\n",
      "xray : [1 1 1 ... 1 1 1]\n",
      "laser : [1 1 1 ... 0 1 1]\n",
      "simultaneous : [ True  True  True ... False  True  True]\n",
      "run_shots : {'Total': 50731, 'X-ray Total': 50361, 'Laser Total': 36237}\n",
      "ccm : [7.1550389  7.1550389  7.1550389  ... 7.15506366 7.15506366 7.15506366]\n",
      "ccm_E_setpoint : [7.15501588 7.15501588 7.15501588 ... 7.1550389  7.1550389  7.1550389 ]\n",
      "time_tool_correction : [-0.08867445  0.41373819  0.40845152 ...  0.         -0.36357508\n",
      "  0.14634764]\n",
      "lxt_ttc : [0. 0. 0. ... 0. 0. 0.]\n",
      "encoder : [33.60894199 33.38665428 33.16516712 ...  1.45847961  1.45834618\n",
      "  1.45821275]\n",
      "ipm : [1470.03605992   90.43101491   34.57582856 ...  856.68665481 3675.72288778\n",
      " 1490.75976475]\n",
      "time_tool_ampl : [0.11674718 0.00318796 0.00944387 ... 0.         0.25577825 0.11167703]\n",
      "epix : [6.5570574 0.        0.        ... 0.        9.729452  0.       ]\n",
      "scattering : [1470.03605992   90.43101491   34.57582856 ... 3675.72288778 1490.75976475\n",
      "  598.68502345]\n",
      "ccm_bins : [7.103    7.105    7.107    7.10815  7.10845  7.10875  7.10905  7.10935\n",
      " 7.10965  7.10995  7.11025  7.11055  7.11085  7.11115  7.11145  7.11175\n",
      " 7.11205  7.11235  7.11265  7.11295  7.11325  7.11355  7.11385  7.1145\n",
      " 7.1155   7.1165   7.1175   7.1185   7.1195   7.1205   7.1215   7.1225\n",
      " 7.1235   7.1245   7.1255   7.1265   7.1275   7.1285   7.1295   7.131\n",
      " 7.133    7.135    7.137    7.139    7.141    7.143    7.145    7.147\n",
      " 7.149    7.151    7.153    7.15451  7.15503  7.155045]\n",
      "ccm_energies : [7.102   7.104   7.106   7.108   7.1083  7.1086  7.1089  7.1092  7.1095\n",
      " 7.1098  7.1101  7.1104  7.1107  7.111   7.1113  7.1116  7.1119  7.1122\n",
      " 7.1125  7.1128  7.1131  7.1134  7.1137  7.114   7.115   7.116   7.117\n",
      " 7.118   7.119   7.12    7.121   7.122   7.123   7.124   7.125   7.126\n",
      " 7.127   7.128   7.129   7.13    7.132   7.134   7.136   7.138   7.14\n",
      " 7.142   7.144   7.146   7.148   7.15    7.152   7.154   7.15502 7.15504]\n"
     ]
    }
   ],
   "source": [
    "object_inspector(f)"
   ]
  },
  {
   "cell_type": "code",
   "execution_count": 22,
   "id": "7e7996b0-1513-4270-91ea-75fbf302061d",
   "metadata": {},
   "outputs": [],
   "source": [
    "for fil in xas.filters:\n",
    "    analysis.filter_shots(f,fil['FilterType'],fil['FilterKey'],fil['FilterThreshold'])"
   ]
  },
  {
   "cell_type": "code",
   "execution_count": 23,
   "id": "ebacde65-c501-4cb6-870b-8219c67fe5c4",
   "metadata": {},
   "outputs": [
    {
     "data": {
      "text/plain": [
       "[{'FilterType': 'xray', 'FilterKey': 'ipm', 'FilterThreshold': 200.0},\n",
       " {'FilterType': 'simultaneous', 'FilterKey': 'ipm', 'FilterThreshold': 500.0},\n",
       " {'FilterType': 'simultaneous',\n",
       "  'FilterKey': 'time_tool_ampl',\n",
       "  'FilterThreshold': 0.01}]"
      ]
     },
     "execution_count": 23,
     "metadata": {},
     "output_type": "execute_result"
    }
   ],
   "source": [
    "xas.filters"
   ]
  },
  {
   "cell_type": "code",
   "execution_count": 24,
   "id": "b82fee5e-cd7c-4450-be21-09905212bcfa",
   "metadata": {
    "scrolled": true
   },
   "outputs": [
    {
     "data": {
      "text/plain": [
       "\u001b[0;31mSignature:\u001b[0m\n",
       "\u001b[0manalysis\u001b[0m\u001b[0;34m.\u001b[0m\u001b[0mfilter_shots\u001b[0m\u001b[0;34m(\u001b[0m\u001b[0;34m\u001b[0m\n",
       "\u001b[0;34m\u001b[0m    \u001b[0mrun\u001b[0m\u001b[0;34m,\u001b[0m\u001b[0;34m\u001b[0m\n",
       "\u001b[0;34m\u001b[0m    \u001b[0mshot_mask_key\u001b[0m\u001b[0;34m,\u001b[0m\u001b[0;34m\u001b[0m\n",
       "\u001b[0;34m\u001b[0m    \u001b[0mfilter_key\u001b[0m\u001b[0;34m=\u001b[0m\u001b[0;34m'ipm'\u001b[0m\u001b[0;34m,\u001b[0m\u001b[0;34m\u001b[0m\n",
       "\u001b[0;34m\u001b[0m    \u001b[0mthreshold\u001b[0m\u001b[0;34m=\u001b[0m\u001b[0;36m10000.0\u001b[0m\u001b[0;34m,\u001b[0m\u001b[0;34m\u001b[0m\n",
       "\u001b[0;34m\u001b[0m\u001b[0;34m)\u001b[0m\u001b[0;34m\u001b[0m\u001b[0;34m\u001b[0m\u001b[0m\n",
       "\u001b[0;31mDocstring:\u001b[0m <no docstring>\n",
       "\u001b[0;31mSource:\u001b[0m   \n",
       "    \u001b[0;32mdef\u001b[0m \u001b[0mfilter_shots\u001b[0m\u001b[0;34m(\u001b[0m\u001b[0mself\u001b[0m\u001b[0;34m,\u001b[0m \u001b[0mrun\u001b[0m\u001b[0;34m,\u001b[0m\u001b[0mshot_mask_key\u001b[0m\u001b[0;34m,\u001b[0m \u001b[0mfilter_key\u001b[0m\u001b[0;34m=\u001b[0m\u001b[0;34m'ipm'\u001b[0m\u001b[0;34m,\u001b[0m \u001b[0mthreshold\u001b[0m\u001b[0;34m=\u001b[0m\u001b[0;36m1.0E4\u001b[0m\u001b[0;34m)\u001b[0m\u001b[0;34m:\u001b[0m\u001b[0;34m\u001b[0m\n",
       "\u001b[0;34m\u001b[0m        \u001b[0;31m#filter_mode a is all shots. l is laser+x-ray shots.\u001b[0m\u001b[0;34m\u001b[0m\n",
       "\u001b[0;34m\u001b[0m        \u001b[0mshot_mask\u001b[0m\u001b[0;34m=\u001b[0m\u001b[0mgetattr\u001b[0m\u001b[0;34m(\u001b[0m\u001b[0mrun\u001b[0m\u001b[0;34m,\u001b[0m\u001b[0mshot_mask_key\u001b[0m\u001b[0;34m)\u001b[0m\u001b[0;34m\u001b[0m\n",
       "\u001b[0;34m\u001b[0m        \u001b[0mcount_before\u001b[0m\u001b[0;34m=\u001b[0m\u001b[0mnp\u001b[0m\u001b[0;34m.\u001b[0m\u001b[0msum\u001b[0m\u001b[0;34m(\u001b[0m\u001b[0mshot_mask\u001b[0m\u001b[0;34m)\u001b[0m\u001b[0;34m\u001b[0m\n",
       "\u001b[0;34m\u001b[0m        \u001b[0mfilter_mask\u001b[0m\u001b[0;34m=\u001b[0m\u001b[0mgetattr\u001b[0m\u001b[0;34m(\u001b[0m\u001b[0mrun\u001b[0m\u001b[0;34m,\u001b[0m\u001b[0mfilter_key\u001b[0m\u001b[0;34m)\u001b[0m\u001b[0;34m\u001b[0m\n",
       "\u001b[0;34m\u001b[0m        \u001b[0mnan_mask\u001b[0m \u001b[0;34m=\u001b[0m \u001b[0mnp\u001b[0m\u001b[0;34m.\u001b[0m\u001b[0misnan\u001b[0m\u001b[0;34m(\u001b[0m\u001b[0mfilter_mask\u001b[0m\u001b[0;34m)\u001b[0m\u001b[0;34m\u001b[0m\n",
       "\u001b[0;34m\u001b[0m        \u001b[0mfiltered_shot_mask\u001b[0m\u001b[0;34m=\u001b[0m\u001b[0mshot_mask\u001b[0m \u001b[0;34m*\u001b[0m \u001b[0;34m(\u001b[0m\u001b[0mfilter_mask\u001b[0m\u001b[0;34m>\u001b[0m\u001b[0mthreshold\u001b[0m\u001b[0;34m)\u001b[0m\u001b[0;34m*\u001b[0m \u001b[0;34m(\u001b[0m\u001b[0;34m~\u001b[0m\u001b[0mnan_mask\u001b[0m\u001b[0;34m)\u001b[0m\u001b[0;34m\u001b[0m\n",
       "\u001b[0;34m\u001b[0m        \u001b[0mcount_after\u001b[0m\u001b[0;34m=\u001b[0m\u001b[0mnp\u001b[0m\u001b[0;34m.\u001b[0m\u001b[0msum\u001b[0m\u001b[0;34m(\u001b[0m\u001b[0mfiltered_shot_mask\u001b[0m\u001b[0;34m)\u001b[0m\u001b[0;34m\u001b[0m\n",
       "\u001b[0;34m\u001b[0m        \u001b[0msetattr\u001b[0m\u001b[0;34m(\u001b[0m\u001b[0mrun\u001b[0m\u001b[0;34m,\u001b[0m\u001b[0mshot_mask_key\u001b[0m\u001b[0;34m,\u001b[0m\u001b[0mfiltered_shot_mask\u001b[0m\u001b[0;34m)\u001b[0m\u001b[0;34m\u001b[0m\n",
       "\u001b[0;34m\u001b[0m        \u001b[0mrun\u001b[0m\u001b[0;34m.\u001b[0m\u001b[0mupdate_status\u001b[0m\u001b[0;34m(\u001b[0m\u001b[0;34m'Mask: %s has been filtered on %s by minimum threshold: %0.3f\\nShots removed: %d'\u001b[0m \u001b[0;34m%\u001b[0m \u001b[0;34m(\u001b[0m\u001b[0mshot_mask_key\u001b[0m\u001b[0;34m,\u001b[0m\u001b[0mfilter_key\u001b[0m\u001b[0;34m,\u001b[0m\u001b[0mthreshold\u001b[0m\u001b[0;34m,\u001b[0m\u001b[0mcount_before\u001b[0m\u001b[0;34m-\u001b[0m\u001b[0mcount_after\u001b[0m\u001b[0;34m)\u001b[0m\u001b[0;34m)\u001b[0m\u001b[0;34m\u001b[0m\u001b[0;34m\u001b[0m\u001b[0m\n",
       "\u001b[0;31mFile:\u001b[0m      ~/XSpecT/XSpect/XSpect_Analysis.py\n",
       "\u001b[0;31mType:\u001b[0m      method"
      ]
     },
     "metadata": {},
     "output_type": "display_data"
    }
   ],
   "source": [
    "analysis.filter_shots??"
   ]
  },
  {
   "cell_type": "code",
   "execution_count": 25,
   "id": "cfc2468d-022e-40ec-b2b7-1a4561fa079f",
   "metadata": {},
   "outputs": [
    {
     "name": "stdout",
     "output_type": "stream",
     "text": [
      "----- METHODS -----\n",
      "('__init__', <bound method spectroscopy_run.__init__ of <XSpect.XSpect_Analysis.spectroscopy_run object at 0x7f1cd1577f40>>)\n",
      "('close_h5', <bound method spectroscopy_run.close_h5 of <XSpect.XSpect_Analysis.spectroscopy_run object at 0x7f1cd1577f40>>)\n",
      "('get_run_shot_properties', <bound method spectroscopy_run.get_run_shot_properties of <XSpect.XSpect_Analysis.spectroscopy_run object at 0x7f1cd1577f40>>)\n",
      "('get_scan_val', <bound method spectroscopy_run.get_scan_val of <XSpect.XSpect_Analysis.spectroscopy_run object at 0x7f1cd1577f40>>)\n",
      "('load_run_key_delayed', <bound method spectroscopy_run.load_run_key_delayed of <XSpect.XSpect_Analysis.spectroscopy_run object at 0x7f1cd1577f40>>)\n",
      "('load_run_keys', <bound method spectroscopy_run.load_run_keys of <XSpect.XSpect_Analysis.spectroscopy_run object at 0x7f1cd1577f40>>)\n",
      "('load_sum_run_scattering', <bound method spectroscopy_run.load_sum_run_scattering of <XSpect.XSpect_Analysis.spectroscopy_run object at 0x7f1cd1577f40>>)\n",
      "('purge_all_keys', <bound method spectroscopy_run.purge_all_keys of <XSpect.XSpect_Analysis.spectroscopy_run object at 0x7f1cd1577f40>>)\n",
      "('update_status', <bound method spectroscopy_run.update_status of <XSpect.XSpect_Analysis.spectroscopy_run object at 0x7f1cd1577f40>>)\n",
      "----- ATTRIBUTES -----\n",
      "spec_experiment : <XSpect.XSpect_Analysis.spectroscopy_experiment object at 0x7f1ca0ed5fd0>\n",
      "run_number : 19\n",
      "run_file : /sdf/data/lcls/ds/xcs/xcs100864324/hdf5/smalldata/xcs100864324_Run0019.h5\n",
      "status : ['New analysis of run 19 located in: /sdf/data/lcls/ds/xcs/xcs100864324/hdf5/smalldata/xcs100864324_Run0019.h5', 'Obtained shot properties', 'HDF5 import of keys completed. Time: 0.09 seconds', 'Mask: xray has been filtered on ipm by minimum threshold: 200.000\\nShots removed: 6146', 'Mask: simultaneous has been filtered on ipm by minimum threshold: 500.000\\nShots removed: 10918', 'Mask: simultaneous has been filtered on time_tool_ampl by minimum threshold: 0.010\\nShots removed: 358']\n",
      "status_datetime : ['2025-04-23 02:12:49', '2025-04-23 02:12:49', '2025-04-23 02:12:50', '2025-04-23 02:12:55', '2025-04-23 02:12:55', '2025-04-23 02:12:55']\n",
      "verbose : False\n",
      "end_index : -1\n",
      "start_index : 0\n",
      "total_shots : 50731\n",
      "xray : [1 0 0 ... 1 1 1]\n",
      "laser : [1 1 1 ... 0 1 1]\n",
      "simultaneous : [ True False False ... False  True  True]\n",
      "run_shots : {'Total': 50731, 'X-ray Total': 50361, 'Laser Total': 36237}\n",
      "ccm : [7.1550389  7.1550389  7.1550389  ... 7.15506366 7.15506366 7.15506366]\n",
      "ccm_E_setpoint : [7.15501588 7.15501588 7.15501588 ... 7.1550389  7.1550389  7.1550389 ]\n",
      "time_tool_correction : [-0.08867445  0.41373819  0.40845152 ...  0.         -0.36357508\n",
      "  0.14634764]\n",
      "lxt_ttc : [0. 0. 0. ... 0. 0. 0.]\n",
      "encoder : [33.60894199 33.38665428 33.16516712 ...  1.45847961  1.45834618\n",
      "  1.45821275]\n",
      "ipm : [1470.03605992   90.43101491   34.57582856 ...  856.68665481 3675.72288778\n",
      " 1490.75976475]\n",
      "time_tool_ampl : [0.11674718 0.00318796 0.00944387 ... 0.         0.25577825 0.11167703]\n",
      "epix : [6.5570574 0.        0.        ... 0.        9.729452  0.       ]\n",
      "scattering : [1470.03605992   90.43101491   34.57582856 ... 3675.72288778 1490.75976475\n",
      "  598.68502345]\n",
      "ccm_bins : [7.103    7.105    7.107    7.10815  7.10845  7.10875  7.10905  7.10935\n",
      " 7.10965  7.10995  7.11025  7.11055  7.11085  7.11115  7.11145  7.11175\n",
      " 7.11205  7.11235  7.11265  7.11295  7.11325  7.11355  7.11385  7.1145\n",
      " 7.1155   7.1165   7.1175   7.1185   7.1195   7.1205   7.1215   7.1225\n",
      " 7.1235   7.1245   7.1255   7.1265   7.1275   7.1285   7.1295   7.131\n",
      " 7.133    7.135    7.137    7.139    7.141    7.143    7.145    7.147\n",
      " 7.149    7.151    7.153    7.15451  7.15503  7.155045]\n",
      "ccm_energies : [7.102   7.104   7.106   7.108   7.1083  7.1086  7.1089  7.1092  7.1095\n",
      " 7.1098  7.1101  7.1104  7.1107  7.111   7.1113  7.1116  7.1119  7.1122\n",
      " 7.1125  7.1128  7.1131  7.1134  7.1137  7.114   7.115   7.116   7.117\n",
      " 7.118   7.119   7.12    7.121   7.122   7.123   7.124   7.125   7.126\n",
      " 7.127   7.128   7.129   7.13    7.132   7.134   7.136   7.138   7.14\n",
      " 7.142   7.144   7.146   7.148   7.15    7.152   7.154   7.15502 7.15504]\n"
     ]
    }
   ],
   "source": [
    "object_inspector(f)"
   ]
  },
  {
   "cell_type": "markdown",
   "id": "dedf76ae-01e7-43cc-ba6a-991818cb7544",
   "metadata": {},
   "source": [
    "**NOTE:** Filtering the shots updates the xray and simultaneous logic filters values to shots based on set thresholds"
   ]
  },
  {
   "cell_type": "code",
   "execution_count": 26,
   "id": "7c6d5f29-2a7d-4ac9-b231-3ea4e336a4b1",
   "metadata": {},
   "outputs": [
    {
     "name": "stdout",
     "output_type": "stream",
     "text": [
      "Total shots: 50731  |  Shots after filtering: 44215\n"
     ]
    }
   ],
   "source": [
    "print(\"Total shots:\", len(f.xray), \" | \", \"Shots after filtering:\", np.sum(f.xray))"
   ]
  },
  {
   "cell_type": "code",
   "execution_count": 27,
   "id": "d15d067f-de40-4ccd-9017-8852b1d8ad4c",
   "metadata": {},
   "outputs": [],
   "source": [
    "analysis.union_shots(f,'epix',['simultaneous','laser'])"
   ]
  },
  {
   "cell_type": "code",
   "execution_count": 28,
   "id": "d72696a5-81a6-416c-a3df-b547a6a34aac",
   "metadata": {},
   "outputs": [
    {
     "name": "stdout",
     "output_type": "stream",
     "text": [
      "----- METHODS -----\n",
      "('__init__', <bound method spectroscopy_run.__init__ of <XSpect.XSpect_Analysis.spectroscopy_run object at 0x7f1cd1577f40>>)\n",
      "('close_h5', <bound method spectroscopy_run.close_h5 of <XSpect.XSpect_Analysis.spectroscopy_run object at 0x7f1cd1577f40>>)\n",
      "('get_run_shot_properties', <bound method spectroscopy_run.get_run_shot_properties of <XSpect.XSpect_Analysis.spectroscopy_run object at 0x7f1cd1577f40>>)\n",
      "('get_scan_val', <bound method spectroscopy_run.get_scan_val of <XSpect.XSpect_Analysis.spectroscopy_run object at 0x7f1cd1577f40>>)\n",
      "('load_run_key_delayed', <bound method spectroscopy_run.load_run_key_delayed of <XSpect.XSpect_Analysis.spectroscopy_run object at 0x7f1cd1577f40>>)\n",
      "('load_run_keys', <bound method spectroscopy_run.load_run_keys of <XSpect.XSpect_Analysis.spectroscopy_run object at 0x7f1cd1577f40>>)\n",
      "('load_sum_run_scattering', <bound method spectroscopy_run.load_sum_run_scattering of <XSpect.XSpect_Analysis.spectroscopy_run object at 0x7f1cd1577f40>>)\n",
      "('purge_all_keys', <bound method spectroscopy_run.purge_all_keys of <XSpect.XSpect_Analysis.spectroscopy_run object at 0x7f1cd1577f40>>)\n",
      "('update_status', <bound method spectroscopy_run.update_status of <XSpect.XSpect_Analysis.spectroscopy_run object at 0x7f1cd1577f40>>)\n",
      "----- ATTRIBUTES -----\n",
      "spec_experiment : <XSpect.XSpect_Analysis.spectroscopy_experiment object at 0x7f1ca0ed5fd0>\n",
      "run_number : 19\n",
      "run_file : /sdf/data/lcls/ds/xcs/xcs100864324/hdf5/smalldata/xcs100864324_Run0019.h5\n",
      "status : ['New analysis of run 19 located in: /sdf/data/lcls/ds/xcs/xcs100864324/hdf5/smalldata/xcs100864324_Run0019.h5', 'Obtained shot properties', 'HDF5 import of keys completed. Time: 0.09 seconds', 'Mask: xray has been filtered on ipm by minimum threshold: 200.000\\nShots removed: 6146', 'Mask: simultaneous has been filtered on ipm by minimum threshold: 500.000\\nShots removed: 10918', 'Mask: simultaneous has been filtered on time_tool_ampl by minimum threshold: 0.010\\nShots removed: 358', 'Shots combined for detector epix on filters: simultaneous and laser into epix_simultaneous_laser']\n",
      "status_datetime : ['2025-04-23 02:12:49', '2025-04-23 02:12:49', '2025-04-23 02:12:50', '2025-04-23 02:12:55', '2025-04-23 02:12:55', '2025-04-23 02:12:55', '2025-04-23 02:12:56']\n",
      "verbose : False\n",
      "end_index : -1\n",
      "start_index : 0\n",
      "total_shots : 50731\n",
      "xray : [1 0 0 ... 1 1 1]\n",
      "laser : [1 1 1 ... 0 1 1]\n",
      "simultaneous : [ True False False ... False  True  True]\n",
      "run_shots : {'Total': 50731, 'X-ray Total': 50361, 'Laser Total': 36237}\n",
      "ccm : [7.1550389  7.1550389  7.1550389  ... 7.15506366 7.15506366 7.15506366]\n",
      "ccm_E_setpoint : [7.15501588 7.15501588 7.15501588 ... 7.1550389  7.1550389  7.1550389 ]\n",
      "time_tool_correction : [-0.08867445  0.41373819  0.40845152 ...  0.         -0.36357508\n",
      "  0.14634764]\n",
      "lxt_ttc : [0. 0. 0. ... 0. 0. 0.]\n",
      "encoder : [33.60894199 33.38665428 33.16516712 ...  1.45847961  1.45834618\n",
      "  1.45821275]\n",
      "ipm : [1470.03605992   90.43101491   34.57582856 ...  856.68665481 3675.72288778\n",
      " 1490.75976475]\n",
      "time_tool_ampl : [0.11674718 0.00318796 0.00944387 ... 0.         0.25577825 0.11167703]\n",
      "epix : [6.5570574 0.        0.        ... 0.        9.729452  0.       ]\n",
      "scattering : [1470.03605992   90.43101491   34.57582856 ... 3675.72288778 1490.75976475\n",
      "  598.68502345]\n",
      "ccm_bins : [7.103    7.105    7.107    7.10815  7.10845  7.10875  7.10905  7.10935\n",
      " 7.10965  7.10995  7.11025  7.11055  7.11085  7.11115  7.11145  7.11175\n",
      " 7.11205  7.11235  7.11265  7.11295  7.11325  7.11355  7.11385  7.1145\n",
      " 7.1155   7.1165   7.1175   7.1185   7.1195   7.1205   7.1215   7.1225\n",
      " 7.1235   7.1245   7.1255   7.1265   7.1275   7.1285   7.1295   7.131\n",
      " 7.133    7.135    7.137    7.139    7.141    7.143    7.145    7.147\n",
      " 7.149    7.151    7.153    7.15451  7.15503  7.155045]\n",
      "ccm_energies : [7.102   7.104   7.106   7.108   7.1083  7.1086  7.1089  7.1092  7.1095\n",
      " 7.1098  7.1101  7.1104  7.1107  7.111   7.1113  7.1116  7.1119  7.1122\n",
      " 7.1125  7.1128  7.1131  7.1134  7.1137  7.114   7.115   7.116   7.117\n",
      " 7.118   7.119   7.12    7.121   7.122   7.123   7.124   7.125   7.126\n",
      " 7.127   7.128   7.129   7.13    7.132   7.134   7.136   7.138   7.14\n",
      " 7.142   7.144   7.146   7.148   7.15    7.152   7.154   7.15502 7.15504]\n",
      "epix_simultaneous_laser : [6.5570574 0.        0.        ... 0.        9.729452  0.       ]\n"
     ]
    }
   ],
   "source": [
    "object_inspector(f)"
   ]
  },
  {
   "cell_type": "code",
   "execution_count": 29,
   "id": "da55d5d1-2c35-4c20-8139-a77020302169",
   "metadata": {},
   "outputs": [],
   "source": [
    "analysis.separate_shots(f,'epix',['xray','laser'])"
   ]
  },
  {
   "cell_type": "code",
   "execution_count": 30,
   "id": "2cd77290-4292-4eec-b2ba-1e23e9c23d62",
   "metadata": {},
   "outputs": [
    {
     "name": "stdout",
     "output_type": "stream",
     "text": [
      "----- METHODS -----\n",
      "('__init__', <bound method spectroscopy_run.__init__ of <XSpect.XSpect_Analysis.spectroscopy_run object at 0x7f1cd1577f40>>)\n",
      "('close_h5', <bound method spectroscopy_run.close_h5 of <XSpect.XSpect_Analysis.spectroscopy_run object at 0x7f1cd1577f40>>)\n",
      "('get_run_shot_properties', <bound method spectroscopy_run.get_run_shot_properties of <XSpect.XSpect_Analysis.spectroscopy_run object at 0x7f1cd1577f40>>)\n",
      "('get_scan_val', <bound method spectroscopy_run.get_scan_val of <XSpect.XSpect_Analysis.spectroscopy_run object at 0x7f1cd1577f40>>)\n",
      "('load_run_key_delayed', <bound method spectroscopy_run.load_run_key_delayed of <XSpect.XSpect_Analysis.spectroscopy_run object at 0x7f1cd1577f40>>)\n",
      "('load_run_keys', <bound method spectroscopy_run.load_run_keys of <XSpect.XSpect_Analysis.spectroscopy_run object at 0x7f1cd1577f40>>)\n",
      "('load_sum_run_scattering', <bound method spectroscopy_run.load_sum_run_scattering of <XSpect.XSpect_Analysis.spectroscopy_run object at 0x7f1cd1577f40>>)\n",
      "('purge_all_keys', <bound method spectroscopy_run.purge_all_keys of <XSpect.XSpect_Analysis.spectroscopy_run object at 0x7f1cd1577f40>>)\n",
      "('update_status', <bound method spectroscopy_run.update_status of <XSpect.XSpect_Analysis.spectroscopy_run object at 0x7f1cd1577f40>>)\n",
      "----- ATTRIBUTES -----\n",
      "spec_experiment : <XSpect.XSpect_Analysis.spectroscopy_experiment object at 0x7f1ca0ed5fd0>\n",
      "run_number : 19\n",
      "run_file : /sdf/data/lcls/ds/xcs/xcs100864324/hdf5/smalldata/xcs100864324_Run0019.h5\n",
      "status : ['New analysis of run 19 located in: /sdf/data/lcls/ds/xcs/xcs100864324/hdf5/smalldata/xcs100864324_Run0019.h5', 'Obtained shot properties', 'HDF5 import of keys completed. Time: 0.09 seconds', 'Mask: xray has been filtered on ipm by minimum threshold: 200.000\\nShots removed: 6146', 'Mask: simultaneous has been filtered on ipm by minimum threshold: 500.000\\nShots removed: 10918', 'Mask: simultaneous has been filtered on time_tool_ampl by minimum threshold: 0.010\\nShots removed: 358', 'Shots combined for detector epix on filters: simultaneous and laser into epix_simultaneous_laser', 'Shots (12634) separated for detector epix on filters: xray and laser into epix_xray_laser']\n",
      "status_datetime : ['2025-04-23 02:12:49', '2025-04-23 02:12:49', '2025-04-23 02:12:50', '2025-04-23 02:12:55', '2025-04-23 02:12:55', '2025-04-23 02:12:55', '2025-04-23 02:12:56', '2025-04-23 02:12:57']\n",
      "verbose : False\n",
      "end_index : -1\n",
      "start_index : 0\n",
      "total_shots : 50731\n",
      "xray : [1 0 0 ... 1 1 1]\n",
      "laser : [1 1 1 ... 0 1 1]\n",
      "simultaneous : [ True False False ... False  True  True]\n",
      "run_shots : {'Total': 50731, 'X-ray Total': 50361, 'Laser Total': 36237}\n",
      "ccm : [7.1550389  7.1550389  7.1550389  ... 7.15506366 7.15506366 7.15506366]\n",
      "ccm_E_setpoint : [7.15501588 7.15501588 7.15501588 ... 7.1550389  7.1550389  7.1550389 ]\n",
      "time_tool_correction : [-0.08867445  0.41373819  0.40845152 ...  0.         -0.36357508\n",
      "  0.14634764]\n",
      "lxt_ttc : [0. 0. 0. ... 0. 0. 0.]\n",
      "encoder : [33.60894199 33.38665428 33.16516712 ...  1.45847961  1.45834618\n",
      "  1.45821275]\n",
      "ipm : [1470.03605992   90.43101491   34.57582856 ...  856.68665481 3675.72288778\n",
      " 1490.75976475]\n",
      "time_tool_ampl : [0.11674718 0.00318796 0.00944387 ... 0.         0.25577825 0.11167703]\n",
      "epix : [6.5570574 0.        0.        ... 0.        9.729452  0.       ]\n",
      "scattering : [1470.03605992   90.43101491   34.57582856 ... 3675.72288778 1490.75976475\n",
      "  598.68502345]\n",
      "ccm_bins : [7.103    7.105    7.107    7.10815  7.10845  7.10875  7.10905  7.10935\n",
      " 7.10965  7.10995  7.11025  7.11055  7.11085  7.11115  7.11145  7.11175\n",
      " 7.11205  7.11235  7.11265  7.11295  7.11325  7.11355  7.11385  7.1145\n",
      " 7.1155   7.1165   7.1175   7.1185   7.1195   7.1205   7.1215   7.1225\n",
      " 7.1235   7.1245   7.1255   7.1265   7.1275   7.1285   7.1295   7.131\n",
      " 7.133    7.135    7.137    7.139    7.141    7.143    7.145    7.147\n",
      " 7.149    7.151    7.153    7.15451  7.15503  7.155045]\n",
      "ccm_energies : [7.102   7.104   7.106   7.108   7.1083  7.1086  7.1089  7.1092  7.1095\n",
      " 7.1098  7.1101  7.1104  7.1107  7.111   7.1113  7.1116  7.1119  7.1122\n",
      " 7.1125  7.1128  7.1131  7.1134  7.1137  7.114   7.115   7.116   7.117\n",
      " 7.118   7.119   7.12    7.121   7.122   7.123   7.124   7.125   7.126\n",
      " 7.127   7.128   7.129   7.13    7.132   7.134   7.136   7.138   7.14\n",
      " 7.142   7.144   7.146   7.148   7.15    7.152   7.154   7.15502 7.15504]\n",
      "epix_simultaneous_laser : [6.5570574 0.        0.        ... 0.        9.729452  0.       ]\n",
      "epix_xray_not_laser : [0.       0.       0.       ... 0.       5.321407 0.      ]\n"
     ]
    }
   ],
   "source": [
    "object_inspector(f)"
   ]
  },
  {
   "cell_type": "code",
   "execution_count": 31,
   "id": "fc2ccd43-823a-4a5a-9b4e-2cf37e5a9ef5",
   "metadata": {},
   "outputs": [],
   "source": [
    "analysis.union_shots(f,'ipm',['simultaneous','laser'])"
   ]
  },
  {
   "cell_type": "code",
   "execution_count": 32,
   "id": "af646f87-4fa4-497a-87a9-76d908f90a54",
   "metadata": {},
   "outputs": [
    {
     "name": "stdout",
     "output_type": "stream",
     "text": [
      "----- METHODS -----\n",
      "('__init__', <bound method spectroscopy_run.__init__ of <XSpect.XSpect_Analysis.spectroscopy_run object at 0x7f1cd1577f40>>)\n",
      "('close_h5', <bound method spectroscopy_run.close_h5 of <XSpect.XSpect_Analysis.spectroscopy_run object at 0x7f1cd1577f40>>)\n",
      "('get_run_shot_properties', <bound method spectroscopy_run.get_run_shot_properties of <XSpect.XSpect_Analysis.spectroscopy_run object at 0x7f1cd1577f40>>)\n",
      "('get_scan_val', <bound method spectroscopy_run.get_scan_val of <XSpect.XSpect_Analysis.spectroscopy_run object at 0x7f1cd1577f40>>)\n",
      "('load_run_key_delayed', <bound method spectroscopy_run.load_run_key_delayed of <XSpect.XSpect_Analysis.spectroscopy_run object at 0x7f1cd1577f40>>)\n",
      "('load_run_keys', <bound method spectroscopy_run.load_run_keys of <XSpect.XSpect_Analysis.spectroscopy_run object at 0x7f1cd1577f40>>)\n",
      "('load_sum_run_scattering', <bound method spectroscopy_run.load_sum_run_scattering of <XSpect.XSpect_Analysis.spectroscopy_run object at 0x7f1cd1577f40>>)\n",
      "('purge_all_keys', <bound method spectroscopy_run.purge_all_keys of <XSpect.XSpect_Analysis.spectroscopy_run object at 0x7f1cd1577f40>>)\n",
      "('update_status', <bound method spectroscopy_run.update_status of <XSpect.XSpect_Analysis.spectroscopy_run object at 0x7f1cd1577f40>>)\n",
      "----- ATTRIBUTES -----\n",
      "spec_experiment : <XSpect.XSpect_Analysis.spectroscopy_experiment object at 0x7f1ca0ed5fd0>\n",
      "run_number : 19\n",
      "run_file : /sdf/data/lcls/ds/xcs/xcs100864324/hdf5/smalldata/xcs100864324_Run0019.h5\n",
      "status : ['New analysis of run 19 located in: /sdf/data/lcls/ds/xcs/xcs100864324/hdf5/smalldata/xcs100864324_Run0019.h5', 'Obtained shot properties', 'HDF5 import of keys completed. Time: 0.09 seconds', 'Mask: xray has been filtered on ipm by minimum threshold: 200.000\\nShots removed: 6146', 'Mask: simultaneous has been filtered on ipm by minimum threshold: 500.000\\nShots removed: 10918', 'Mask: simultaneous has been filtered on time_tool_ampl by minimum threshold: 0.010\\nShots removed: 358', 'Shots combined for detector epix on filters: simultaneous and laser into epix_simultaneous_laser', 'Shots (12634) separated for detector epix on filters: xray and laser into epix_xray_laser', 'Shots combined for detector ipm on filters: simultaneous and laser into ipm_simultaneous_laser']\n",
      "status_datetime : ['2025-04-23 02:12:49', '2025-04-23 02:12:49', '2025-04-23 02:12:50', '2025-04-23 02:12:55', '2025-04-23 02:12:55', '2025-04-23 02:12:55', '2025-04-23 02:12:56', '2025-04-23 02:12:57', '2025-04-23 02:12:57']\n",
      "verbose : False\n",
      "end_index : -1\n",
      "start_index : 0\n",
      "total_shots : 50731\n",
      "xray : [1 0 0 ... 1 1 1]\n",
      "laser : [1 1 1 ... 0 1 1]\n",
      "simultaneous : [ True False False ... False  True  True]\n",
      "run_shots : {'Total': 50731, 'X-ray Total': 50361, 'Laser Total': 36237}\n",
      "ccm : [7.1550389  7.1550389  7.1550389  ... 7.15506366 7.15506366 7.15506366]\n",
      "ccm_E_setpoint : [7.15501588 7.15501588 7.15501588 ... 7.1550389  7.1550389  7.1550389 ]\n",
      "time_tool_correction : [-0.08867445  0.41373819  0.40845152 ...  0.         -0.36357508\n",
      "  0.14634764]\n",
      "lxt_ttc : [0. 0. 0. ... 0. 0. 0.]\n",
      "encoder : [33.60894199 33.38665428 33.16516712 ...  1.45847961  1.45834618\n",
      "  1.45821275]\n",
      "ipm : [1470.03605992   90.43101491   34.57582856 ...  856.68665481 3675.72288778\n",
      " 1490.75976475]\n",
      "time_tool_ampl : [0.11674718 0.00318796 0.00944387 ... 0.         0.25577825 0.11167703]\n",
      "epix : [6.5570574 0.        0.        ... 0.        9.729452  0.       ]\n",
      "scattering : [1470.03605992   90.43101491   34.57582856 ... 3675.72288778 1490.75976475\n",
      "  598.68502345]\n",
      "ccm_bins : [7.103    7.105    7.107    7.10815  7.10845  7.10875  7.10905  7.10935\n",
      " 7.10965  7.10995  7.11025  7.11055  7.11085  7.11115  7.11145  7.11175\n",
      " 7.11205  7.11235  7.11265  7.11295  7.11325  7.11355  7.11385  7.1145\n",
      " 7.1155   7.1165   7.1175   7.1185   7.1195   7.1205   7.1215   7.1225\n",
      " 7.1235   7.1245   7.1255   7.1265   7.1275   7.1285   7.1295   7.131\n",
      " 7.133    7.135    7.137    7.139    7.141    7.143    7.145    7.147\n",
      " 7.149    7.151    7.153    7.15451  7.15503  7.155045]\n",
      "ccm_energies : [7.102   7.104   7.106   7.108   7.1083  7.1086  7.1089  7.1092  7.1095\n",
      " 7.1098  7.1101  7.1104  7.1107  7.111   7.1113  7.1116  7.1119  7.1122\n",
      " 7.1125  7.1128  7.1131  7.1134  7.1137  7.114   7.115   7.116   7.117\n",
      " 7.118   7.119   7.12    7.121   7.122   7.123   7.124   7.125   7.126\n",
      " 7.127   7.128   7.129   7.13    7.132   7.134   7.136   7.138   7.14\n",
      " 7.142   7.144   7.146   7.148   7.15    7.152   7.154   7.15502 7.15504]\n",
      "epix_simultaneous_laser : [6.5570574 0.        0.        ... 0.        9.729452  0.       ]\n",
      "epix_xray_not_laser : [0.       0.       0.       ... 0.       5.321407 0.      ]\n",
      "ipm_simultaneous_laser : [1470.03605992  506.63841902  835.90726816 ...  978.43892714 3675.72288778\n",
      " 1490.75976475]\n"
     ]
    }
   ],
   "source": [
    "object_inspector(f)"
   ]
  },
  {
   "cell_type": "code",
   "execution_count": 33,
   "id": "af474bd6-a918-4120-9dad-801f53789e3f",
   "metadata": {},
   "outputs": [],
   "source": [
    "analysis.separate_shots(f,'ipm',['xray','laser'])"
   ]
  },
  {
   "cell_type": "code",
   "execution_count": 34,
   "id": "135d2f49-6248-4f9f-a743-d6a74d195f62",
   "metadata": {},
   "outputs": [
    {
     "name": "stdout",
     "output_type": "stream",
     "text": [
      "----- METHODS -----\n",
      "('__init__', <bound method spectroscopy_run.__init__ of <XSpect.XSpect_Analysis.spectroscopy_run object at 0x7f1cd1577f40>>)\n",
      "('close_h5', <bound method spectroscopy_run.close_h5 of <XSpect.XSpect_Analysis.spectroscopy_run object at 0x7f1cd1577f40>>)\n",
      "('get_run_shot_properties', <bound method spectroscopy_run.get_run_shot_properties of <XSpect.XSpect_Analysis.spectroscopy_run object at 0x7f1cd1577f40>>)\n",
      "('get_scan_val', <bound method spectroscopy_run.get_scan_val of <XSpect.XSpect_Analysis.spectroscopy_run object at 0x7f1cd1577f40>>)\n",
      "('load_run_key_delayed', <bound method spectroscopy_run.load_run_key_delayed of <XSpect.XSpect_Analysis.spectroscopy_run object at 0x7f1cd1577f40>>)\n",
      "('load_run_keys', <bound method spectroscopy_run.load_run_keys of <XSpect.XSpect_Analysis.spectroscopy_run object at 0x7f1cd1577f40>>)\n",
      "('load_sum_run_scattering', <bound method spectroscopy_run.load_sum_run_scattering of <XSpect.XSpect_Analysis.spectroscopy_run object at 0x7f1cd1577f40>>)\n",
      "('purge_all_keys', <bound method spectroscopy_run.purge_all_keys of <XSpect.XSpect_Analysis.spectroscopy_run object at 0x7f1cd1577f40>>)\n",
      "('update_status', <bound method spectroscopy_run.update_status of <XSpect.XSpect_Analysis.spectroscopy_run object at 0x7f1cd1577f40>>)\n",
      "----- ATTRIBUTES -----\n",
      "spec_experiment : <XSpect.XSpect_Analysis.spectroscopy_experiment object at 0x7f1ca0ed5fd0>\n",
      "run_number : 19\n",
      "run_file : /sdf/data/lcls/ds/xcs/xcs100864324/hdf5/smalldata/xcs100864324_Run0019.h5\n",
      "status : ['New analysis of run 19 located in: /sdf/data/lcls/ds/xcs/xcs100864324/hdf5/smalldata/xcs100864324_Run0019.h5', 'Obtained shot properties', 'HDF5 import of keys completed. Time: 0.09 seconds', 'Mask: xray has been filtered on ipm by minimum threshold: 200.000\\nShots removed: 6146', 'Mask: simultaneous has been filtered on ipm by minimum threshold: 500.000\\nShots removed: 10918', 'Mask: simultaneous has been filtered on time_tool_ampl by minimum threshold: 0.010\\nShots removed: 358', 'Shots combined for detector epix on filters: simultaneous and laser into epix_simultaneous_laser', 'Shots (12634) separated for detector epix on filters: xray and laser into epix_xray_laser', 'Shots combined for detector ipm on filters: simultaneous and laser into ipm_simultaneous_laser', 'Shots (12634) separated for detector ipm on filters: xray and laser into ipm_xray_laser']\n",
      "status_datetime : ['2025-04-23 02:12:49', '2025-04-23 02:12:49', '2025-04-23 02:12:50', '2025-04-23 02:12:55', '2025-04-23 02:12:55', '2025-04-23 02:12:55', '2025-04-23 02:12:56', '2025-04-23 02:12:57', '2025-04-23 02:12:57', '2025-04-23 02:12:58']\n",
      "verbose : False\n",
      "end_index : -1\n",
      "start_index : 0\n",
      "total_shots : 50731\n",
      "xray : [1 0 0 ... 1 1 1]\n",
      "laser : [1 1 1 ... 0 1 1]\n",
      "simultaneous : [ True False False ... False  True  True]\n",
      "run_shots : {'Total': 50731, 'X-ray Total': 50361, 'Laser Total': 36237}\n",
      "ccm : [7.1550389  7.1550389  7.1550389  ... 7.15506366 7.15506366 7.15506366]\n",
      "ccm_E_setpoint : [7.15501588 7.15501588 7.15501588 ... 7.1550389  7.1550389  7.1550389 ]\n",
      "time_tool_correction : [-0.08867445  0.41373819  0.40845152 ...  0.         -0.36357508\n",
      "  0.14634764]\n",
      "lxt_ttc : [0. 0. 0. ... 0. 0. 0.]\n",
      "encoder : [33.60894199 33.38665428 33.16516712 ...  1.45847961  1.45834618\n",
      "  1.45821275]\n",
      "ipm : [1470.03605992   90.43101491   34.57582856 ...  856.68665481 3675.72288778\n",
      " 1490.75976475]\n",
      "time_tool_ampl : [0.11674718 0.00318796 0.00944387 ... 0.         0.25577825 0.11167703]\n",
      "epix : [6.5570574 0.        0.        ... 0.        9.729452  0.       ]\n",
      "scattering : [1470.03605992   90.43101491   34.57582856 ... 3675.72288778 1490.75976475\n",
      "  598.68502345]\n",
      "ccm_bins : [7.103    7.105    7.107    7.10815  7.10845  7.10875  7.10905  7.10935\n",
      " 7.10965  7.10995  7.11025  7.11055  7.11085  7.11115  7.11145  7.11175\n",
      " 7.11205  7.11235  7.11265  7.11295  7.11325  7.11355  7.11385  7.1145\n",
      " 7.1155   7.1165   7.1175   7.1185   7.1195   7.1205   7.1215   7.1225\n",
      " 7.1235   7.1245   7.1255   7.1265   7.1275   7.1285   7.1295   7.131\n",
      " 7.133    7.135    7.137    7.139    7.141    7.143    7.145    7.147\n",
      " 7.149    7.151    7.153    7.15451  7.15503  7.155045]\n",
      "ccm_energies : [7.102   7.104   7.106   7.108   7.1083  7.1086  7.1089  7.1092  7.1095\n",
      " 7.1098  7.1101  7.1104  7.1107  7.111   7.1113  7.1116  7.1119  7.1122\n",
      " 7.1125  7.1128  7.1131  7.1134  7.1137  7.114   7.115   7.116   7.117\n",
      " 7.118   7.119   7.12    7.121   7.122   7.123   7.124   7.125   7.126\n",
      " 7.127   7.128   7.129   7.13    7.132   7.134   7.136   7.138   7.14\n",
      " 7.142   7.144   7.146   7.148   7.15    7.152   7.154   7.15502 7.15504]\n",
      "epix_simultaneous_laser : [6.5570574 0.        0.        ... 0.        9.729452  0.       ]\n",
      "epix_xray_not_laser : [0.       0.       0.       ... 0.       5.321407 0.      ]\n",
      "ipm_simultaneous_laser : [1470.03605992  506.63841902  835.90726816 ...  978.43892714 3675.72288778\n",
      " 1490.75976475]\n",
      "ipm_xray_not_laser : [ 972.32626116  458.42583211 1479.6341751  ... 1583.05064816  850.74819942\n",
      "  856.68665481]\n"
     ]
    }
   ],
   "source": [
    "object_inspector(f)"
   ]
  },
  {
   "cell_type": "code",
   "execution_count": 35,
   "id": "90210c13-f5fc-41a7-b2f1-d776370f3e5c",
   "metadata": {},
   "outputs": [],
   "source": [
    "analysis.union_shots(f,'ccm',['simultaneous','laser'])"
   ]
  },
  {
   "cell_type": "code",
   "execution_count": 36,
   "id": "85b309cc-07f6-4762-bf10-37af755ce78d",
   "metadata": {},
   "outputs": [
    {
     "name": "stdout",
     "output_type": "stream",
     "text": [
      "----- METHODS -----\n",
      "('__init__', <bound method spectroscopy_run.__init__ of <XSpect.XSpect_Analysis.spectroscopy_run object at 0x7f1cd1577f40>>)\n",
      "('close_h5', <bound method spectroscopy_run.close_h5 of <XSpect.XSpect_Analysis.spectroscopy_run object at 0x7f1cd1577f40>>)\n",
      "('get_run_shot_properties', <bound method spectroscopy_run.get_run_shot_properties of <XSpect.XSpect_Analysis.spectroscopy_run object at 0x7f1cd1577f40>>)\n",
      "('get_scan_val', <bound method spectroscopy_run.get_scan_val of <XSpect.XSpect_Analysis.spectroscopy_run object at 0x7f1cd1577f40>>)\n",
      "('load_run_key_delayed', <bound method spectroscopy_run.load_run_key_delayed of <XSpect.XSpect_Analysis.spectroscopy_run object at 0x7f1cd1577f40>>)\n",
      "('load_run_keys', <bound method spectroscopy_run.load_run_keys of <XSpect.XSpect_Analysis.spectroscopy_run object at 0x7f1cd1577f40>>)\n",
      "('load_sum_run_scattering', <bound method spectroscopy_run.load_sum_run_scattering of <XSpect.XSpect_Analysis.spectroscopy_run object at 0x7f1cd1577f40>>)\n",
      "('purge_all_keys', <bound method spectroscopy_run.purge_all_keys of <XSpect.XSpect_Analysis.spectroscopy_run object at 0x7f1cd1577f40>>)\n",
      "('update_status', <bound method spectroscopy_run.update_status of <XSpect.XSpect_Analysis.spectroscopy_run object at 0x7f1cd1577f40>>)\n",
      "----- ATTRIBUTES -----\n",
      "spec_experiment : <XSpect.XSpect_Analysis.spectroscopy_experiment object at 0x7f1ca0ed5fd0>\n",
      "run_number : 19\n",
      "run_file : /sdf/data/lcls/ds/xcs/xcs100864324/hdf5/smalldata/xcs100864324_Run0019.h5\n",
      "status : ['New analysis of run 19 located in: /sdf/data/lcls/ds/xcs/xcs100864324/hdf5/smalldata/xcs100864324_Run0019.h5', 'Obtained shot properties', 'HDF5 import of keys completed. Time: 0.09 seconds', 'Mask: xray has been filtered on ipm by minimum threshold: 200.000\\nShots removed: 6146', 'Mask: simultaneous has been filtered on ipm by minimum threshold: 500.000\\nShots removed: 10918', 'Mask: simultaneous has been filtered on time_tool_ampl by minimum threshold: 0.010\\nShots removed: 358', 'Shots combined for detector epix on filters: simultaneous and laser into epix_simultaneous_laser', 'Shots (12634) separated for detector epix on filters: xray and laser into epix_xray_laser', 'Shots combined for detector ipm on filters: simultaneous and laser into ipm_simultaneous_laser', 'Shots (12634) separated for detector ipm on filters: xray and laser into ipm_xray_laser', 'Shots combined for detector ccm on filters: simultaneous and laser into ccm_simultaneous_laser']\n",
      "status_datetime : ['2025-04-23 02:12:49', '2025-04-23 02:12:49', '2025-04-23 02:12:50', '2025-04-23 02:12:55', '2025-04-23 02:12:55', '2025-04-23 02:12:55', '2025-04-23 02:12:56', '2025-04-23 02:12:57', '2025-04-23 02:12:57', '2025-04-23 02:12:58', '2025-04-23 02:12:58']\n",
      "verbose : False\n",
      "end_index : -1\n",
      "start_index : 0\n",
      "total_shots : 50731\n",
      "xray : [1 0 0 ... 1 1 1]\n",
      "laser : [1 1 1 ... 0 1 1]\n",
      "simultaneous : [ True False False ... False  True  True]\n",
      "run_shots : {'Total': 50731, 'X-ray Total': 50361, 'Laser Total': 36237}\n",
      "ccm : [7.1550389  7.1550389  7.1550389  ... 7.15506366 7.15506366 7.15506366]\n",
      "ccm_E_setpoint : [7.15501588 7.15501588 7.15501588 ... 7.1550389  7.1550389  7.1550389 ]\n",
      "time_tool_correction : [-0.08867445  0.41373819  0.40845152 ...  0.         -0.36357508\n",
      "  0.14634764]\n",
      "lxt_ttc : [0. 0. 0. ... 0. 0. 0.]\n",
      "encoder : [33.60894199 33.38665428 33.16516712 ...  1.45847961  1.45834618\n",
      "  1.45821275]\n",
      "ipm : [1470.03605992   90.43101491   34.57582856 ...  856.68665481 3675.72288778\n",
      " 1490.75976475]\n",
      "time_tool_ampl : [0.11674718 0.00318796 0.00944387 ... 0.         0.25577825 0.11167703]\n",
      "epix : [6.5570574 0.        0.        ... 0.        9.729452  0.       ]\n",
      "scattering : [1470.03605992   90.43101491   34.57582856 ... 3675.72288778 1490.75976475\n",
      "  598.68502345]\n",
      "ccm_bins : [7.103    7.105    7.107    7.10815  7.10845  7.10875  7.10905  7.10935\n",
      " 7.10965  7.10995  7.11025  7.11055  7.11085  7.11115  7.11145  7.11175\n",
      " 7.11205  7.11235  7.11265  7.11295  7.11325  7.11355  7.11385  7.1145\n",
      " 7.1155   7.1165   7.1175   7.1185   7.1195   7.1205   7.1215   7.1225\n",
      " 7.1235   7.1245   7.1255   7.1265   7.1275   7.1285   7.1295   7.131\n",
      " 7.133    7.135    7.137    7.139    7.141    7.143    7.145    7.147\n",
      " 7.149    7.151    7.153    7.15451  7.15503  7.155045]\n",
      "ccm_energies : [7.102   7.104   7.106   7.108   7.1083  7.1086  7.1089  7.1092  7.1095\n",
      " 7.1098  7.1101  7.1104  7.1107  7.111   7.1113  7.1116  7.1119  7.1122\n",
      " 7.1125  7.1128  7.1131  7.1134  7.1137  7.114   7.115   7.116   7.117\n",
      " 7.118   7.119   7.12    7.121   7.122   7.123   7.124   7.125   7.126\n",
      " 7.127   7.128   7.129   7.13    7.132   7.134   7.136   7.138   7.14\n",
      " 7.142   7.144   7.146   7.148   7.15    7.152   7.154   7.15502 7.15504]\n",
      "epix_simultaneous_laser : [6.5570574 0.        0.        ... 0.        9.729452  0.       ]\n",
      "epix_xray_not_laser : [0.       0.       0.       ... 0.       5.321407 0.      ]\n",
      "ipm_simultaneous_laser : [1470.03605992  506.63841902  835.90726816 ...  978.43892714 3675.72288778\n",
      " 1490.75976475]\n",
      "ipm_xray_not_laser : [ 972.32626116  458.42583211 1479.6341751  ... 1583.05064816  850.74819942\n",
      "  856.68665481]\n",
      "ccm_simultaneous_laser : [7.1550389  7.1550389  7.1550389  ... 7.15506366 7.15506366 7.15506366]\n"
     ]
    }
   ],
   "source": [
    "object_inspector(f)"
   ]
  },
  {
   "cell_type": "code",
   "execution_count": 37,
   "id": "862a98ef-d4d3-42d7-b363-c80b4878bf9d",
   "metadata": {},
   "outputs": [],
   "source": [
    "analysis.separate_shots(f,'ccm',['xray','laser'])"
   ]
  },
  {
   "cell_type": "code",
   "execution_count": 38,
   "id": "87b4113c-767b-4ed1-bfbd-df68b003850b",
   "metadata": {},
   "outputs": [
    {
     "name": "stdout",
     "output_type": "stream",
     "text": [
      "----- METHODS -----\n",
      "('__init__', <bound method spectroscopy_run.__init__ of <XSpect.XSpect_Analysis.spectroscopy_run object at 0x7f1cd1577f40>>)\n",
      "('close_h5', <bound method spectroscopy_run.close_h5 of <XSpect.XSpect_Analysis.spectroscopy_run object at 0x7f1cd1577f40>>)\n",
      "('get_run_shot_properties', <bound method spectroscopy_run.get_run_shot_properties of <XSpect.XSpect_Analysis.spectroscopy_run object at 0x7f1cd1577f40>>)\n",
      "('get_scan_val', <bound method spectroscopy_run.get_scan_val of <XSpect.XSpect_Analysis.spectroscopy_run object at 0x7f1cd1577f40>>)\n",
      "('load_run_key_delayed', <bound method spectroscopy_run.load_run_key_delayed of <XSpect.XSpect_Analysis.spectroscopy_run object at 0x7f1cd1577f40>>)\n",
      "('load_run_keys', <bound method spectroscopy_run.load_run_keys of <XSpect.XSpect_Analysis.spectroscopy_run object at 0x7f1cd1577f40>>)\n",
      "('load_sum_run_scattering', <bound method spectroscopy_run.load_sum_run_scattering of <XSpect.XSpect_Analysis.spectroscopy_run object at 0x7f1cd1577f40>>)\n",
      "('purge_all_keys', <bound method spectroscopy_run.purge_all_keys of <XSpect.XSpect_Analysis.spectroscopy_run object at 0x7f1cd1577f40>>)\n",
      "('update_status', <bound method spectroscopy_run.update_status of <XSpect.XSpect_Analysis.spectroscopy_run object at 0x7f1cd1577f40>>)\n",
      "----- ATTRIBUTES -----\n",
      "spec_experiment : <XSpect.XSpect_Analysis.spectroscopy_experiment object at 0x7f1ca0ed5fd0>\n",
      "run_number : 19\n",
      "run_file : /sdf/data/lcls/ds/xcs/xcs100864324/hdf5/smalldata/xcs100864324_Run0019.h5\n",
      "status : ['New analysis of run 19 located in: /sdf/data/lcls/ds/xcs/xcs100864324/hdf5/smalldata/xcs100864324_Run0019.h5', 'Obtained shot properties', 'HDF5 import of keys completed. Time: 0.09 seconds', 'Mask: xray has been filtered on ipm by minimum threshold: 200.000\\nShots removed: 6146', 'Mask: simultaneous has been filtered on ipm by minimum threshold: 500.000\\nShots removed: 10918', 'Mask: simultaneous has been filtered on time_tool_ampl by minimum threshold: 0.010\\nShots removed: 358', 'Shots combined for detector epix on filters: simultaneous and laser into epix_simultaneous_laser', 'Shots (12634) separated for detector epix on filters: xray and laser into epix_xray_laser', 'Shots combined for detector ipm on filters: simultaneous and laser into ipm_simultaneous_laser', 'Shots (12634) separated for detector ipm on filters: xray and laser into ipm_xray_laser', 'Shots combined for detector ccm on filters: simultaneous and laser into ccm_simultaneous_laser', 'Shots (12634) separated for detector ccm on filters: xray and laser into ccm_xray_laser']\n",
      "status_datetime : ['2025-04-23 02:12:49', '2025-04-23 02:12:49', '2025-04-23 02:12:50', '2025-04-23 02:12:55', '2025-04-23 02:12:55', '2025-04-23 02:12:55', '2025-04-23 02:12:56', '2025-04-23 02:12:57', '2025-04-23 02:12:57', '2025-04-23 02:12:58', '2025-04-23 02:12:58', '2025-04-23 02:12:59']\n",
      "verbose : False\n",
      "end_index : -1\n",
      "start_index : 0\n",
      "total_shots : 50731\n",
      "xray : [1 0 0 ... 1 1 1]\n",
      "laser : [1 1 1 ... 0 1 1]\n",
      "simultaneous : [ True False False ... False  True  True]\n",
      "run_shots : {'Total': 50731, 'X-ray Total': 50361, 'Laser Total': 36237}\n",
      "ccm : [7.1550389  7.1550389  7.1550389  ... 7.15506366 7.15506366 7.15506366]\n",
      "ccm_E_setpoint : [7.15501588 7.15501588 7.15501588 ... 7.1550389  7.1550389  7.1550389 ]\n",
      "time_tool_correction : [-0.08867445  0.41373819  0.40845152 ...  0.         -0.36357508\n",
      "  0.14634764]\n",
      "lxt_ttc : [0. 0. 0. ... 0. 0. 0.]\n",
      "encoder : [33.60894199 33.38665428 33.16516712 ...  1.45847961  1.45834618\n",
      "  1.45821275]\n",
      "ipm : [1470.03605992   90.43101491   34.57582856 ...  856.68665481 3675.72288778\n",
      " 1490.75976475]\n",
      "time_tool_ampl : [0.11674718 0.00318796 0.00944387 ... 0.         0.25577825 0.11167703]\n",
      "epix : [6.5570574 0.        0.        ... 0.        9.729452  0.       ]\n",
      "scattering : [1470.03605992   90.43101491   34.57582856 ... 3675.72288778 1490.75976475\n",
      "  598.68502345]\n",
      "ccm_bins : [7.103    7.105    7.107    7.10815  7.10845  7.10875  7.10905  7.10935\n",
      " 7.10965  7.10995  7.11025  7.11055  7.11085  7.11115  7.11145  7.11175\n",
      " 7.11205  7.11235  7.11265  7.11295  7.11325  7.11355  7.11385  7.1145\n",
      " 7.1155   7.1165   7.1175   7.1185   7.1195   7.1205   7.1215   7.1225\n",
      " 7.1235   7.1245   7.1255   7.1265   7.1275   7.1285   7.1295   7.131\n",
      " 7.133    7.135    7.137    7.139    7.141    7.143    7.145    7.147\n",
      " 7.149    7.151    7.153    7.15451  7.15503  7.155045]\n",
      "ccm_energies : [7.102   7.104   7.106   7.108   7.1083  7.1086  7.1089  7.1092  7.1095\n",
      " 7.1098  7.1101  7.1104  7.1107  7.111   7.1113  7.1116  7.1119  7.1122\n",
      " 7.1125  7.1128  7.1131  7.1134  7.1137  7.114   7.115   7.116   7.117\n",
      " 7.118   7.119   7.12    7.121   7.122   7.123   7.124   7.125   7.126\n",
      " 7.127   7.128   7.129   7.13    7.132   7.134   7.136   7.138   7.14\n",
      " 7.142   7.144   7.146   7.148   7.15    7.152   7.154   7.15502 7.15504]\n",
      "epix_simultaneous_laser : [6.5570574 0.        0.        ... 0.        9.729452  0.       ]\n",
      "epix_xray_not_laser : [0.       0.       0.       ... 0.       5.321407 0.      ]\n",
      "ipm_simultaneous_laser : [1470.03605992  506.63841902  835.90726816 ...  978.43892714 3675.72288778\n",
      " 1490.75976475]\n",
      "ipm_xray_not_laser : [ 972.32626116  458.42583211 1479.6341751  ... 1583.05064816  850.74819942\n",
      "  856.68665481]\n",
      "ccm_simultaneous_laser : [7.1550389  7.1550389  7.1550389  ... 7.15506366 7.15506366 7.15506366]\n",
      "ccm_xray_not_laser : [7.1550389  7.1550389  7.1550389  ... 7.15506583 7.15506583 7.15506366]\n"
     ]
    }
   ],
   "source": [
    "object_inspector(f)"
   ]
  },
  {
   "cell_type": "code",
   "execution_count": 39,
   "id": "099358de-7794-47d8-a6e6-b14aa4fb49a3",
   "metadata": {},
   "outputs": [],
   "source": [
    "xas.time_bins=np.linspace(xas.mintime,xas.maxtime,xas.numpoints)"
   ]
  },
  {
   "cell_type": "code",
   "execution_count": 40,
   "id": "9190efa5-519d-4ece-aeed-9202b19b5b9e",
   "metadata": {},
   "outputs": [
    {
     "data": {
      "text/plain": [
       "array([-2.00000000e+00, -1.94979079e+00, -1.89958159e+00, -1.84937238e+00,\n",
       "       -1.79916318e+00, -1.74895397e+00, -1.69874477e+00, -1.64853556e+00,\n",
       "       -1.59832636e+00, -1.54811715e+00, -1.49790795e+00, -1.44769874e+00,\n",
       "       -1.39748954e+00, -1.34728033e+00, -1.29707113e+00, -1.24686192e+00,\n",
       "       -1.19665272e+00, -1.14644351e+00, -1.09623431e+00, -1.04602510e+00,\n",
       "       -9.95815900e-01, -9.45606695e-01, -8.95397490e-01, -8.45188285e-01,\n",
       "       -7.94979079e-01, -7.44769874e-01, -6.94560669e-01, -6.44351464e-01,\n",
       "       -5.94142259e-01, -5.43933054e-01, -4.93723849e-01, -4.43514644e-01,\n",
       "       -3.93305439e-01, -3.43096234e-01, -2.92887029e-01, -2.42677824e-01,\n",
       "       -1.92468619e-01, -1.42259414e-01, -9.20502092e-02, -4.18410042e-02,\n",
       "        8.36820084e-03,  5.85774059e-02,  1.08786611e-01,  1.58995816e-01,\n",
       "        2.09205021e-01,  2.59414226e-01,  3.09623431e-01,  3.59832636e-01,\n",
       "        4.10041841e-01,  4.60251046e-01,  5.10460251e-01,  5.60669456e-01,\n",
       "        6.10878661e-01,  6.61087866e-01,  7.11297071e-01,  7.61506276e-01,\n",
       "        8.11715481e-01,  8.61924686e-01,  9.12133891e-01,  9.62343096e-01,\n",
       "        1.01255230e+00,  1.06276151e+00,  1.11297071e+00,  1.16317992e+00,\n",
       "        1.21338912e+00,  1.26359833e+00,  1.31380753e+00,  1.36401674e+00,\n",
       "        1.41422594e+00,  1.46443515e+00,  1.51464435e+00,  1.56485356e+00,\n",
       "        1.61506276e+00,  1.66527197e+00,  1.71548117e+00,  1.76569038e+00,\n",
       "        1.81589958e+00,  1.86610879e+00,  1.91631799e+00,  1.96652720e+00,\n",
       "        2.01673640e+00,  2.06694561e+00,  2.11715481e+00,  2.16736402e+00,\n",
       "        2.21757322e+00,  2.26778243e+00,  2.31799163e+00,  2.36820084e+00,\n",
       "        2.41841004e+00,  2.46861925e+00,  2.51882845e+00,  2.56903766e+00,\n",
       "        2.61924686e+00,  2.66945607e+00,  2.71966527e+00,  2.76987448e+00,\n",
       "        2.82008368e+00,  2.87029289e+00,  2.92050209e+00,  2.97071130e+00,\n",
       "        3.02092050e+00,  3.07112971e+00,  3.12133891e+00,  3.17154812e+00,\n",
       "        3.22175732e+00,  3.27196653e+00,  3.32217573e+00,  3.37238494e+00,\n",
       "        3.42259414e+00,  3.47280335e+00,  3.52301255e+00,  3.57322176e+00,\n",
       "        3.62343096e+00,  3.67364017e+00,  3.72384937e+00,  3.77405858e+00,\n",
       "        3.82426778e+00,  3.87447699e+00,  3.92468619e+00,  3.97489540e+00,\n",
       "        4.02510460e+00,  4.07531381e+00,  4.12552301e+00,  4.17573222e+00,\n",
       "        4.22594142e+00,  4.27615063e+00,  4.32635983e+00,  4.37656904e+00,\n",
       "        4.42677824e+00,  4.47698745e+00,  4.52719665e+00,  4.57740586e+00,\n",
       "        4.62761506e+00,  4.67782427e+00,  4.72803347e+00,  4.77824268e+00,\n",
       "        4.82845188e+00,  4.87866109e+00,  4.92887029e+00,  4.97907950e+00,\n",
       "        5.02928870e+00,  5.07949791e+00,  5.12970711e+00,  5.17991632e+00,\n",
       "        5.23012552e+00,  5.28033473e+00,  5.33054393e+00,  5.38075314e+00,\n",
       "        5.43096234e+00,  5.48117155e+00,  5.53138075e+00,  5.58158996e+00,\n",
       "        5.63179916e+00,  5.68200837e+00,  5.73221757e+00,  5.78242678e+00,\n",
       "        5.83263598e+00,  5.88284519e+00,  5.93305439e+00,  5.98326360e+00,\n",
       "        6.03347280e+00,  6.08368201e+00,  6.13389121e+00,  6.18410042e+00,\n",
       "        6.23430962e+00,  6.28451883e+00,  6.33472803e+00,  6.38493724e+00,\n",
       "        6.43514644e+00,  6.48535565e+00,  6.53556485e+00,  6.58577406e+00,\n",
       "        6.63598326e+00,  6.68619247e+00,  6.73640167e+00,  6.78661088e+00,\n",
       "        6.83682008e+00,  6.88702929e+00,  6.93723849e+00,  6.98744770e+00,\n",
       "        7.03765690e+00,  7.08786611e+00,  7.13807531e+00,  7.18828452e+00,\n",
       "        7.23849372e+00,  7.28870293e+00,  7.33891213e+00,  7.38912134e+00,\n",
       "        7.43933054e+00,  7.48953975e+00,  7.53974895e+00,  7.58995816e+00,\n",
       "        7.64016736e+00,  7.69037657e+00,  7.74058577e+00,  7.79079498e+00,\n",
       "        7.84100418e+00,  7.89121339e+00,  7.94142259e+00,  7.99163180e+00,\n",
       "        8.04184100e+00,  8.09205021e+00,  8.14225941e+00,  8.19246862e+00,\n",
       "        8.24267782e+00,  8.29288703e+00,  8.34309623e+00,  8.39330544e+00,\n",
       "        8.44351464e+00,  8.49372385e+00,  8.54393305e+00,  8.59414226e+00,\n",
       "        8.64435146e+00,  8.69456067e+00,  8.74476987e+00,  8.79497908e+00,\n",
       "        8.84518828e+00,  8.89539749e+00,  8.94560669e+00,  8.99581590e+00,\n",
       "        9.04602510e+00,  9.09623431e+00,  9.14644351e+00,  9.19665272e+00,\n",
       "        9.24686192e+00,  9.29707113e+00,  9.34728033e+00,  9.39748954e+00,\n",
       "        9.44769874e+00,  9.49790795e+00,  9.54811715e+00,  9.59832636e+00,\n",
       "        9.64853556e+00,  9.69874477e+00,  9.74895397e+00,  9.79916318e+00,\n",
       "        9.84937238e+00,  9.89958159e+00,  9.94979079e+00,  1.00000000e+01])"
      ]
     },
     "execution_count": 40,
     "metadata": {},
     "output_type": "execute_result"
    }
   ],
   "source": [
    "xas.time_bins"
   ]
  },
  {
   "cell_type": "code",
   "execution_count": 41,
   "id": "8184dc48-8ba0-438d-a967-fa84a6d96eae",
   "metadata": {},
   "outputs": [],
   "source": [
    "analysis.time_binning(f,xas.time_bins)"
   ]
  },
  {
   "cell_type": "code",
   "execution_count": 42,
   "id": "2bde2247-2d22-450c-a169-519e18fe2034",
   "metadata": {},
   "outputs": [
    {
     "name": "stdout",
     "output_type": "stream",
     "text": [
      "----- METHODS -----\n",
      "('__init__', <bound method spectroscopy_run.__init__ of <XSpect.XSpect_Analysis.spectroscopy_run object at 0x7f1cd1577f40>>)\n",
      "('close_h5', <bound method spectroscopy_run.close_h5 of <XSpect.XSpect_Analysis.spectroscopy_run object at 0x7f1cd1577f40>>)\n",
      "('get_run_shot_properties', <bound method spectroscopy_run.get_run_shot_properties of <XSpect.XSpect_Analysis.spectroscopy_run object at 0x7f1cd1577f40>>)\n",
      "('get_scan_val', <bound method spectroscopy_run.get_scan_val of <XSpect.XSpect_Analysis.spectroscopy_run object at 0x7f1cd1577f40>>)\n",
      "('load_run_key_delayed', <bound method spectroscopy_run.load_run_key_delayed of <XSpect.XSpect_Analysis.spectroscopy_run object at 0x7f1cd1577f40>>)\n",
      "('load_run_keys', <bound method spectroscopy_run.load_run_keys of <XSpect.XSpect_Analysis.spectroscopy_run object at 0x7f1cd1577f40>>)\n",
      "('load_sum_run_scattering', <bound method spectroscopy_run.load_sum_run_scattering of <XSpect.XSpect_Analysis.spectroscopy_run object at 0x7f1cd1577f40>>)\n",
      "('purge_all_keys', <bound method spectroscopy_run.purge_all_keys of <XSpect.XSpect_Analysis.spectroscopy_run object at 0x7f1cd1577f40>>)\n",
      "('update_status', <bound method spectroscopy_run.update_status of <XSpect.XSpect_Analysis.spectroscopy_run object at 0x7f1cd1577f40>>)\n",
      "----- ATTRIBUTES -----\n",
      "spec_experiment : <XSpect.XSpect_Analysis.spectroscopy_experiment object at 0x7f1ca0ed5fd0>\n",
      "run_number : 19\n",
      "run_file : /sdf/data/lcls/ds/xcs/xcs100864324/hdf5/smalldata/xcs100864324_Run0019.h5\n",
      "status : ['New analysis of run 19 located in: /sdf/data/lcls/ds/xcs/xcs100864324/hdf5/smalldata/xcs100864324_Run0019.h5', 'Obtained shot properties', 'HDF5 import of keys completed. Time: 0.09 seconds', 'Mask: xray has been filtered on ipm by minimum threshold: 200.000\\nShots removed: 6146', 'Mask: simultaneous has been filtered on ipm by minimum threshold: 500.000\\nShots removed: 10918', 'Mask: simultaneous has been filtered on time_tool_ampl by minimum threshold: 0.010\\nShots removed: 358', 'Shots combined for detector epix on filters: simultaneous and laser into epix_simultaneous_laser', 'Shots (12634) separated for detector epix on filters: xray and laser into epix_xray_laser', 'Shots combined for detector ipm on filters: simultaneous and laser into ipm_simultaneous_laser', 'Shots (12634) separated for detector ipm on filters: xray and laser into ipm_xray_laser', 'Shots combined for detector ccm on filters: simultaneous and laser into ccm_simultaneous_laser', 'Shots (12634) separated for detector ccm on filters: xray and laser into ccm_xray_laser', 'Generated timing bins from -2.000000 to 10.000000 in 240 steps.']\n",
      "status_datetime : ['2025-04-23 02:12:49', '2025-04-23 02:12:49', '2025-04-23 02:12:50', '2025-04-23 02:12:55', '2025-04-23 02:12:55', '2025-04-23 02:12:55', '2025-04-23 02:12:56', '2025-04-23 02:12:57', '2025-04-23 02:12:57', '2025-04-23 02:12:58', '2025-04-23 02:12:58', '2025-04-23 02:12:59', '2025-04-23 02:13:01']\n",
      "verbose : False\n",
      "end_index : -1\n",
      "start_index : 0\n",
      "total_shots : 50731\n",
      "xray : [1 0 0 ... 1 1 1]\n",
      "laser : [1 1 1 ... 0 1 1]\n",
      "simultaneous : [ True False False ... False  True  True]\n",
      "run_shots : {'Total': 50731, 'X-ray Total': 50361, 'Laser Total': 36237}\n",
      "ccm : [7.1550389  7.1550389  7.1550389  ... 7.15506366 7.15506366 7.15506366]\n",
      "ccm_E_setpoint : [7.15501588 7.15501588 7.15501588 ... 7.1550389  7.1550389  7.1550389 ]\n",
      "time_tool_correction : [-0.08867445  0.41373819  0.40845152 ...  0.         -0.36357508\n",
      "  0.14634764]\n",
      "lxt_ttc : [0. 0. 0. ... 0. 0. 0.]\n",
      "encoder : [33.60894199 33.38665428 33.16516712 ...  1.45847961  1.45834618\n",
      "  1.45821275]\n",
      "ipm : [1470.03605992   90.43101491   34.57582856 ...  856.68665481 3675.72288778\n",
      " 1490.75976475]\n",
      "time_tool_ampl : [0.11674718 0.00318796 0.00944387 ... 0.         0.25577825 0.11167703]\n",
      "epix : [6.5570574 0.        0.        ... 0.        9.729452  0.       ]\n",
      "scattering : [1470.03605992   90.43101491   34.57582856 ... 3675.72288778 1490.75976475\n",
      "  598.68502345]\n",
      "ccm_bins : [7.103    7.105    7.107    7.10815  7.10845  7.10875  7.10905  7.10935\n",
      " 7.10965  7.10995  7.11025  7.11055  7.11085  7.11115  7.11145  7.11175\n",
      " 7.11205  7.11235  7.11265  7.11295  7.11325  7.11355  7.11385  7.1145\n",
      " 7.1155   7.1165   7.1175   7.1185   7.1195   7.1205   7.1215   7.1225\n",
      " 7.1235   7.1245   7.1255   7.1265   7.1275   7.1285   7.1295   7.131\n",
      " 7.133    7.135    7.137    7.139    7.141    7.143    7.145    7.147\n",
      " 7.149    7.151    7.153    7.15451  7.15503  7.155045]\n",
      "ccm_energies : [7.102   7.104   7.106   7.108   7.1083  7.1086  7.1089  7.1092  7.1095\n",
      " 7.1098  7.1101  7.1104  7.1107  7.111   7.1113  7.1116  7.1119  7.1122\n",
      " 7.1125  7.1128  7.1131  7.1134  7.1137  7.114   7.115   7.116   7.117\n",
      " 7.118   7.119   7.12    7.121   7.122   7.123   7.124   7.125   7.126\n",
      " 7.127   7.128   7.129   7.13    7.132   7.134   7.136   7.138   7.14\n",
      " 7.142   7.144   7.146   7.148   7.15    7.152   7.154   7.15502 7.15504]\n",
      "epix_simultaneous_laser : [6.5570574 0.        0.        ... 0.        9.729452  0.       ]\n",
      "epix_xray_not_laser : [0.       0.       0.       ... 0.       5.321407 0.      ]\n",
      "ipm_simultaneous_laser : [1470.03605992  506.63841902  835.90726816 ...  978.43892714 3675.72288778\n",
      " 1490.75976475]\n",
      "ipm_xray_not_laser : [ 972.32626116  458.42583211 1479.6341751  ... 1583.05064816  850.74819942\n",
      "  856.68665481]\n",
      "ccm_simultaneous_laser : [7.1550389  7.1550389  7.1550389  ... 7.15506366 7.15506366 7.15506366]\n",
      "ccm_xray_not_laser : [7.1550389  7.1550389  7.1550389  ... 7.15506583 7.15506583 7.15506366]\n",
      "delays : [33.52026754 33.80039246 33.57361864 ...  1.45847961  1.0947711\n",
      "  1.60456039]\n",
      "time_bins : [-2.00000000e+00 -1.94979079e+00 -1.89958159e+00 -1.84937238e+00\n",
      " -1.79916318e+00 -1.74895397e+00 -1.69874477e+00 -1.64853556e+00\n",
      " -1.59832636e+00 -1.54811715e+00 -1.49790795e+00 -1.44769874e+00\n",
      " -1.39748954e+00 -1.34728033e+00 -1.29707113e+00 -1.24686192e+00\n",
      " -1.19665272e+00 -1.14644351e+00 -1.09623431e+00 -1.04602510e+00\n",
      " -9.95815900e-01 -9.45606695e-01 -8.95397490e-01 -8.45188285e-01\n",
      " -7.94979079e-01 -7.44769874e-01 -6.94560669e-01 -6.44351464e-01\n",
      " -5.94142259e-01 -5.43933054e-01 -4.93723849e-01 -4.43514644e-01\n",
      " -3.93305439e-01 -3.43096234e-01 -2.92887029e-01 -2.42677824e-01\n",
      " -1.92468619e-01 -1.42259414e-01 -9.20502092e-02 -4.18410042e-02\n",
      "  8.36820084e-03  5.85774059e-02  1.08786611e-01  1.58995816e-01\n",
      "  2.09205021e-01  2.59414226e-01  3.09623431e-01  3.59832636e-01\n",
      "  4.10041841e-01  4.60251046e-01  5.10460251e-01  5.60669456e-01\n",
      "  6.10878661e-01  6.61087866e-01  7.11297071e-01  7.61506276e-01\n",
      "  8.11715481e-01  8.61924686e-01  9.12133891e-01  9.62343096e-01\n",
      "  1.01255230e+00  1.06276151e+00  1.11297071e+00  1.16317992e+00\n",
      "  1.21338912e+00  1.26359833e+00  1.31380753e+00  1.36401674e+00\n",
      "  1.41422594e+00  1.46443515e+00  1.51464435e+00  1.56485356e+00\n",
      "  1.61506276e+00  1.66527197e+00  1.71548117e+00  1.76569038e+00\n",
      "  1.81589958e+00  1.86610879e+00  1.91631799e+00  1.96652720e+00\n",
      "  2.01673640e+00  2.06694561e+00  2.11715481e+00  2.16736402e+00\n",
      "  2.21757322e+00  2.26778243e+00  2.31799163e+00  2.36820084e+00\n",
      "  2.41841004e+00  2.46861925e+00  2.51882845e+00  2.56903766e+00\n",
      "  2.61924686e+00  2.66945607e+00  2.71966527e+00  2.76987448e+00\n",
      "  2.82008368e+00  2.87029289e+00  2.92050209e+00  2.97071130e+00\n",
      "  3.02092050e+00  3.07112971e+00  3.12133891e+00  3.17154812e+00\n",
      "  3.22175732e+00  3.27196653e+00  3.32217573e+00  3.37238494e+00\n",
      "  3.42259414e+00  3.47280335e+00  3.52301255e+00  3.57322176e+00\n",
      "  3.62343096e+00  3.67364017e+00  3.72384937e+00  3.77405858e+00\n",
      "  3.82426778e+00  3.87447699e+00  3.92468619e+00  3.97489540e+00\n",
      "  4.02510460e+00  4.07531381e+00  4.12552301e+00  4.17573222e+00\n",
      "  4.22594142e+00  4.27615063e+00  4.32635983e+00  4.37656904e+00\n",
      "  4.42677824e+00  4.47698745e+00  4.52719665e+00  4.57740586e+00\n",
      "  4.62761506e+00  4.67782427e+00  4.72803347e+00  4.77824268e+00\n",
      "  4.82845188e+00  4.87866109e+00  4.92887029e+00  4.97907950e+00\n",
      "  5.02928870e+00  5.07949791e+00  5.12970711e+00  5.17991632e+00\n",
      "  5.23012552e+00  5.28033473e+00  5.33054393e+00  5.38075314e+00\n",
      "  5.43096234e+00  5.48117155e+00  5.53138075e+00  5.58158996e+00\n",
      "  5.63179916e+00  5.68200837e+00  5.73221757e+00  5.78242678e+00\n",
      "  5.83263598e+00  5.88284519e+00  5.93305439e+00  5.98326360e+00\n",
      "  6.03347280e+00  6.08368201e+00  6.13389121e+00  6.18410042e+00\n",
      "  6.23430962e+00  6.28451883e+00  6.33472803e+00  6.38493724e+00\n",
      "  6.43514644e+00  6.48535565e+00  6.53556485e+00  6.58577406e+00\n",
      "  6.63598326e+00  6.68619247e+00  6.73640167e+00  6.78661088e+00\n",
      "  6.83682008e+00  6.88702929e+00  6.93723849e+00  6.98744770e+00\n",
      "  7.03765690e+00  7.08786611e+00  7.13807531e+00  7.18828452e+00\n",
      "  7.23849372e+00  7.28870293e+00  7.33891213e+00  7.38912134e+00\n",
      "  7.43933054e+00  7.48953975e+00  7.53974895e+00  7.58995816e+00\n",
      "  7.64016736e+00  7.69037657e+00  7.74058577e+00  7.79079498e+00\n",
      "  7.84100418e+00  7.89121339e+00  7.94142259e+00  7.99163180e+00\n",
      "  8.04184100e+00  8.09205021e+00  8.14225941e+00  8.19246862e+00\n",
      "  8.24267782e+00  8.29288703e+00  8.34309623e+00  8.39330544e+00\n",
      "  8.44351464e+00  8.49372385e+00  8.54393305e+00  8.59414226e+00\n",
      "  8.64435146e+00  8.69456067e+00  8.74476987e+00  8.79497908e+00\n",
      "  8.84518828e+00  8.89539749e+00  8.94560669e+00  8.99581590e+00\n",
      "  9.04602510e+00  9.09623431e+00  9.14644351e+00  9.19665272e+00\n",
      "  9.24686192e+00  9.29707113e+00  9.34728033e+00  9.39748954e+00\n",
      "  9.44769874e+00  9.49790795e+00  9.54811715e+00  9.59832636e+00\n",
      "  9.64853556e+00  9.69874477e+00  9.74895397e+00  9.79916318e+00\n",
      "  9.84937238e+00  9.89958159e+00  9.94979079e+00  1.00000000e+01]\n",
      "timing_bin_indices : [240 240 240 ...  69  62  72]\n"
     ]
    }
   ],
   "source": [
    "object_inspector(f)"
   ]
  },
  {
   "cell_type": "code",
   "execution_count": 43,
   "id": "997710bc-309f-4eb3-9473-1be2b2f0ac60",
   "metadata": {},
   "outputs": [],
   "source": [
    "analysis.ccm_binning(f,'ccm_bins','ccm')"
   ]
  },
  {
   "cell_type": "code",
   "execution_count": 44,
   "id": "ade90e60-8439-42d7-b179-52339fbad944",
   "metadata": {},
   "outputs": [
    {
     "name": "stdout",
     "output_type": "stream",
     "text": [
      "----- METHODS -----\n",
      "('__init__', <bound method spectroscopy_run.__init__ of <XSpect.XSpect_Analysis.spectroscopy_run object at 0x7f1cd1577f40>>)\n",
      "('close_h5', <bound method spectroscopy_run.close_h5 of <XSpect.XSpect_Analysis.spectroscopy_run object at 0x7f1cd1577f40>>)\n",
      "('get_run_shot_properties', <bound method spectroscopy_run.get_run_shot_properties of <XSpect.XSpect_Analysis.spectroscopy_run object at 0x7f1cd1577f40>>)\n",
      "('get_scan_val', <bound method spectroscopy_run.get_scan_val of <XSpect.XSpect_Analysis.spectroscopy_run object at 0x7f1cd1577f40>>)\n",
      "('load_run_key_delayed', <bound method spectroscopy_run.load_run_key_delayed of <XSpect.XSpect_Analysis.spectroscopy_run object at 0x7f1cd1577f40>>)\n",
      "('load_run_keys', <bound method spectroscopy_run.load_run_keys of <XSpect.XSpect_Analysis.spectroscopy_run object at 0x7f1cd1577f40>>)\n",
      "('load_sum_run_scattering', <bound method spectroscopy_run.load_sum_run_scattering of <XSpect.XSpect_Analysis.spectroscopy_run object at 0x7f1cd1577f40>>)\n",
      "('purge_all_keys', <bound method spectroscopy_run.purge_all_keys of <XSpect.XSpect_Analysis.spectroscopy_run object at 0x7f1cd1577f40>>)\n",
      "('update_status', <bound method spectroscopy_run.update_status of <XSpect.XSpect_Analysis.spectroscopy_run object at 0x7f1cd1577f40>>)\n",
      "----- ATTRIBUTES -----\n",
      "spec_experiment : <XSpect.XSpect_Analysis.spectroscopy_experiment object at 0x7f1ca0ed5fd0>\n",
      "run_number : 19\n",
      "run_file : /sdf/data/lcls/ds/xcs/xcs100864324/hdf5/smalldata/xcs100864324_Run0019.h5\n",
      "status : ['New analysis of run 19 located in: /sdf/data/lcls/ds/xcs/xcs100864324/hdf5/smalldata/xcs100864324_Run0019.h5', 'Obtained shot properties', 'HDF5 import of keys completed. Time: 0.09 seconds', 'Mask: xray has been filtered on ipm by minimum threshold: 200.000\\nShots removed: 6146', 'Mask: simultaneous has been filtered on ipm by minimum threshold: 500.000\\nShots removed: 10918', 'Mask: simultaneous has been filtered on time_tool_ampl by minimum threshold: 0.010\\nShots removed: 358', 'Shots combined for detector epix on filters: simultaneous and laser into epix_simultaneous_laser', 'Shots (12634) separated for detector epix on filters: xray and laser into epix_xray_laser', 'Shots combined for detector ipm on filters: simultaneous and laser into ipm_simultaneous_laser', 'Shots (12634) separated for detector ipm on filters: xray and laser into ipm_xray_laser', 'Shots combined for detector ccm on filters: simultaneous and laser into ccm_simultaneous_laser', 'Shots (12634) separated for detector ccm on filters: xray and laser into ccm_xray_laser', 'Generated timing bins from -2.000000 to 10.000000 in 240 steps.', 'Generated ccm bins from 7.103000 to 7.155045 in 54 steps.']\n",
      "status_datetime : ['2025-04-23 02:12:49', '2025-04-23 02:12:49', '2025-04-23 02:12:50', '2025-04-23 02:12:55', '2025-04-23 02:12:55', '2025-04-23 02:12:55', '2025-04-23 02:12:56', '2025-04-23 02:12:57', '2025-04-23 02:12:57', '2025-04-23 02:12:58', '2025-04-23 02:12:58', '2025-04-23 02:12:59', '2025-04-23 02:13:01', '2025-04-23 02:13:02']\n",
      "verbose : False\n",
      "end_index : -1\n",
      "start_index : 0\n",
      "total_shots : 50731\n",
      "xray : [1 0 0 ... 1 1 1]\n",
      "laser : [1 1 1 ... 0 1 1]\n",
      "simultaneous : [ True False False ... False  True  True]\n",
      "run_shots : {'Total': 50731, 'X-ray Total': 50361, 'Laser Total': 36237}\n",
      "ccm : [7.1550389  7.1550389  7.1550389  ... 7.15506366 7.15506366 7.15506366]\n",
      "ccm_E_setpoint : [7.15501588 7.15501588 7.15501588 ... 7.1550389  7.1550389  7.1550389 ]\n",
      "time_tool_correction : [-0.08867445  0.41373819  0.40845152 ...  0.         -0.36357508\n",
      "  0.14634764]\n",
      "lxt_ttc : [0. 0. 0. ... 0. 0. 0.]\n",
      "encoder : [33.60894199 33.38665428 33.16516712 ...  1.45847961  1.45834618\n",
      "  1.45821275]\n",
      "ipm : [1470.03605992   90.43101491   34.57582856 ...  856.68665481 3675.72288778\n",
      " 1490.75976475]\n",
      "time_tool_ampl : [0.11674718 0.00318796 0.00944387 ... 0.         0.25577825 0.11167703]\n",
      "epix : [6.5570574 0.        0.        ... 0.        9.729452  0.       ]\n",
      "scattering : [1470.03605992   90.43101491   34.57582856 ... 3675.72288778 1490.75976475\n",
      "  598.68502345]\n",
      "ccm_bins : [7.103    7.105    7.107    7.10815  7.10845  7.10875  7.10905  7.10935\n",
      " 7.10965  7.10995  7.11025  7.11055  7.11085  7.11115  7.11145  7.11175\n",
      " 7.11205  7.11235  7.11265  7.11295  7.11325  7.11355  7.11385  7.1145\n",
      " 7.1155   7.1165   7.1175   7.1185   7.1195   7.1205   7.1215   7.1225\n",
      " 7.1235   7.1245   7.1255   7.1265   7.1275   7.1285   7.1295   7.131\n",
      " 7.133    7.135    7.137    7.139    7.141    7.143    7.145    7.147\n",
      " 7.149    7.151    7.153    7.15451  7.15503  7.155045]\n",
      "ccm_energies : [7.102   7.104   7.106   7.108   7.1083  7.1086  7.1089  7.1092  7.1095\n",
      " 7.1098  7.1101  7.1104  7.1107  7.111   7.1113  7.1116  7.1119  7.1122\n",
      " 7.1125  7.1128  7.1131  7.1134  7.1137  7.114   7.115   7.116   7.117\n",
      " 7.118   7.119   7.12    7.121   7.122   7.123   7.124   7.125   7.126\n",
      " 7.127   7.128   7.129   7.13    7.132   7.134   7.136   7.138   7.14\n",
      " 7.142   7.144   7.146   7.148   7.15    7.152   7.154   7.15502 7.15504]\n",
      "epix_simultaneous_laser : [6.5570574 0.        0.        ... 0.        9.729452  0.       ]\n",
      "epix_xray_not_laser : [0.       0.       0.       ... 0.       5.321407 0.      ]\n",
      "ipm_simultaneous_laser : [1470.03605992  506.63841902  835.90726816 ...  978.43892714 3675.72288778\n",
      " 1490.75976475]\n",
      "ipm_xray_not_laser : [ 972.32626116  458.42583211 1479.6341751  ... 1583.05064816  850.74819942\n",
      "  856.68665481]\n",
      "ccm_simultaneous_laser : [7.1550389  7.1550389  7.1550389  ... 7.15506366 7.15506366 7.15506366]\n",
      "ccm_xray_not_laser : [7.1550389  7.1550389  7.1550389  ... 7.15506583 7.15506583 7.15506366]\n",
      "delays : [33.52026754 33.80039246 33.57361864 ...  1.45847961  1.0947711\n",
      "  1.60456039]\n",
      "time_bins : [-2.00000000e+00 -1.94979079e+00 -1.89958159e+00 -1.84937238e+00\n",
      " -1.79916318e+00 -1.74895397e+00 -1.69874477e+00 -1.64853556e+00\n",
      " -1.59832636e+00 -1.54811715e+00 -1.49790795e+00 -1.44769874e+00\n",
      " -1.39748954e+00 -1.34728033e+00 -1.29707113e+00 -1.24686192e+00\n",
      " -1.19665272e+00 -1.14644351e+00 -1.09623431e+00 -1.04602510e+00\n",
      " -9.95815900e-01 -9.45606695e-01 -8.95397490e-01 -8.45188285e-01\n",
      " -7.94979079e-01 -7.44769874e-01 -6.94560669e-01 -6.44351464e-01\n",
      " -5.94142259e-01 -5.43933054e-01 -4.93723849e-01 -4.43514644e-01\n",
      " -3.93305439e-01 -3.43096234e-01 -2.92887029e-01 -2.42677824e-01\n",
      " -1.92468619e-01 -1.42259414e-01 -9.20502092e-02 -4.18410042e-02\n",
      "  8.36820084e-03  5.85774059e-02  1.08786611e-01  1.58995816e-01\n",
      "  2.09205021e-01  2.59414226e-01  3.09623431e-01  3.59832636e-01\n",
      "  4.10041841e-01  4.60251046e-01  5.10460251e-01  5.60669456e-01\n",
      "  6.10878661e-01  6.61087866e-01  7.11297071e-01  7.61506276e-01\n",
      "  8.11715481e-01  8.61924686e-01  9.12133891e-01  9.62343096e-01\n",
      "  1.01255230e+00  1.06276151e+00  1.11297071e+00  1.16317992e+00\n",
      "  1.21338912e+00  1.26359833e+00  1.31380753e+00  1.36401674e+00\n",
      "  1.41422594e+00  1.46443515e+00  1.51464435e+00  1.56485356e+00\n",
      "  1.61506276e+00  1.66527197e+00  1.71548117e+00  1.76569038e+00\n",
      "  1.81589958e+00  1.86610879e+00  1.91631799e+00  1.96652720e+00\n",
      "  2.01673640e+00  2.06694561e+00  2.11715481e+00  2.16736402e+00\n",
      "  2.21757322e+00  2.26778243e+00  2.31799163e+00  2.36820084e+00\n",
      "  2.41841004e+00  2.46861925e+00  2.51882845e+00  2.56903766e+00\n",
      "  2.61924686e+00  2.66945607e+00  2.71966527e+00  2.76987448e+00\n",
      "  2.82008368e+00  2.87029289e+00  2.92050209e+00  2.97071130e+00\n",
      "  3.02092050e+00  3.07112971e+00  3.12133891e+00  3.17154812e+00\n",
      "  3.22175732e+00  3.27196653e+00  3.32217573e+00  3.37238494e+00\n",
      "  3.42259414e+00  3.47280335e+00  3.52301255e+00  3.57322176e+00\n",
      "  3.62343096e+00  3.67364017e+00  3.72384937e+00  3.77405858e+00\n",
      "  3.82426778e+00  3.87447699e+00  3.92468619e+00  3.97489540e+00\n",
      "  4.02510460e+00  4.07531381e+00  4.12552301e+00  4.17573222e+00\n",
      "  4.22594142e+00  4.27615063e+00  4.32635983e+00  4.37656904e+00\n",
      "  4.42677824e+00  4.47698745e+00  4.52719665e+00  4.57740586e+00\n",
      "  4.62761506e+00  4.67782427e+00  4.72803347e+00  4.77824268e+00\n",
      "  4.82845188e+00  4.87866109e+00  4.92887029e+00  4.97907950e+00\n",
      "  5.02928870e+00  5.07949791e+00  5.12970711e+00  5.17991632e+00\n",
      "  5.23012552e+00  5.28033473e+00  5.33054393e+00  5.38075314e+00\n",
      "  5.43096234e+00  5.48117155e+00  5.53138075e+00  5.58158996e+00\n",
      "  5.63179916e+00  5.68200837e+00  5.73221757e+00  5.78242678e+00\n",
      "  5.83263598e+00  5.88284519e+00  5.93305439e+00  5.98326360e+00\n",
      "  6.03347280e+00  6.08368201e+00  6.13389121e+00  6.18410042e+00\n",
      "  6.23430962e+00  6.28451883e+00  6.33472803e+00  6.38493724e+00\n",
      "  6.43514644e+00  6.48535565e+00  6.53556485e+00  6.58577406e+00\n",
      "  6.63598326e+00  6.68619247e+00  6.73640167e+00  6.78661088e+00\n",
      "  6.83682008e+00  6.88702929e+00  6.93723849e+00  6.98744770e+00\n",
      "  7.03765690e+00  7.08786611e+00  7.13807531e+00  7.18828452e+00\n",
      "  7.23849372e+00  7.28870293e+00  7.33891213e+00  7.38912134e+00\n",
      "  7.43933054e+00  7.48953975e+00  7.53974895e+00  7.58995816e+00\n",
      "  7.64016736e+00  7.69037657e+00  7.74058577e+00  7.79079498e+00\n",
      "  7.84100418e+00  7.89121339e+00  7.94142259e+00  7.99163180e+00\n",
      "  8.04184100e+00  8.09205021e+00  8.14225941e+00  8.19246862e+00\n",
      "  8.24267782e+00  8.29288703e+00  8.34309623e+00  8.39330544e+00\n",
      "  8.44351464e+00  8.49372385e+00  8.54393305e+00  8.59414226e+00\n",
      "  8.64435146e+00  8.69456067e+00  8.74476987e+00  8.79497908e+00\n",
      "  8.84518828e+00  8.89539749e+00  8.94560669e+00  8.99581590e+00\n",
      "  9.04602510e+00  9.09623431e+00  9.14644351e+00  9.19665272e+00\n",
      "  9.24686192e+00  9.29707113e+00  9.34728033e+00  9.39748954e+00\n",
      "  9.44769874e+00  9.49790795e+00  9.54811715e+00  9.59832636e+00\n",
      "  9.64853556e+00  9.69874477e+00  9.74895397e+00  9.79916318e+00\n",
      "  9.84937238e+00  9.89958159e+00  9.94979079e+00  1.00000000e+01]\n",
      "timing_bin_indices : [240 240 240 ...  69  62  72]\n",
      "ccm_bin_indices : [53 53 53 ... 54 54 54]\n"
     ]
    }
   ],
   "source": [
    "object_inspector(f)"
   ]
  },
  {
   "cell_type": "code",
   "execution_count": 45,
   "id": "1d5e4aaa-6902-4c0a-b690-5e666b951c00",
   "metadata": {},
   "outputs": [],
   "source": [
    "analysis.union_shots(f,'timing_bin_indices',['simultaneous','laser'])\n",
    "analysis.separate_shots(f,'timing_bin_indices',['xray','laser'])"
   ]
  },
  {
   "cell_type": "code",
   "execution_count": 46,
   "id": "6b99618a-9438-4f77-a328-840477b00a23",
   "metadata": {},
   "outputs": [
    {
     "name": "stdout",
     "output_type": "stream",
     "text": [
      "----- METHODS -----\n",
      "('__init__', <bound method spectroscopy_run.__init__ of <XSpect.XSpect_Analysis.spectroscopy_run object at 0x7f1cd1577f40>>)\n",
      "('close_h5', <bound method spectroscopy_run.close_h5 of <XSpect.XSpect_Analysis.spectroscopy_run object at 0x7f1cd1577f40>>)\n",
      "('get_run_shot_properties', <bound method spectroscopy_run.get_run_shot_properties of <XSpect.XSpect_Analysis.spectroscopy_run object at 0x7f1cd1577f40>>)\n",
      "('get_scan_val', <bound method spectroscopy_run.get_scan_val of <XSpect.XSpect_Analysis.spectroscopy_run object at 0x7f1cd1577f40>>)\n",
      "('load_run_key_delayed', <bound method spectroscopy_run.load_run_key_delayed of <XSpect.XSpect_Analysis.spectroscopy_run object at 0x7f1cd1577f40>>)\n",
      "('load_run_keys', <bound method spectroscopy_run.load_run_keys of <XSpect.XSpect_Analysis.spectroscopy_run object at 0x7f1cd1577f40>>)\n",
      "('load_sum_run_scattering', <bound method spectroscopy_run.load_sum_run_scattering of <XSpect.XSpect_Analysis.spectroscopy_run object at 0x7f1cd1577f40>>)\n",
      "('purge_all_keys', <bound method spectroscopy_run.purge_all_keys of <XSpect.XSpect_Analysis.spectroscopy_run object at 0x7f1cd1577f40>>)\n",
      "('update_status', <bound method spectroscopy_run.update_status of <XSpect.XSpect_Analysis.spectroscopy_run object at 0x7f1cd1577f40>>)\n",
      "----- ATTRIBUTES -----\n",
      "spec_experiment : <XSpect.XSpect_Analysis.spectroscopy_experiment object at 0x7f1ca0ed5fd0>\n",
      "run_number : 19\n",
      "run_file : /sdf/data/lcls/ds/xcs/xcs100864324/hdf5/smalldata/xcs100864324_Run0019.h5\n",
      "status : ['New analysis of run 19 located in: /sdf/data/lcls/ds/xcs/xcs100864324/hdf5/smalldata/xcs100864324_Run0019.h5', 'Obtained shot properties', 'HDF5 import of keys completed. Time: 0.09 seconds', 'Mask: xray has been filtered on ipm by minimum threshold: 200.000\\nShots removed: 6146', 'Mask: simultaneous has been filtered on ipm by minimum threshold: 500.000\\nShots removed: 10918', 'Mask: simultaneous has been filtered on time_tool_ampl by minimum threshold: 0.010\\nShots removed: 358', 'Shots combined for detector epix on filters: simultaneous and laser into epix_simultaneous_laser', 'Shots (12634) separated for detector epix on filters: xray and laser into epix_xray_laser', 'Shots combined for detector ipm on filters: simultaneous and laser into ipm_simultaneous_laser', 'Shots (12634) separated for detector ipm on filters: xray and laser into ipm_xray_laser', 'Shots combined for detector ccm on filters: simultaneous and laser into ccm_simultaneous_laser', 'Shots (12634) separated for detector ccm on filters: xray and laser into ccm_xray_laser', 'Generated timing bins from -2.000000 to 10.000000 in 240 steps.', 'Generated ccm bins from 7.103000 to 7.155045 in 54 steps.', 'Shots combined for detector timing_bin_indices on filters: simultaneous and laser into timing_bin_indices_simultaneous_laser', 'Shots (12634) separated for detector timing_bin_indices on filters: xray and laser into timing_bin_indices_xray_laser']\n",
      "status_datetime : ['2025-04-23 02:12:49', '2025-04-23 02:12:49', '2025-04-23 02:12:50', '2025-04-23 02:12:55', '2025-04-23 02:12:55', '2025-04-23 02:12:55', '2025-04-23 02:12:56', '2025-04-23 02:12:57', '2025-04-23 02:12:57', '2025-04-23 02:12:58', '2025-04-23 02:12:58', '2025-04-23 02:12:59', '2025-04-23 02:13:01', '2025-04-23 02:13:02', '2025-04-23 02:13:02', '2025-04-23 02:13:02']\n",
      "verbose : False\n",
      "end_index : -1\n",
      "start_index : 0\n",
      "total_shots : 50731\n",
      "xray : [1 0 0 ... 1 1 1]\n",
      "laser : [1 1 1 ... 0 1 1]\n",
      "simultaneous : [ True False False ... False  True  True]\n",
      "run_shots : {'Total': 50731, 'X-ray Total': 50361, 'Laser Total': 36237}\n",
      "ccm : [7.1550389  7.1550389  7.1550389  ... 7.15506366 7.15506366 7.15506366]\n",
      "ccm_E_setpoint : [7.15501588 7.15501588 7.15501588 ... 7.1550389  7.1550389  7.1550389 ]\n",
      "time_tool_correction : [-0.08867445  0.41373819  0.40845152 ...  0.         -0.36357508\n",
      "  0.14634764]\n",
      "lxt_ttc : [0. 0. 0. ... 0. 0. 0.]\n",
      "encoder : [33.60894199 33.38665428 33.16516712 ...  1.45847961  1.45834618\n",
      "  1.45821275]\n",
      "ipm : [1470.03605992   90.43101491   34.57582856 ...  856.68665481 3675.72288778\n",
      " 1490.75976475]\n",
      "time_tool_ampl : [0.11674718 0.00318796 0.00944387 ... 0.         0.25577825 0.11167703]\n",
      "epix : [6.5570574 0.        0.        ... 0.        9.729452  0.       ]\n",
      "scattering : [1470.03605992   90.43101491   34.57582856 ... 3675.72288778 1490.75976475\n",
      "  598.68502345]\n",
      "ccm_bins : [7.103    7.105    7.107    7.10815  7.10845  7.10875  7.10905  7.10935\n",
      " 7.10965  7.10995  7.11025  7.11055  7.11085  7.11115  7.11145  7.11175\n",
      " 7.11205  7.11235  7.11265  7.11295  7.11325  7.11355  7.11385  7.1145\n",
      " 7.1155   7.1165   7.1175   7.1185   7.1195   7.1205   7.1215   7.1225\n",
      " 7.1235   7.1245   7.1255   7.1265   7.1275   7.1285   7.1295   7.131\n",
      " 7.133    7.135    7.137    7.139    7.141    7.143    7.145    7.147\n",
      " 7.149    7.151    7.153    7.15451  7.15503  7.155045]\n",
      "ccm_energies : [7.102   7.104   7.106   7.108   7.1083  7.1086  7.1089  7.1092  7.1095\n",
      " 7.1098  7.1101  7.1104  7.1107  7.111   7.1113  7.1116  7.1119  7.1122\n",
      " 7.1125  7.1128  7.1131  7.1134  7.1137  7.114   7.115   7.116   7.117\n",
      " 7.118   7.119   7.12    7.121   7.122   7.123   7.124   7.125   7.126\n",
      " 7.127   7.128   7.129   7.13    7.132   7.134   7.136   7.138   7.14\n",
      " 7.142   7.144   7.146   7.148   7.15    7.152   7.154   7.15502 7.15504]\n",
      "epix_simultaneous_laser : [6.5570574 0.        0.        ... 0.        9.729452  0.       ]\n",
      "epix_xray_not_laser : [0.       0.       0.       ... 0.       5.321407 0.      ]\n",
      "ipm_simultaneous_laser : [1470.03605992  506.63841902  835.90726816 ...  978.43892714 3675.72288778\n",
      " 1490.75976475]\n",
      "ipm_xray_not_laser : [ 972.32626116  458.42583211 1479.6341751  ... 1583.05064816  850.74819942\n",
      "  856.68665481]\n",
      "ccm_simultaneous_laser : [7.1550389  7.1550389  7.1550389  ... 7.15506366 7.15506366 7.15506366]\n",
      "ccm_xray_not_laser : [7.1550389  7.1550389  7.1550389  ... 7.15506583 7.15506583 7.15506366]\n",
      "delays : [33.52026754 33.80039246 33.57361864 ...  1.45847961  1.0947711\n",
      "  1.60456039]\n",
      "time_bins : [-2.00000000e+00 -1.94979079e+00 -1.89958159e+00 -1.84937238e+00\n",
      " -1.79916318e+00 -1.74895397e+00 -1.69874477e+00 -1.64853556e+00\n",
      " -1.59832636e+00 -1.54811715e+00 -1.49790795e+00 -1.44769874e+00\n",
      " -1.39748954e+00 -1.34728033e+00 -1.29707113e+00 -1.24686192e+00\n",
      " -1.19665272e+00 -1.14644351e+00 -1.09623431e+00 -1.04602510e+00\n",
      " -9.95815900e-01 -9.45606695e-01 -8.95397490e-01 -8.45188285e-01\n",
      " -7.94979079e-01 -7.44769874e-01 -6.94560669e-01 -6.44351464e-01\n",
      " -5.94142259e-01 -5.43933054e-01 -4.93723849e-01 -4.43514644e-01\n",
      " -3.93305439e-01 -3.43096234e-01 -2.92887029e-01 -2.42677824e-01\n",
      " -1.92468619e-01 -1.42259414e-01 -9.20502092e-02 -4.18410042e-02\n",
      "  8.36820084e-03  5.85774059e-02  1.08786611e-01  1.58995816e-01\n",
      "  2.09205021e-01  2.59414226e-01  3.09623431e-01  3.59832636e-01\n",
      "  4.10041841e-01  4.60251046e-01  5.10460251e-01  5.60669456e-01\n",
      "  6.10878661e-01  6.61087866e-01  7.11297071e-01  7.61506276e-01\n",
      "  8.11715481e-01  8.61924686e-01  9.12133891e-01  9.62343096e-01\n",
      "  1.01255230e+00  1.06276151e+00  1.11297071e+00  1.16317992e+00\n",
      "  1.21338912e+00  1.26359833e+00  1.31380753e+00  1.36401674e+00\n",
      "  1.41422594e+00  1.46443515e+00  1.51464435e+00  1.56485356e+00\n",
      "  1.61506276e+00  1.66527197e+00  1.71548117e+00  1.76569038e+00\n",
      "  1.81589958e+00  1.86610879e+00  1.91631799e+00  1.96652720e+00\n",
      "  2.01673640e+00  2.06694561e+00  2.11715481e+00  2.16736402e+00\n",
      "  2.21757322e+00  2.26778243e+00  2.31799163e+00  2.36820084e+00\n",
      "  2.41841004e+00  2.46861925e+00  2.51882845e+00  2.56903766e+00\n",
      "  2.61924686e+00  2.66945607e+00  2.71966527e+00  2.76987448e+00\n",
      "  2.82008368e+00  2.87029289e+00  2.92050209e+00  2.97071130e+00\n",
      "  3.02092050e+00  3.07112971e+00  3.12133891e+00  3.17154812e+00\n",
      "  3.22175732e+00  3.27196653e+00  3.32217573e+00  3.37238494e+00\n",
      "  3.42259414e+00  3.47280335e+00  3.52301255e+00  3.57322176e+00\n",
      "  3.62343096e+00  3.67364017e+00  3.72384937e+00  3.77405858e+00\n",
      "  3.82426778e+00  3.87447699e+00  3.92468619e+00  3.97489540e+00\n",
      "  4.02510460e+00  4.07531381e+00  4.12552301e+00  4.17573222e+00\n",
      "  4.22594142e+00  4.27615063e+00  4.32635983e+00  4.37656904e+00\n",
      "  4.42677824e+00  4.47698745e+00  4.52719665e+00  4.57740586e+00\n",
      "  4.62761506e+00  4.67782427e+00  4.72803347e+00  4.77824268e+00\n",
      "  4.82845188e+00  4.87866109e+00  4.92887029e+00  4.97907950e+00\n",
      "  5.02928870e+00  5.07949791e+00  5.12970711e+00  5.17991632e+00\n",
      "  5.23012552e+00  5.28033473e+00  5.33054393e+00  5.38075314e+00\n",
      "  5.43096234e+00  5.48117155e+00  5.53138075e+00  5.58158996e+00\n",
      "  5.63179916e+00  5.68200837e+00  5.73221757e+00  5.78242678e+00\n",
      "  5.83263598e+00  5.88284519e+00  5.93305439e+00  5.98326360e+00\n",
      "  6.03347280e+00  6.08368201e+00  6.13389121e+00  6.18410042e+00\n",
      "  6.23430962e+00  6.28451883e+00  6.33472803e+00  6.38493724e+00\n",
      "  6.43514644e+00  6.48535565e+00  6.53556485e+00  6.58577406e+00\n",
      "  6.63598326e+00  6.68619247e+00  6.73640167e+00  6.78661088e+00\n",
      "  6.83682008e+00  6.88702929e+00  6.93723849e+00  6.98744770e+00\n",
      "  7.03765690e+00  7.08786611e+00  7.13807531e+00  7.18828452e+00\n",
      "  7.23849372e+00  7.28870293e+00  7.33891213e+00  7.38912134e+00\n",
      "  7.43933054e+00  7.48953975e+00  7.53974895e+00  7.58995816e+00\n",
      "  7.64016736e+00  7.69037657e+00  7.74058577e+00  7.79079498e+00\n",
      "  7.84100418e+00  7.89121339e+00  7.94142259e+00  7.99163180e+00\n",
      "  8.04184100e+00  8.09205021e+00  8.14225941e+00  8.19246862e+00\n",
      "  8.24267782e+00  8.29288703e+00  8.34309623e+00  8.39330544e+00\n",
      "  8.44351464e+00  8.49372385e+00  8.54393305e+00  8.59414226e+00\n",
      "  8.64435146e+00  8.69456067e+00  8.74476987e+00  8.79497908e+00\n",
      "  8.84518828e+00  8.89539749e+00  8.94560669e+00  8.99581590e+00\n",
      "  9.04602510e+00  9.09623431e+00  9.14644351e+00  9.19665272e+00\n",
      "  9.24686192e+00  9.29707113e+00  9.34728033e+00  9.39748954e+00\n",
      "  9.44769874e+00  9.49790795e+00  9.54811715e+00  9.59832636e+00\n",
      "  9.64853556e+00  9.69874477e+00  9.74895397e+00  9.79916318e+00\n",
      "  9.84937238e+00  9.89958159e+00  9.94979079e+00  1.00000000e+01]\n",
      "timing_bin_indices : [240 240 240 ...  69  62  72]\n",
      "ccm_bin_indices : [53 53 53 ... 54 54 54]\n",
      "timing_bin_indices_simultaneous_laser : [240 240 240 ...  72  62  72]\n",
      "timing_bin_indices_xray_not_laser : [240 240 240 ...  79  70  69]\n"
     ]
    }
   ],
   "source": [
    "object_inspector(f)"
   ]
  },
  {
   "cell_type": "code",
   "execution_count": 47,
   "id": "06107a87-b27f-4b9b-97c6-285e530de614",
   "metadata": {},
   "outputs": [],
   "source": [
    "analysis.union_shots(f,'ccm_bin_indices',['simultaneous','laser'])\n",
    "analysis.separate_shots(f,'ccm_bin_indices',['xray','laser'])"
   ]
  },
  {
   "cell_type": "code",
   "execution_count": 48,
   "id": "358d9922-4130-4d7c-a04f-e04a6b29f299",
   "metadata": {},
   "outputs": [
    {
     "name": "stdout",
     "output_type": "stream",
     "text": [
      "----- METHODS -----\n",
      "('__init__', <bound method spectroscopy_run.__init__ of <XSpect.XSpect_Analysis.spectroscopy_run object at 0x7f1cd1577f40>>)\n",
      "('close_h5', <bound method spectroscopy_run.close_h5 of <XSpect.XSpect_Analysis.spectroscopy_run object at 0x7f1cd1577f40>>)\n",
      "('get_run_shot_properties', <bound method spectroscopy_run.get_run_shot_properties of <XSpect.XSpect_Analysis.spectroscopy_run object at 0x7f1cd1577f40>>)\n",
      "('get_scan_val', <bound method spectroscopy_run.get_scan_val of <XSpect.XSpect_Analysis.spectroscopy_run object at 0x7f1cd1577f40>>)\n",
      "('load_run_key_delayed', <bound method spectroscopy_run.load_run_key_delayed of <XSpect.XSpect_Analysis.spectroscopy_run object at 0x7f1cd1577f40>>)\n",
      "('load_run_keys', <bound method spectroscopy_run.load_run_keys of <XSpect.XSpect_Analysis.spectroscopy_run object at 0x7f1cd1577f40>>)\n",
      "('load_sum_run_scattering', <bound method spectroscopy_run.load_sum_run_scattering of <XSpect.XSpect_Analysis.spectroscopy_run object at 0x7f1cd1577f40>>)\n",
      "('purge_all_keys', <bound method spectroscopy_run.purge_all_keys of <XSpect.XSpect_Analysis.spectroscopy_run object at 0x7f1cd1577f40>>)\n",
      "('update_status', <bound method spectroscopy_run.update_status of <XSpect.XSpect_Analysis.spectroscopy_run object at 0x7f1cd1577f40>>)\n",
      "----- ATTRIBUTES -----\n",
      "spec_experiment : <XSpect.XSpect_Analysis.spectroscopy_experiment object at 0x7f1ca0ed5fd0>\n",
      "run_number : 19\n",
      "run_file : /sdf/data/lcls/ds/xcs/xcs100864324/hdf5/smalldata/xcs100864324_Run0019.h5\n",
      "status : ['New analysis of run 19 located in: /sdf/data/lcls/ds/xcs/xcs100864324/hdf5/smalldata/xcs100864324_Run0019.h5', 'Obtained shot properties', 'HDF5 import of keys completed. Time: 0.09 seconds', 'Mask: xray has been filtered on ipm by minimum threshold: 200.000\\nShots removed: 6146', 'Mask: simultaneous has been filtered on ipm by minimum threshold: 500.000\\nShots removed: 10918', 'Mask: simultaneous has been filtered on time_tool_ampl by minimum threshold: 0.010\\nShots removed: 358', 'Shots combined for detector epix on filters: simultaneous and laser into epix_simultaneous_laser', 'Shots (12634) separated for detector epix on filters: xray and laser into epix_xray_laser', 'Shots combined for detector ipm on filters: simultaneous and laser into ipm_simultaneous_laser', 'Shots (12634) separated for detector ipm on filters: xray and laser into ipm_xray_laser', 'Shots combined for detector ccm on filters: simultaneous and laser into ccm_simultaneous_laser', 'Shots (12634) separated for detector ccm on filters: xray and laser into ccm_xray_laser', 'Generated timing bins from -2.000000 to 10.000000 in 240 steps.', 'Generated ccm bins from 7.103000 to 7.155045 in 54 steps.', 'Shots combined for detector timing_bin_indices on filters: simultaneous and laser into timing_bin_indices_simultaneous_laser', 'Shots (12634) separated for detector timing_bin_indices on filters: xray and laser into timing_bin_indices_xray_laser', 'Shots combined for detector ccm_bin_indices on filters: simultaneous and laser into ccm_bin_indices_simultaneous_laser', 'Shots (12634) separated for detector ccm_bin_indices on filters: xray and laser into ccm_bin_indices_xray_laser']\n",
      "status_datetime : ['2025-04-23 02:12:49', '2025-04-23 02:12:49', '2025-04-23 02:12:50', '2025-04-23 02:12:55', '2025-04-23 02:12:55', '2025-04-23 02:12:55', '2025-04-23 02:12:56', '2025-04-23 02:12:57', '2025-04-23 02:12:57', '2025-04-23 02:12:58', '2025-04-23 02:12:58', '2025-04-23 02:12:59', '2025-04-23 02:13:01', '2025-04-23 02:13:02', '2025-04-23 02:13:02', '2025-04-23 02:13:02', '2025-04-23 02:13:03', '2025-04-23 02:13:03']\n",
      "verbose : False\n",
      "end_index : -1\n",
      "start_index : 0\n",
      "total_shots : 50731\n",
      "xray : [1 0 0 ... 1 1 1]\n",
      "laser : [1 1 1 ... 0 1 1]\n",
      "simultaneous : [ True False False ... False  True  True]\n",
      "run_shots : {'Total': 50731, 'X-ray Total': 50361, 'Laser Total': 36237}\n",
      "ccm : [7.1550389  7.1550389  7.1550389  ... 7.15506366 7.15506366 7.15506366]\n",
      "ccm_E_setpoint : [7.15501588 7.15501588 7.15501588 ... 7.1550389  7.1550389  7.1550389 ]\n",
      "time_tool_correction : [-0.08867445  0.41373819  0.40845152 ...  0.         -0.36357508\n",
      "  0.14634764]\n",
      "lxt_ttc : [0. 0. 0. ... 0. 0. 0.]\n",
      "encoder : [33.60894199 33.38665428 33.16516712 ...  1.45847961  1.45834618\n",
      "  1.45821275]\n",
      "ipm : [1470.03605992   90.43101491   34.57582856 ...  856.68665481 3675.72288778\n",
      " 1490.75976475]\n",
      "time_tool_ampl : [0.11674718 0.00318796 0.00944387 ... 0.         0.25577825 0.11167703]\n",
      "epix : [6.5570574 0.        0.        ... 0.        9.729452  0.       ]\n",
      "scattering : [1470.03605992   90.43101491   34.57582856 ... 3675.72288778 1490.75976475\n",
      "  598.68502345]\n",
      "ccm_bins : [7.103    7.105    7.107    7.10815  7.10845  7.10875  7.10905  7.10935\n",
      " 7.10965  7.10995  7.11025  7.11055  7.11085  7.11115  7.11145  7.11175\n",
      " 7.11205  7.11235  7.11265  7.11295  7.11325  7.11355  7.11385  7.1145\n",
      " 7.1155   7.1165   7.1175   7.1185   7.1195   7.1205   7.1215   7.1225\n",
      " 7.1235   7.1245   7.1255   7.1265   7.1275   7.1285   7.1295   7.131\n",
      " 7.133    7.135    7.137    7.139    7.141    7.143    7.145    7.147\n",
      " 7.149    7.151    7.153    7.15451  7.15503  7.155045]\n",
      "ccm_energies : [7.102   7.104   7.106   7.108   7.1083  7.1086  7.1089  7.1092  7.1095\n",
      " 7.1098  7.1101  7.1104  7.1107  7.111   7.1113  7.1116  7.1119  7.1122\n",
      " 7.1125  7.1128  7.1131  7.1134  7.1137  7.114   7.115   7.116   7.117\n",
      " 7.118   7.119   7.12    7.121   7.122   7.123   7.124   7.125   7.126\n",
      " 7.127   7.128   7.129   7.13    7.132   7.134   7.136   7.138   7.14\n",
      " 7.142   7.144   7.146   7.148   7.15    7.152   7.154   7.15502 7.15504]\n",
      "epix_simultaneous_laser : [6.5570574 0.        0.        ... 0.        9.729452  0.       ]\n",
      "epix_xray_not_laser : [0.       0.       0.       ... 0.       5.321407 0.      ]\n",
      "ipm_simultaneous_laser : [1470.03605992  506.63841902  835.90726816 ...  978.43892714 3675.72288778\n",
      " 1490.75976475]\n",
      "ipm_xray_not_laser : [ 972.32626116  458.42583211 1479.6341751  ... 1583.05064816  850.74819942\n",
      "  856.68665481]\n",
      "ccm_simultaneous_laser : [7.1550389  7.1550389  7.1550389  ... 7.15506366 7.15506366 7.15506366]\n",
      "ccm_xray_not_laser : [7.1550389  7.1550389  7.1550389  ... 7.15506583 7.15506583 7.15506366]\n",
      "delays : [33.52026754 33.80039246 33.57361864 ...  1.45847961  1.0947711\n",
      "  1.60456039]\n",
      "time_bins : [-2.00000000e+00 -1.94979079e+00 -1.89958159e+00 -1.84937238e+00\n",
      " -1.79916318e+00 -1.74895397e+00 -1.69874477e+00 -1.64853556e+00\n",
      " -1.59832636e+00 -1.54811715e+00 -1.49790795e+00 -1.44769874e+00\n",
      " -1.39748954e+00 -1.34728033e+00 -1.29707113e+00 -1.24686192e+00\n",
      " -1.19665272e+00 -1.14644351e+00 -1.09623431e+00 -1.04602510e+00\n",
      " -9.95815900e-01 -9.45606695e-01 -8.95397490e-01 -8.45188285e-01\n",
      " -7.94979079e-01 -7.44769874e-01 -6.94560669e-01 -6.44351464e-01\n",
      " -5.94142259e-01 -5.43933054e-01 -4.93723849e-01 -4.43514644e-01\n",
      " -3.93305439e-01 -3.43096234e-01 -2.92887029e-01 -2.42677824e-01\n",
      " -1.92468619e-01 -1.42259414e-01 -9.20502092e-02 -4.18410042e-02\n",
      "  8.36820084e-03  5.85774059e-02  1.08786611e-01  1.58995816e-01\n",
      "  2.09205021e-01  2.59414226e-01  3.09623431e-01  3.59832636e-01\n",
      "  4.10041841e-01  4.60251046e-01  5.10460251e-01  5.60669456e-01\n",
      "  6.10878661e-01  6.61087866e-01  7.11297071e-01  7.61506276e-01\n",
      "  8.11715481e-01  8.61924686e-01  9.12133891e-01  9.62343096e-01\n",
      "  1.01255230e+00  1.06276151e+00  1.11297071e+00  1.16317992e+00\n",
      "  1.21338912e+00  1.26359833e+00  1.31380753e+00  1.36401674e+00\n",
      "  1.41422594e+00  1.46443515e+00  1.51464435e+00  1.56485356e+00\n",
      "  1.61506276e+00  1.66527197e+00  1.71548117e+00  1.76569038e+00\n",
      "  1.81589958e+00  1.86610879e+00  1.91631799e+00  1.96652720e+00\n",
      "  2.01673640e+00  2.06694561e+00  2.11715481e+00  2.16736402e+00\n",
      "  2.21757322e+00  2.26778243e+00  2.31799163e+00  2.36820084e+00\n",
      "  2.41841004e+00  2.46861925e+00  2.51882845e+00  2.56903766e+00\n",
      "  2.61924686e+00  2.66945607e+00  2.71966527e+00  2.76987448e+00\n",
      "  2.82008368e+00  2.87029289e+00  2.92050209e+00  2.97071130e+00\n",
      "  3.02092050e+00  3.07112971e+00  3.12133891e+00  3.17154812e+00\n",
      "  3.22175732e+00  3.27196653e+00  3.32217573e+00  3.37238494e+00\n",
      "  3.42259414e+00  3.47280335e+00  3.52301255e+00  3.57322176e+00\n",
      "  3.62343096e+00  3.67364017e+00  3.72384937e+00  3.77405858e+00\n",
      "  3.82426778e+00  3.87447699e+00  3.92468619e+00  3.97489540e+00\n",
      "  4.02510460e+00  4.07531381e+00  4.12552301e+00  4.17573222e+00\n",
      "  4.22594142e+00  4.27615063e+00  4.32635983e+00  4.37656904e+00\n",
      "  4.42677824e+00  4.47698745e+00  4.52719665e+00  4.57740586e+00\n",
      "  4.62761506e+00  4.67782427e+00  4.72803347e+00  4.77824268e+00\n",
      "  4.82845188e+00  4.87866109e+00  4.92887029e+00  4.97907950e+00\n",
      "  5.02928870e+00  5.07949791e+00  5.12970711e+00  5.17991632e+00\n",
      "  5.23012552e+00  5.28033473e+00  5.33054393e+00  5.38075314e+00\n",
      "  5.43096234e+00  5.48117155e+00  5.53138075e+00  5.58158996e+00\n",
      "  5.63179916e+00  5.68200837e+00  5.73221757e+00  5.78242678e+00\n",
      "  5.83263598e+00  5.88284519e+00  5.93305439e+00  5.98326360e+00\n",
      "  6.03347280e+00  6.08368201e+00  6.13389121e+00  6.18410042e+00\n",
      "  6.23430962e+00  6.28451883e+00  6.33472803e+00  6.38493724e+00\n",
      "  6.43514644e+00  6.48535565e+00  6.53556485e+00  6.58577406e+00\n",
      "  6.63598326e+00  6.68619247e+00  6.73640167e+00  6.78661088e+00\n",
      "  6.83682008e+00  6.88702929e+00  6.93723849e+00  6.98744770e+00\n",
      "  7.03765690e+00  7.08786611e+00  7.13807531e+00  7.18828452e+00\n",
      "  7.23849372e+00  7.28870293e+00  7.33891213e+00  7.38912134e+00\n",
      "  7.43933054e+00  7.48953975e+00  7.53974895e+00  7.58995816e+00\n",
      "  7.64016736e+00  7.69037657e+00  7.74058577e+00  7.79079498e+00\n",
      "  7.84100418e+00  7.89121339e+00  7.94142259e+00  7.99163180e+00\n",
      "  8.04184100e+00  8.09205021e+00  8.14225941e+00  8.19246862e+00\n",
      "  8.24267782e+00  8.29288703e+00  8.34309623e+00  8.39330544e+00\n",
      "  8.44351464e+00  8.49372385e+00  8.54393305e+00  8.59414226e+00\n",
      "  8.64435146e+00  8.69456067e+00  8.74476987e+00  8.79497908e+00\n",
      "  8.84518828e+00  8.89539749e+00  8.94560669e+00  8.99581590e+00\n",
      "  9.04602510e+00  9.09623431e+00  9.14644351e+00  9.19665272e+00\n",
      "  9.24686192e+00  9.29707113e+00  9.34728033e+00  9.39748954e+00\n",
      "  9.44769874e+00  9.49790795e+00  9.54811715e+00  9.59832636e+00\n",
      "  9.64853556e+00  9.69874477e+00  9.74895397e+00  9.79916318e+00\n",
      "  9.84937238e+00  9.89958159e+00  9.94979079e+00  1.00000000e+01]\n",
      "timing_bin_indices : [240 240 240 ...  69  62  72]\n",
      "ccm_bin_indices : [53 53 53 ... 54 54 54]\n",
      "timing_bin_indices_simultaneous_laser : [240 240 240 ...  72  62  72]\n",
      "timing_bin_indices_xray_not_laser : [240 240 240 ...  79  70  69]\n",
      "ccm_bin_indices_simultaneous_laser : [53 53 53 ... 54 54 54]\n",
      "ccm_bin_indices_xray_not_laser : [53 53 53 ... 54 54 54]\n"
     ]
    }
   ],
   "source": [
    "object_inspector(f)"
   ]
  },
  {
   "cell_type": "code",
   "execution_count": 49,
   "id": "b0e5fbfb-31bb-4b21-aab8-8dda472f727d",
   "metadata": {},
   "outputs": [],
   "source": [
    "analysis.reduce_detector_ccm_temporal(f,'epix_simultaneous_laser','timing_bin_indices_simultaneous_laser',\n",
    "                                      'ccm_bin_indices_simultaneous_laser',average=True)"
   ]
  },
  {
   "cell_type": "code",
   "execution_count": 50,
   "id": "dc3861c5-4b19-4da3-a344-8fc0b19b505e",
   "metadata": {},
   "outputs": [],
   "source": [
    "analysis.reduce_detector_ccm_temporal(f,'epix_xray_not_laser','timing_bin_indices_xray_not_laser',\n",
    "                                      'ccm_bin_indices_xray_not_laser', average=True)"
   ]
  },
  {
   "cell_type": "code",
   "execution_count": 52,
   "id": "a05b1505-bd5b-4c28-8b95-33c27df8c147",
   "metadata": {},
   "outputs": [],
   "source": [
    "analysis.reduce_detector_ccm_temporal(f,'ipm_simultaneous_laser','timing_bin_indices_simultaneous_laser',\n",
    "                                     'ccm_bin_indices_simultaneous_laser',average=True)"
   ]
  },
  {
   "cell_type": "code",
   "execution_count": 53,
   "id": "c67af7aa-b3ab-472e-a36e-ed02aff1689f",
   "metadata": {},
   "outputs": [],
   "source": [
    "analysis.reduce_detector_ccm_temporal(f,'ipm_xray_not_laser','timing_bin_indices_xray_not_laser',\n",
    "                                      'ccm_bin_indices_xray_not_laser',average=True)"
   ]
  },
  {
   "cell_type": "code",
   "execution_count": null,
   "id": "16c84f88-da90-4b29-8d8f-3fba1372fd46",
   "metadata": {},
   "outputs": [],
   "source": []
  },
  {
   "cell_type": "code",
   "execution_count": 55,
   "id": "643567ca-1740-42c7-8464-f7679d901f9a",
   "metadata": {},
   "outputs": [
    {
     "data": {
      "text/plain": [
       "\u001b[0;31mSignature:\u001b[0m\n",
       "\u001b[0manalysis\u001b[0m\u001b[0;34m.\u001b[0m\u001b[0mreduce_detector_ccm_temporal\u001b[0m\u001b[0;34m(\u001b[0m\u001b[0;34m\u001b[0m\n",
       "\u001b[0;34m\u001b[0m    \u001b[0mrun\u001b[0m\u001b[0;34m,\u001b[0m\u001b[0;34m\u001b[0m\n",
       "\u001b[0;34m\u001b[0m    \u001b[0mdetector_key\u001b[0m\u001b[0;34m,\u001b[0m\u001b[0;34m\u001b[0m\n",
       "\u001b[0;34m\u001b[0m    \u001b[0mtiming_bin_key_indices\u001b[0m\u001b[0;34m,\u001b[0m\u001b[0;34m\u001b[0m\n",
       "\u001b[0;34m\u001b[0m    \u001b[0mccm_bin_key_indices\u001b[0m\u001b[0;34m,\u001b[0m\u001b[0;34m\u001b[0m\n",
       "\u001b[0;34m\u001b[0m    \u001b[0maverage\u001b[0m\u001b[0;34m=\u001b[0m\u001b[0;32mTrue\u001b[0m\u001b[0;34m,\u001b[0m\u001b[0;34m\u001b[0m\n",
       "\u001b[0;34m\u001b[0m\u001b[0;34m)\u001b[0m\u001b[0;34m\u001b[0m\u001b[0;34m\u001b[0m\u001b[0m\n",
       "\u001b[0;31mDocstring:\u001b[0m <no docstring>\n",
       "\u001b[0;31mSource:\u001b[0m   \n",
       "    \u001b[0;32mdef\u001b[0m \u001b[0mreduce_detector_ccm_temporal\u001b[0m\u001b[0;34m(\u001b[0m\u001b[0mself\u001b[0m\u001b[0;34m,\u001b[0m \u001b[0mrun\u001b[0m\u001b[0;34m,\u001b[0m \u001b[0mdetector_key\u001b[0m\u001b[0;34m,\u001b[0m \u001b[0mtiming_bin_key_indices\u001b[0m\u001b[0;34m,\u001b[0m\u001b[0mccm_bin_key_indices\u001b[0m\u001b[0;34m,\u001b[0m\u001b[0maverage\u001b[0m\u001b[0;34m=\u001b[0m\u001b[0;32mTrue\u001b[0m\u001b[0;34m)\u001b[0m\u001b[0;34m:\u001b[0m\u001b[0;34m\u001b[0m\n",
       "\u001b[0;34m\u001b[0m        \u001b[0mdetector\u001b[0m \u001b[0;34m=\u001b[0m \u001b[0mgetattr\u001b[0m\u001b[0;34m(\u001b[0m\u001b[0mrun\u001b[0m\u001b[0;34m,\u001b[0m \u001b[0mdetector_key\u001b[0m\u001b[0;34m)\u001b[0m\u001b[0;34m\u001b[0m\n",
       "\u001b[0;34m\u001b[0m        \u001b[0mtiming_indices\u001b[0m \u001b[0;34m=\u001b[0m \u001b[0mgetattr\u001b[0m\u001b[0;34m(\u001b[0m\u001b[0mrun\u001b[0m\u001b[0;34m,\u001b[0m \u001b[0mtiming_bin_key_indices\u001b[0m\u001b[0;34m)\u001b[0m\u001b[0;31m#digitized indices from detector\u001b[0m\u001b[0;34m\u001b[0m\n",
       "\u001b[0;34m\u001b[0m        \u001b[0mccm_indices\u001b[0m \u001b[0;34m=\u001b[0m \u001b[0mgetattr\u001b[0m\u001b[0;34m(\u001b[0m\u001b[0mrun\u001b[0m\u001b[0;34m,\u001b[0m \u001b[0mccm_bin_key_indices\u001b[0m\u001b[0;34m)\u001b[0m\u001b[0;31m#digitized indices from detector\u001b[0m\u001b[0;34m\u001b[0m\n",
       "\u001b[0;34m\u001b[0m        \u001b[0mreduced_array\u001b[0m \u001b[0;34m=\u001b[0m \u001b[0mnp\u001b[0m\u001b[0;34m.\u001b[0m\u001b[0mzeros\u001b[0m\u001b[0;34m(\u001b[0m\u001b[0;34m(\u001b[0m\u001b[0mnp\u001b[0m\u001b[0;34m.\u001b[0m\u001b[0mshape\u001b[0m\u001b[0;34m(\u001b[0m\u001b[0mrun\u001b[0m\u001b[0;34m.\u001b[0m\u001b[0mtime_bins\u001b[0m\u001b[0;34m)\u001b[0m\u001b[0;34m[\u001b[0m\u001b[0;36m0\u001b[0m\u001b[0;34m]\u001b[0m\u001b[0;34m+\u001b[0m\u001b[0;36m1\u001b[0m\u001b[0;34m,\u001b[0m \u001b[0mnp\u001b[0m\u001b[0;34m.\u001b[0m\u001b[0mshape\u001b[0m\u001b[0;34m(\u001b[0m\u001b[0mrun\u001b[0m\u001b[0;34m.\u001b[0m\u001b[0mccm_bins\u001b[0m\u001b[0;34m)\u001b[0m\u001b[0;34m[\u001b[0m\u001b[0;36m0\u001b[0m\u001b[0;34m]\u001b[0m\u001b[0;34m)\u001b[0m\u001b[0;34m)\u001b[0m\u001b[0;34m\u001b[0m\n",
       "\u001b[0;34m\u001b[0m\u001b[0;31m#         reduced_array = np.zeros((run.time_bins.shape[0], run.ccm_bins.shape[0]))\u001b[0m\u001b[0;34m\u001b[0m\n",
       "\u001b[0;34m\u001b[0m        \u001b[0;31m#for idx,i in enumerate(detector):\u001b[0m\u001b[0;34m\u001b[0m\n",
       "\u001b[0;34m\u001b[0m        \u001b[0;31m#    reduced_array[timing_indices[idx],ccm_indices[idx]]=detector[idx]+reduced_array[timing_indices[idx],ccm_indices[idx]]\u001b[0m\u001b[0;34m\u001b[0m\n",
       "\u001b[0;34m\u001b[0m        \u001b[0munique_indices\u001b[0m \u001b[0;34m=\u001b[0m\u001b[0mnp\u001b[0m\u001b[0;34m.\u001b[0m\u001b[0mcolumn_stack\u001b[0m\u001b[0;34m(\u001b[0m\u001b[0;34m(\u001b[0m\u001b[0mtiming_indices\u001b[0m\u001b[0;34m,\u001b[0m \u001b[0mccm_indices\u001b[0m\u001b[0;34m)\u001b[0m\u001b[0;34m)\u001b[0m\u001b[0;34m\u001b[0m\n",
       "\u001b[0;34m\u001b[0m        \u001b[0mnp\u001b[0m\u001b[0;34m.\u001b[0m\u001b[0madd\u001b[0m\u001b[0;34m.\u001b[0m\u001b[0mat\u001b[0m\u001b[0;34m(\u001b[0m\u001b[0mreduced_array\u001b[0m\u001b[0;34m,\u001b[0m \u001b[0;34m(\u001b[0m\u001b[0munique_indices\u001b[0m\u001b[0;34m[\u001b[0m\u001b[0;34m:\u001b[0m\u001b[0;34m,\u001b[0m \u001b[0;36m0\u001b[0m\u001b[0;34m]\u001b[0m\u001b[0;34m,\u001b[0m \u001b[0munique_indices\u001b[0m\u001b[0;34m[\u001b[0m\u001b[0;34m:\u001b[0m\u001b[0;34m,\u001b[0m \u001b[0;36m1\u001b[0m\u001b[0;34m]\u001b[0m\u001b[0;34m)\u001b[0m\u001b[0;34m,\u001b[0m \u001b[0mdetector\u001b[0m\u001b[0;34m)\u001b[0m\u001b[0;34m\u001b[0m\n",
       "\u001b[0;34m\u001b[0m        \u001b[0mreduced_array\u001b[0m \u001b[0;34m=\u001b[0m \u001b[0mreduced_array\u001b[0m\u001b[0;34m[\u001b[0m\u001b[0;34m:\u001b[0m\u001b[0;34m-\u001b[0m\u001b[0;36m1\u001b[0m\u001b[0;34m,\u001b[0m\u001b[0;34m:\u001b[0m\u001b[0;34m]\u001b[0m\u001b[0;34m\u001b[0m\n",
       "\u001b[0;34m\u001b[0m        \u001b[0msetattr\u001b[0m\u001b[0;34m(\u001b[0m\u001b[0mrun\u001b[0m\u001b[0;34m,\u001b[0m \u001b[0mdetector_key\u001b[0m\u001b[0;34m+\u001b[0m\u001b[0;34m'_time_energy_binned'\u001b[0m\u001b[0;34m,\u001b[0m \u001b[0mreduced_array\u001b[0m\u001b[0;34m)\u001b[0m\u001b[0;34m\u001b[0m\n",
       "\u001b[0;34m\u001b[0m        \u001b[0;34m\u001b[0m\n",
       "\u001b[0;34m\u001b[0m        \u001b[0mrun\u001b[0m\u001b[0;34m.\u001b[0m\u001b[0mupdate_status\u001b[0m\u001b[0;34m(\u001b[0m\u001b[0;34m'Detector %s binned in time into key: %s'\u001b[0m\u001b[0;34m%\u001b[0m\u001b[0;34m(\u001b[0m\u001b[0mdetector_key\u001b[0m\u001b[0;34m,\u001b[0m\u001b[0mdetector_key\u001b[0m\u001b[0;34m+\u001b[0m\u001b[0;34m'_time_energy_binned'\u001b[0m\u001b[0;34m)\u001b[0m \u001b[0;34m)\u001b[0m\u001b[0;34m\u001b[0m\u001b[0;34m\u001b[0m\u001b[0m\n",
       "\u001b[0;31mFile:\u001b[0m      ~/XSpecT/XSpect/XSpect_Analysis.py\n",
       "\u001b[0;31mType:\u001b[0m      method"
      ]
     },
     "metadata": {},
     "output_type": "display_data"
    }
   ],
   "source": [
    "analysis.reduce_detector_ccm_temporal??"
   ]
  },
  {
   "cell_type": "code",
   "execution_count": 90,
   "id": "90b68c2b-e3c3-4e2b-9918-6a5190bf86ca",
   "metadata": {},
   "outputs": [],
   "source": [
    "detector = getattr(f, 'epix_simultaneous_laser')\n",
    "timing_indices = getattr(f, 'timing_bin_indices_simultaneous_laser')\n",
    "ccm_indices = getattr(f, 'ccm_bin_indices_simultaneous_laser')"
   ]
  },
  {
   "cell_type": "code",
   "execution_count": 152,
   "id": "c9c0f13e-6cfa-46d0-99e2-9e1d2db6e07e",
   "metadata": {},
   "outputs": [],
   "source": [
    "#reduced_array = np.zeros((np.shape(f.time_bins)[0]+1, np.shape(f.ccm_bins)[0]))\n",
    "reduced_array = np.zeros((np.shape(f.time_bins)[0]+1, np.shape(f.ccm_bins)[0]+1))"
   ]
  },
  {
   "cell_type": "code",
   "execution_count": 153,
   "id": "433f1000-0e14-40d0-a62f-a0b84babd105",
   "metadata": {},
   "outputs": [
    {
     "data": {
      "text/plain": [
       "(241, 55)"
      ]
     },
     "execution_count": 153,
     "metadata": {},
     "output_type": "execute_result"
    }
   ],
   "source": [
    "reduced_array.shape"
   ]
  },
  {
   "cell_type": "code",
   "execution_count": 154,
   "id": "70140cca-8946-456a-8e63-ae035bc10943",
   "metadata": {},
   "outputs": [
    {
     "data": {
      "text/plain": [
       "(24696,)"
      ]
     },
     "execution_count": 154,
     "metadata": {},
     "output_type": "execute_result"
    }
   ],
   "source": [
    "timing_indices.shape"
   ]
  },
  {
   "cell_type": "code",
   "execution_count": 155,
   "id": "f3a3e149-040d-41c9-acb8-b5be103205fc",
   "metadata": {},
   "outputs": [
    {
     "data": {
      "text/plain": [
       "(24696,)"
      ]
     },
     "execution_count": 155,
     "metadata": {},
     "output_type": "execute_result"
    }
   ],
   "source": [
    "ccm_indices.shape"
   ]
  },
  {
   "cell_type": "code",
   "execution_count": 156,
   "id": "aa35cd8c-ad7e-4d38-87c2-e50bd0831ee3",
   "metadata": {},
   "outputs": [
    {
     "data": {
      "text/plain": [
       "(24696,)"
      ]
     },
     "execution_count": 156,
     "metadata": {},
     "output_type": "execute_result"
    }
   ],
   "source": [
    "detector.shape"
   ]
  },
  {
   "cell_type": "code",
   "execution_count": 157,
   "id": "dfc408c9-c106-4cfd-8386-df5529ef9e71",
   "metadata": {},
   "outputs": [
    {
     "data": {
      "text/plain": [
       "array([[240,  53],\n",
       "       [240,  53],\n",
       "       [240,  53],\n",
       "       ...,\n",
       "       [ 72,  54],\n",
       "       [ 62,  54],\n",
       "       [ 72,  54]])"
      ]
     },
     "execution_count": 157,
     "metadata": {},
     "output_type": "execute_result"
    }
   ],
   "source": [
    "unique_indices = np.column_stack((timing_indices, ccm_indices))\n",
    "unique_indices"
   ]
  },
  {
   "cell_type": "code",
   "execution_count": 158,
   "id": "8b896f49-00b1-4d16-b08b-72003b2200d4",
   "metadata": {},
   "outputs": [
    {
     "data": {
      "text/plain": [
       "(24696, 2)"
      ]
     },
     "execution_count": 158,
     "metadata": {},
     "output_type": "execute_result"
    }
   ],
   "source": [
    "unique_indices.shape"
   ]
  },
  {
   "cell_type": "code",
   "execution_count": 159,
   "id": "fd2a498d-c54d-48bd-92de-bb06d5423234",
   "metadata": {},
   "outputs": [],
   "source": [
    "np.add.at(reduced_array, (unique_indices[:, 0], unique_indices[:, 1]), detector)"
   ]
  },
  {
   "cell_type": "code",
   "execution_count": 151,
   "id": "94af1da4-9fcf-4658-b480-4daec445bc64",
   "metadata": {},
   "outputs": [
    {
     "data": {
      "text/plain": [
       "(240,)"
      ]
     },
     "execution_count": 151,
     "metadata": {},
     "output_type": "execute_result"
    }
   ],
   "source": [
    "f.time_bins.shape"
   ]
  },
  {
   "cell_type": "code",
   "execution_count": null,
   "id": "36095308-9916-4778-af88-22b518e73b6a",
   "metadata": {},
   "outputs": [],
   "source": []
  },
  {
   "cell_type": "code",
   "execution_count": 57,
   "id": "00d08201-e59e-45e0-9be0-435224b5a7b6",
   "metadata": {},
   "outputs": [
    {
     "data": {
      "text/plain": [
       "(24696,)"
      ]
     },
     "execution_count": 57,
     "metadata": {},
     "output_type": "execute_result"
    }
   ],
   "source": [
    "f.ccm_bin_indices_simultaneous_laser.shape"
   ]
  },
  {
   "cell_type": "code",
   "execution_count": 58,
   "id": "82dee23f-a25b-4704-9684-c0a5791d653b",
   "metadata": {},
   "outputs": [],
   "source": [
    "import matplotlib.pyplot as plt"
   ]
  },
  {
   "cell_type": "code",
   "execution_count": 60,
   "id": "7e13c098-0ae0-4593-b905-771289fc5686",
   "metadata": {},
   "outputs": [
    {
     "data": {
      "text/plain": [
       "<matplotlib.collections.PathCollection at 0x7f9aaad083a0>"
      ]
     },
     "execution_count": 60,
     "metadata": {},
     "output_type": "execute_result"
    },
    {
     "data": {
      "image/png": "[encoded data removed]",
      "text/plain": [
       "<Figure size 750x450 with 1 Axes>"
      ]
     },
     "metadata": {},
     "output_type": "display_data"
    }
   ],
   "source": [
    "plt.scatter(np.arange(len(f.epix_simultaneous_laser)), f.epix_simultaneous_laser, s=5)"
   ]
  },
  {
   "cell_type": "code",
   "execution_count": 63,
   "id": "30680ae7-b826-420d-a72b-c873314b0229",
   "metadata": {},
   "outputs": [
    {
     "data": {
      "text/plain": [
       "array([240, 240, 240, ...,  72,  62,  72])"
      ]
     },
     "execution_count": 63,
     "metadata": {},
     "output_type": "execute_result"
    }
   ],
   "source": [
    "f.timing_bin_indices_simultaneous_laser"
   ]
  },
  {
   "cell_type": "code",
   "execution_count": 62,
   "id": "65006fbd-0441-4c04-b1b4-b470de5dffb5",
   "metadata": {},
   "outputs": [
    {
     "data": {
      "text/plain": [
       "<matplotlib.collections.PathCollection at 0x7f9aaa9e25b0>"
      ]
     },
     "execution_count": 62,
     "metadata": {},
     "output_type": "execute_result"
    },
    {
     "data": {
      "image/png": "[encoded data removed]",
      "text/plain": [
       "<Figure size 750x450 with 1 Axes>"
      ]
     },
     "metadata": {},
     "output_type": "display_data"
    }
   ],
   "source": [
    "plt.scatter(np.arange(len(f.timing_bin_indices_simultaneous_laser)), f.timing_bin_indices_simultaneous_laser, s=5)"
   ]
  },
  {
   "cell_type": "code",
   "execution_count": 69,
   "id": "84beffb2-4198-43b7-8b92-fbb99a784078",
   "metadata": {},
   "outputs": [
    {
     "data": {
      "text/plain": [
       "(24696,)"
      ]
     },
     "execution_count": 69,
     "metadata": {},
     "output_type": "execute_result"
    }
   ],
   "source": [
    "f.ccm_bin_indices_simultaneous_laser.shape"
   ]
  },
  {
   "cell_type": "code",
   "execution_count": 71,
   "id": "bafeec75-b101-42fc-8276-bf984e16a6bf",
   "metadata": {},
   "outputs": [
    {
     "data": {
      "text/plain": [
       "<matplotlib.collections.PathCollection at 0x7f9aaa944ca0>"
      ]
     },
     "execution_count": 71,
     "metadata": {},
     "output_type": "execute_result"
    },
    {
     "data": {
      "image/png": "[encoded data removed]",
      "text/plain": [
       "<Figure size 750x450 with 1 Axes>"
      ]
     },
     "metadata": {},
     "output_type": "display_data"
    }
   ],
   "source": [
    "plt.scatter(np.arange(len(f.ccm_bin_indices_simultaneous_laser)), f.ccm_bin_indices_simultaneous_laser)"
   ]
  },
  {
   "cell_type": "code",
   "execution_count": null,
   "id": "fdf31837-7298-4b70-9476-99fb54deb783",
   "metadata": {},
   "outputs": [],
   "source": []
  },
  {
   "cell_type": "code",
   "execution_count": 107,
   "id": "f39fc66e-2579-4964-9e75-15f45d41e640",
   "metadata": {},
   "outputs": [
    {
     "data": {
      "text/plain": [
       "['epicsUser/dccm_E',\n",
       " 'epicsUser/dccm_E_setpoint',\n",
       " 'tt/ttCorr',\n",
       " 'epics/lxt_ttc',\n",
       " 'enc/lasDelay',\n",
       " 'ipm4/sum',\n",
       " 'tt/AMPL',\n",
       " 'epix_2/ROI_0_sum']"
      ]
     },
     "execution_count": 107,
     "metadata": {},
     "output_type": "execute_result"
    }
   ],
   "source": [
    "xas.keys"
   ]
  },
  {
   "cell_type": "code",
   "execution_count": null,
   "id": "20b3b53b-b663-4c74-942d-1a71a7dd82f6",
   "metadata": {},
   "outputs": [],
   "source": []
  },
  {
   "cell_type": "code",
   "execution_count": null,
   "id": "f011af25-1342-4d24-9510-f5d01ef2716e",
   "metadata": {},
   "outputs": [],
   "source": []
  },
  {
   "cell_type": "code",
   "execution_count": null,
   "id": "684d82b6-b6bd-4ef2-bd14-84598b599edb",
   "metadata": {},
   "outputs": [],
   "source": []
  },
  {
   "cell_type": "code",
   "execution_count": null,
   "id": "f9444631-e9a3-4cbe-a825-e2a3e133dc17",
   "metadata": {},
   "outputs": [],
   "source": []
  },
  {
   "cell_type": "code",
   "execution_count": null,
   "id": "2c8ebab3-f225-4927-8970-2e99fb37db2e",
   "metadata": {},
   "outputs": [],
   "source": []
  },
  {
   "cell_type": "code",
   "execution_count": null,
   "id": "eedf821c-1287-45a1-9d3b-9d75ec0c5574",
   "metadata": {},
   "outputs": [],
   "source": []
  },
  {
   "cell_type": "code",
   "execution_count": 54,
   "id": "243c9693-874d-404b-bb8a-a7aed658961e",
   "metadata": {},
   "outputs": [],
   "source": [
    "xas_experiment = XSpect.XSpect_Analysis.spectroscopy_experiment(lcls_run=24, hutch='xcs', experiment_id='xcs100864324')\n",
    "xas=XSpect.XSpect_Controller.XASBatchAnalysis()\n",
    "keys=['epicsUser/dccm_E','epicsUser/dccm_E_setpoint','tt/ttCorr','epics/lxt_ttc', 'enc/lasDelay' , 'ipm4/sum','tt/AMPL','epix_2/ROI_0_sum'] \n",
    "names=['ccm','ccm_E_setpoint','time_tool_correction','lxt_ttc'  ,'encoder','ipm', 'time_tool_ampl','epix']\n",
    "xas.set_key_aliases(keys,names)\n",
    "\n",
    "xas.add_filter('xray','ipm',200.0)\n",
    "xas.add_filter('simultaneous','ipm',500.0)\n",
    "xas.add_filter('simultaneous','time_tool_ampl',0.01)\n",
    "\n",
    "## Set normalization to use EPIX10k2M instead of ipm4\n",
    "xas.scattering=True\n",
    "\n",
    "#User specified unique ccm energie to remove glitch points\n",
    "# xas.ccm_E_input = np.array([7.102 , 7.104 , 7.106 , 7.108 , 7.1083, 7.1086, 7.1089, 7.1092,\n",
    "#        7.1095, 7.1098, 7.1101, 7.1104, 7.1107, 7.111 , 7.1113, 7.1116,\n",
    "#        7.1119, 7.1122, 7.1125, 7.1128, 7.1131, 7.1134, 7.1137, 7.114 ,\n",
    "#        7.115 , 7.116 , 7.117 , 7.118 , 7.119 , 7.12  , 7.121 , 7.122 ,\n",
    "#        7.123 , 7.124 , 7.125 , 7.126 , 7.127 , 7.128 , 7.129 , 7.13  ,\n",
    "#        7.132 , 7.134 , 7.136 , 7.138 , 7.14  , 7.142 , 7.144 , 7.146 ,\n",
    "#        7.148 , 7.15  , 7.152 , 7.154 ])\n",
    "\n",
    "# xas.ccm_E_input = np.array([7.102 , 7.104 , 7.106 , 7.108 , 7.1083, 7.1086, 7.1089, 7.1092,\n",
    "#        7.1095, 7.1098, 7.1101, 7.1104, 7.1107, 7.111 , 7.1113, 7.1116,\n",
    "#        7.1119, 7.1122, 7.1125, 7.1128, 7.1131, 7.1134, 7.1137, 7.114 ,\n",
    "#        7.115 , 7.116 , 7.117 , 7.118 , 7.119 , 7.12  , 7.121 , 7.122 ,\n",
    "#        7.123 , 7.124 , 7.125 , 7.126 , 7.127 , 7.128 , 7.129 , 7.13  ,\n",
    "#        7.132 , 7.134 , 7.136 , 7.138 , 7.14  , 7.142 , 7.144 , 7.146 ,\n",
    "#        7.148 , 7.15  , 7.152 , 7.154 ])"
   ]
  },
  {
   "cell_type": "code",
   "execution_count": 55,
   "id": "2b8f0183-dbed-4721-8c5d-b0feb6575335",
   "metadata": {},
   "outputs": [],
   "source": [
    "## -0.5 to 2.0 ps\n",
    "#xas.run_parser(['329 330 331 332 333 334 335']) # -0.5 to 2.5 ps\n",
    "#xas.run_parser(['374 375 376 377']) # -0.5 to 2.5 ps\n",
    "\n",
    "xas.run_parser(['19']) # -0.5 to 2.5 ps\n",
    "\n",
    "# xas.mintime = -0.5\n",
    "# xas.maxtime = 2\n",
    "\n",
    "# xas.mintime = -20\n",
    "# xas.maxtime = 20\n",
    "\n",
    "## 1 ps time bins (for -10-70ps)\n",
    "#xas.numpoints = 80\n",
    "# ## 2 ps time bins (for -10-70ps)\n",
    "#xas.numpoints = 40\n",
    "# # ## 5 ps time bins (for -10-70ps)\n",
    "# xas.numpoints = 25"
   ]
  },
  {
   "cell_type": "code",
   "execution_count": 56,
   "id": "a129437f-e5ea-4d01-85bf-0e5c8cdd2221",
   "metadata": {},
   "outputs": [],
   "source": [
    "xas.primary_analysis_loop(xas_experiment, verbose = False)"
   ]
  },
  {
   "cell_type": "code",
   "execution_count": 62,
   "id": "71433b66-fb6d-42d5-a874-a870e400954a",
   "metadata": {},
   "outputs": [
    {
     "data": {
      "text/plain": [
       "(240, 55)"
      ]
     },
     "execution_count": 62,
     "metadata": {},
     "output_type": "execute_result"
    }
   ],
   "source": [
    "xas.analyzed_runs[0].epix_simultaneous_laser_time_energy_binned.shape"
   ]
  },
  {
   "cell_type": "code",
   "execution_count": null,
   "id": "21ef791b-36c4-4bc9-b9fc-697c988ee742",
   "metadata": {},
   "outputs": [],
   "source": []
  },
  {
   "cell_type": "code",
   "execution_count": 57,
   "id": "c5b0efbb-b31d-40e6-bccf-a3e58c461256",
   "metadata": {},
   "outputs": [
    {
     "name": "stderr",
     "output_type": "stream",
     "text": [
      "/sdf/home/j/jbabicz/./XSpecT/XSpect/XSpect_Visualization.py:144: RuntimeWarning: invalid value encountered in divide\n",
      "  laser_on_spectrum=xas_analysis.summed_laser_on/xas_analysis.summed_norm_on\n",
      "/sdf/home/j/jbabicz/./XSpecT/XSpect/XSpect_Visualization.py:145: RuntimeWarning: invalid value encountered in divide\n",
      "  laser_off_spectrum=np.divide(np.nansum(xas_analysis.summed_laser_off,axis=0),np.nansum(xas_analysis.summed_norm_off,axis=0))\n"
     ]
    },
    {
     "ename": "TypeError",
     "evalue": "Length of x (54) must match number of columns in z (55)",
     "output_type": "error",
     "traceback": [
      "\u001b[0;31m---------------------------------------------------------------------------\u001b[0m",
      "\u001b[0;31mTypeError\u001b[0m                                 Traceback (most recent call last)",
      "Cell \u001b[0;32mIn[57], line 8\u001b[0m\n\u001b[1;32m      1\u001b[0m v\u001b[38;5;241m=\u001b[39mXSpect\u001b[38;5;241m.\u001b[39mXSpect_Visualization\u001b[38;5;241m.\u001b[39mXASVisualization()\n\u001b[1;32m      2\u001b[0m v\u001b[38;5;241m.\u001b[39mcombine_spectra(xas_analysis\u001b[38;5;241m=\u001b[39mxas,\n\u001b[1;32m      3\u001b[0m                   xas_laser_key\u001b[38;5;241m=\u001b[39m\u001b[38;5;124m'\u001b[39m\u001b[38;5;124mepix_simultaneous_laser_time_energy_binned\u001b[39m\u001b[38;5;124m'\u001b[39m,\n\u001b[1;32m      4\u001b[0m                   xas_key\u001b[38;5;241m=\u001b[39m\u001b[38;5;124m'\u001b[39m\u001b[38;5;124mepix_xray_not_laser_time_energy_binned\u001b[39m\u001b[38;5;124m'\u001b[39m,\n\u001b[1;32m      5\u001b[0m                   norm_laser_key\u001b[38;5;241m=\u001b[39m\u001b[38;5;124m'\u001b[39m\u001b[38;5;124mipm_simultaneous_laser_time_energy_binned\u001b[39m\u001b[38;5;124m'\u001b[39m,\n\u001b[1;32m      6\u001b[0m                   norm_key\u001b[38;5;241m=\u001b[39m\u001b[38;5;124m'\u001b[39m\u001b[38;5;124mipm_xray_not_laser_time_energy_binned\u001b[39m\u001b[38;5;124m'\u001b[39m)\n\u001b[0;32m----> 8\u001b[0m \u001b[43mv\u001b[49m\u001b[38;5;241;43m.\u001b[39;49m\u001b[43mplot_2d_difference_spectrum\u001b[49m\u001b[43m(\u001b[49m\u001b[43mxas\u001b[49m\u001b[43m,\u001b[49m\u001b[43m \u001b[49m\u001b[43mvmin\u001b[49m\u001b[38;5;241;43m=\u001b[39;49m\u001b[38;5;241;43m-\u001b[39;49m\u001b[38;5;241;43m0.2\u001b[39;49m\u001b[43m,\u001b[49m\u001b[43m \u001b[49m\u001b[43mvmax\u001b[49m\u001b[38;5;241;43m=\u001b[39;49m\u001b[38;5;241;43m0.2\u001b[39;49m\u001b[43m)\u001b[49m\n",
      "File \u001b[0;32m~/./XSpecT/XSpect/XSpect_Visualization.py:156\u001b[0m, in \u001b[0;36mXASVisualization.plot_2d_difference_spectrum\u001b[0;34m(self, xas_analysis, vmin, vmax)\u001b[0m\n\u001b[1;32m    153\u001b[0m     vmin \u001b[38;5;241m=\u001b[39m \u001b[38;5;241m-\u001b[39mvmax\n\u001b[1;32m    154\u001b[0m contlevels \u001b[38;5;241m=\u001b[39m np\u001b[38;5;241m.\u001b[39mlinspace(vmin, vmax, \u001b[38;5;241m100\u001b[39m)\n\u001b[0;32m--> 156\u001b[0m \u001b[43mplt\u001b[49m\u001b[38;5;241;43m.\u001b[39;49m\u001b[43mcontourf\u001b[49m\u001b[43m(\u001b[49m\u001b[43mxas_analysis\u001b[49m\u001b[38;5;241;43m.\u001b[39;49m\u001b[43mccm_bins\u001b[49m\u001b[43m,\u001b[49m\u001b[43m \u001b[49m\u001b[43mxas_analysis\u001b[49m\u001b[38;5;241;43m.\u001b[39;49m\u001b[43mtime_bins\u001b[49m\u001b[43m,\u001b[49m\u001b[43m \u001b[49m\u001b[43mdifference_spectrum\u001b[49m\u001b[43m,\u001b[49m\u001b[43m \u001b[49m\u001b[43mcontlevels\u001b[49m\u001b[43m,\u001b[49m\u001b[43m \u001b[49m\u001b[43mcmap\u001b[49m\u001b[43m \u001b[49m\u001b[38;5;241;43m=\u001b[39;49m\u001b[43m \u001b[49m\u001b[38;5;124;43m'\u001b[39;49m\u001b[38;5;124;43mRdBu\u001b[39;49m\u001b[38;5;124;43m'\u001b[39;49m\u001b[43m,\u001b[49m\u001b[43mextend\u001b[49m\u001b[38;5;241;43m=\u001b[39;49m\u001b[38;5;124;43m\"\u001b[39;49m\u001b[38;5;124;43mboth\u001b[39;49m\u001b[38;5;124;43m\"\u001b[39;49m\u001b[43m)\u001b[49m\n\u001b[1;32m    157\u001b[0m plt\u001b[38;5;241m.\u001b[39mcolorbar()\n\u001b[1;32m    158\u001b[0m plt\u001b[38;5;241m.\u001b[39mxlabel(\u001b[38;5;124m'\u001b[39m\u001b[38;5;124mEnergy (keV)\u001b[39m\u001b[38;5;124m'\u001b[39m)\n",
      "File \u001b[0;32m/sdf/group/lcls/ds/ana/sw/conda1/inst/envs/ana-4.0.66-py3/lib/python3.9/site-packages/matplotlib/pyplot.py:3154\u001b[0m, in \u001b[0;36mcontourf\u001b[0;34m(data, *args, **kwargs)\u001b[0m\n\u001b[1;32m   3152\u001b[0m \u001b[38;5;129m@_copy_docstring_and_deprecators\u001b[39m(Axes\u001b[38;5;241m.\u001b[39mcontourf)\n\u001b[1;32m   3153\u001b[0m \u001b[38;5;28;01mdef\u001b[39;00m \u001b[38;5;21mcontourf\u001b[39m(\u001b[38;5;241m*\u001b[39margs, data\u001b[38;5;241m=\u001b[39m\u001b[38;5;28;01mNone\u001b[39;00m, \u001b[38;5;241m*\u001b[39m\u001b[38;5;241m*\u001b[39mkwargs) \u001b[38;5;241m-\u001b[39m\u001b[38;5;241m>\u001b[39m QuadContourSet:\n\u001b[0;32m-> 3154\u001b[0m     __ret \u001b[38;5;241m=\u001b[39m \u001b[43mgca\u001b[49m\u001b[43m(\u001b[49m\u001b[43m)\u001b[49m\u001b[38;5;241;43m.\u001b[39;49m\u001b[43mcontourf\u001b[49m\u001b[43m(\u001b[49m\n\u001b[1;32m   3155\u001b[0m \u001b[43m        \u001b[49m\u001b[38;5;241;43m*\u001b[39;49m\u001b[43margs\u001b[49m\u001b[43m,\u001b[49m\u001b[43m \u001b[49m\u001b[38;5;241;43m*\u001b[39;49m\u001b[38;5;241;43m*\u001b[39;49m\u001b[43m(\u001b[49m\u001b[43m{\u001b[49m\u001b[38;5;124;43m\"\u001b[39;49m\u001b[38;5;124;43mdata\u001b[39;49m\u001b[38;5;124;43m\"\u001b[39;49m\u001b[43m:\u001b[49m\u001b[43m \u001b[49m\u001b[43mdata\u001b[49m\u001b[43m}\u001b[49m\u001b[43m \u001b[49m\u001b[38;5;28;43;01mif\u001b[39;49;00m\u001b[43m \u001b[49m\u001b[43mdata\u001b[49m\u001b[43m \u001b[49m\u001b[38;5;129;43;01mis\u001b[39;49;00m\u001b[43m \u001b[49m\u001b[38;5;129;43;01mnot\u001b[39;49;00m\u001b[43m \u001b[49m\u001b[38;5;28;43;01mNone\u001b[39;49;00m\u001b[43m \u001b[49m\u001b[38;5;28;43;01melse\u001b[39;49;00m\u001b[43m \u001b[49m\u001b[43m{\u001b[49m\u001b[43m}\u001b[49m\u001b[43m)\u001b[49m\u001b[43m,\u001b[49m\u001b[43m \u001b[49m\u001b[38;5;241;43m*\u001b[39;49m\u001b[38;5;241;43m*\u001b[39;49m\u001b[43mkwargs\u001b[49m\n\u001b[1;32m   3156\u001b[0m \u001b[43m    \u001b[49m\u001b[43m)\u001b[49m\n\u001b[1;32m   3157\u001b[0m     \u001b[38;5;28;01mif\u001b[39;00m __ret\u001b[38;5;241m.\u001b[39m_A \u001b[38;5;129;01mis\u001b[39;00m \u001b[38;5;129;01mnot\u001b[39;00m \u001b[38;5;28;01mNone\u001b[39;00m:  \u001b[38;5;66;03m# type: ignore[attr-defined]\u001b[39;00m\n\u001b[1;32m   3158\u001b[0m         sci(__ret)\n",
      "File \u001b[0;32m/sdf/group/lcls/ds/ana/sw/conda1/inst/envs/ana-4.0.66-py3/lib/python3.9/site-packages/matplotlib/__init__.py:1473\u001b[0m, in \u001b[0;36m_preprocess_data.<locals>.inner\u001b[0;34m(ax, data, *args, **kwargs)\u001b[0m\n\u001b[1;32m   1470\u001b[0m \u001b[38;5;129m@functools\u001b[39m\u001b[38;5;241m.\u001b[39mwraps(func)\n\u001b[1;32m   1471\u001b[0m \u001b[38;5;28;01mdef\u001b[39;00m \u001b[38;5;21minner\u001b[39m(ax, \u001b[38;5;241m*\u001b[39margs, data\u001b[38;5;241m=\u001b[39m\u001b[38;5;28;01mNone\u001b[39;00m, \u001b[38;5;241m*\u001b[39m\u001b[38;5;241m*\u001b[39mkwargs):\n\u001b[1;32m   1472\u001b[0m     \u001b[38;5;28;01mif\u001b[39;00m data \u001b[38;5;129;01mis\u001b[39;00m \u001b[38;5;28;01mNone\u001b[39;00m:\n\u001b[0;32m-> 1473\u001b[0m         \u001b[38;5;28;01mreturn\u001b[39;00m \u001b[43mfunc\u001b[49m\u001b[43m(\u001b[49m\n\u001b[1;32m   1474\u001b[0m \u001b[43m            \u001b[49m\u001b[43max\u001b[49m\u001b[43m,\u001b[49m\n\u001b[1;32m   1475\u001b[0m \u001b[43m            \u001b[49m\u001b[38;5;241;43m*\u001b[39;49m\u001b[38;5;28;43mmap\u001b[39;49m\u001b[43m(\u001b[49m\u001b[43msanitize_sequence\u001b[49m\u001b[43m,\u001b[49m\u001b[43m \u001b[49m\u001b[43margs\u001b[49m\u001b[43m)\u001b[49m\u001b[43m,\u001b[49m\n\u001b[1;32m   1476\u001b[0m \u001b[43m            \u001b[49m\u001b[38;5;241;43m*\u001b[39;49m\u001b[38;5;241;43m*\u001b[39;49m\u001b[43m{\u001b[49m\u001b[43mk\u001b[49m\u001b[43m:\u001b[49m\u001b[43m \u001b[49m\u001b[43msanitize_sequence\u001b[49m\u001b[43m(\u001b[49m\u001b[43mv\u001b[49m\u001b[43m)\u001b[49m\u001b[43m \u001b[49m\u001b[38;5;28;43;01mfor\u001b[39;49;00m\u001b[43m \u001b[49m\u001b[43mk\u001b[49m\u001b[43m,\u001b[49m\u001b[43m \u001b[49m\u001b[43mv\u001b[49m\u001b[43m \u001b[49m\u001b[38;5;129;43;01min\u001b[39;49;00m\u001b[43m \u001b[49m\u001b[43mkwargs\u001b[49m\u001b[38;5;241;43m.\u001b[39;49m\u001b[43mitems\u001b[49m\u001b[43m(\u001b[49m\u001b[43m)\u001b[49m\u001b[43m}\u001b[49m\u001b[43m)\u001b[49m\n\u001b[1;32m   1478\u001b[0m     bound \u001b[38;5;241m=\u001b[39m new_sig\u001b[38;5;241m.\u001b[39mbind(ax, \u001b[38;5;241m*\u001b[39margs, \u001b[38;5;241m*\u001b[39m\u001b[38;5;241m*\u001b[39mkwargs)\n\u001b[1;32m   1479\u001b[0m     auto_label \u001b[38;5;241m=\u001b[39m (bound\u001b[38;5;241m.\u001b[39marguments\u001b[38;5;241m.\u001b[39mget(label_namer)\n\u001b[1;32m   1480\u001b[0m                   \u001b[38;5;129;01mor\u001b[39;00m bound\u001b[38;5;241m.\u001b[39mkwargs\u001b[38;5;241m.\u001b[39mget(label_namer))\n",
      "File \u001b[0;32m/sdf/group/lcls/ds/ana/sw/conda1/inst/envs/ana-4.0.66-py3/lib/python3.9/site-packages/matplotlib/axes/_axes.py:6675\u001b[0m, in \u001b[0;36mAxes.contourf\u001b[0;34m(self, *args, **kwargs)\u001b[0m\n\u001b[1;32m   6666\u001b[0m \u001b[38;5;250m\u001b[39m\u001b[38;5;124;03m\"\"\"\u001b[39;00m\n\u001b[1;32m   6667\u001b[0m \u001b[38;5;124;03mPlot filled contours.\u001b[39;00m\n\u001b[1;32m   6668\u001b[0m \n\u001b[0;32m   (...)\u001b[0m\n\u001b[1;32m   6672\u001b[0m \u001b[38;5;124;03m%(contour_doc)s\u001b[39;00m\n\u001b[1;32m   6673\u001b[0m \u001b[38;5;124;03m\"\"\"\u001b[39;00m\n\u001b[1;32m   6674\u001b[0m kwargs[\u001b[38;5;124m'\u001b[39m\u001b[38;5;124mfilled\u001b[39m\u001b[38;5;124m'\u001b[39m] \u001b[38;5;241m=\u001b[39m \u001b[38;5;28;01mTrue\u001b[39;00m\n\u001b[0;32m-> 6675\u001b[0m contours \u001b[38;5;241m=\u001b[39m \u001b[43mmcontour\u001b[49m\u001b[38;5;241;43m.\u001b[39;49m\u001b[43mQuadContourSet\u001b[49m\u001b[43m(\u001b[49m\u001b[38;5;28;43mself\u001b[39;49m\u001b[43m,\u001b[49m\u001b[43m \u001b[49m\u001b[38;5;241;43m*\u001b[39;49m\u001b[43margs\u001b[49m\u001b[43m,\u001b[49m\u001b[43m \u001b[49m\u001b[38;5;241;43m*\u001b[39;49m\u001b[38;5;241;43m*\u001b[39;49m\u001b[43mkwargs\u001b[49m\u001b[43m)\u001b[49m\n\u001b[1;32m   6676\u001b[0m \u001b[38;5;28mself\u001b[39m\u001b[38;5;241m.\u001b[39m_request_autoscale_view()\n\u001b[1;32m   6677\u001b[0m \u001b[38;5;28;01mreturn\u001b[39;00m contours\n",
      "File \u001b[0;32m/sdf/group/lcls/ds/ana/sw/conda1/inst/envs/ana-4.0.66-py3/lib/python3.9/site-packages/matplotlib/contour.py:813\u001b[0m, in \u001b[0;36mContourSet.__init__\u001b[0;34m(self, ax, levels, filled, linewidths, linestyles, hatches, alpha, origin, extent, cmap, colors, norm, vmin, vmax, extend, antialiased, nchunk, locator, transform, negative_linestyles, clip_path, *args, **kwargs)\u001b[0m\n\u001b[1;32m    809\u001b[0m \u001b[38;5;28;01mif\u001b[39;00m \u001b[38;5;28mself\u001b[39m\u001b[38;5;241m.\u001b[39mnegative_linestyles \u001b[38;5;129;01mis\u001b[39;00m \u001b[38;5;28;01mNone\u001b[39;00m:\n\u001b[1;32m    810\u001b[0m     \u001b[38;5;28mself\u001b[39m\u001b[38;5;241m.\u001b[39mnegative_linestyles \u001b[38;5;241m=\u001b[39m \\\n\u001b[1;32m    811\u001b[0m         mpl\u001b[38;5;241m.\u001b[39mrcParams[\u001b[38;5;124m'\u001b[39m\u001b[38;5;124mcontour.negative_linestyle\u001b[39m\u001b[38;5;124m'\u001b[39m]\n\u001b[0;32m--> 813\u001b[0m kwargs \u001b[38;5;241m=\u001b[39m \u001b[38;5;28;43mself\u001b[39;49m\u001b[38;5;241;43m.\u001b[39;49m\u001b[43m_process_args\u001b[49m\u001b[43m(\u001b[49m\u001b[38;5;241;43m*\u001b[39;49m\u001b[43margs\u001b[49m\u001b[43m,\u001b[49m\u001b[43m \u001b[49m\u001b[38;5;241;43m*\u001b[39;49m\u001b[38;5;241;43m*\u001b[39;49m\u001b[43mkwargs\u001b[49m\u001b[43m)\u001b[49m\n\u001b[1;32m    814\u001b[0m \u001b[38;5;28mself\u001b[39m\u001b[38;5;241m.\u001b[39m_process_levels()\n\u001b[1;32m    816\u001b[0m \u001b[38;5;28mself\u001b[39m\u001b[38;5;241m.\u001b[39m_extend_min \u001b[38;5;241m=\u001b[39m \u001b[38;5;28mself\u001b[39m\u001b[38;5;241m.\u001b[39mextend \u001b[38;5;129;01min\u001b[39;00m [\u001b[38;5;124m'\u001b[39m\u001b[38;5;124mmin\u001b[39m\u001b[38;5;124m'\u001b[39m, \u001b[38;5;124m'\u001b[39m\u001b[38;5;124mboth\u001b[39m\u001b[38;5;124m'\u001b[39m]\n",
      "File \u001b[0;32m/sdf/group/lcls/ds/ana/sw/conda1/inst/envs/ana-4.0.66-py3/lib/python3.9/site-packages/matplotlib/contour.py:1470\u001b[0m, in \u001b[0;36mQuadContourSet._process_args\u001b[0;34m(self, corner_mask, algorithm, *args, **kwargs)\u001b[0m\n\u001b[1;32m   1467\u001b[0m         corner_mask \u001b[38;5;241m=\u001b[39m mpl\u001b[38;5;241m.\u001b[39mrcParams[\u001b[38;5;124m'\u001b[39m\u001b[38;5;124mcontour.corner_mask\u001b[39m\u001b[38;5;124m'\u001b[39m]\n\u001b[1;32m   1468\u001b[0m \u001b[38;5;28mself\u001b[39m\u001b[38;5;241m.\u001b[39m_corner_mask \u001b[38;5;241m=\u001b[39m corner_mask\n\u001b[0;32m-> 1470\u001b[0m x, y, z \u001b[38;5;241m=\u001b[39m \u001b[38;5;28;43mself\u001b[39;49m\u001b[38;5;241;43m.\u001b[39;49m\u001b[43m_contour_args\u001b[49m\u001b[43m(\u001b[49m\u001b[43margs\u001b[49m\u001b[43m,\u001b[49m\u001b[43m \u001b[49m\u001b[43mkwargs\u001b[49m\u001b[43m)\u001b[49m\n\u001b[1;32m   1472\u001b[0m contour_generator \u001b[38;5;241m=\u001b[39m contourpy\u001b[38;5;241m.\u001b[39mcontour_generator(\n\u001b[1;32m   1473\u001b[0m     x, y, z, name\u001b[38;5;241m=\u001b[39m\u001b[38;5;28mself\u001b[39m\u001b[38;5;241m.\u001b[39m_algorithm, corner_mask\u001b[38;5;241m=\u001b[39m\u001b[38;5;28mself\u001b[39m\u001b[38;5;241m.\u001b[39m_corner_mask,\n\u001b[1;32m   1474\u001b[0m     line_type\u001b[38;5;241m=\u001b[39mcontourpy\u001b[38;5;241m.\u001b[39mLineType\u001b[38;5;241m.\u001b[39mSeparateCode,\n\u001b[1;32m   1475\u001b[0m     fill_type\u001b[38;5;241m=\u001b[39mcontourpy\u001b[38;5;241m.\u001b[39mFillType\u001b[38;5;241m.\u001b[39mOuterCode,\n\u001b[1;32m   1476\u001b[0m     chunk_size\u001b[38;5;241m=\u001b[39m\u001b[38;5;28mself\u001b[39m\u001b[38;5;241m.\u001b[39mnchunk)\n\u001b[1;32m   1478\u001b[0m t \u001b[38;5;241m=\u001b[39m \u001b[38;5;28mself\u001b[39m\u001b[38;5;241m.\u001b[39mget_transform()\n",
      "File \u001b[0;32m/sdf/group/lcls/ds/ana/sw/conda1/inst/envs/ana-4.0.66-py3/lib/python3.9/site-packages/matplotlib/contour.py:1510\u001b[0m, in \u001b[0;36mQuadContourSet._contour_args\u001b[0;34m(self, args, kwargs)\u001b[0m\n\u001b[1;32m   1508\u001b[0m \u001b[38;5;28;01melif\u001b[39;00m \u001b[38;5;241m2\u001b[39m \u001b[38;5;241m<\u001b[39m nargs \u001b[38;5;241m<\u001b[39m\u001b[38;5;241m=\u001b[39m \u001b[38;5;241m4\u001b[39m:\n\u001b[1;32m   1509\u001b[0m     x, y, z_orig, \u001b[38;5;241m*\u001b[39margs \u001b[38;5;241m=\u001b[39m args\n\u001b[0;32m-> 1510\u001b[0m     x, y, z \u001b[38;5;241m=\u001b[39m \u001b[38;5;28;43mself\u001b[39;49m\u001b[38;5;241;43m.\u001b[39;49m\u001b[43m_check_xyz\u001b[49m\u001b[43m(\u001b[49m\u001b[43mx\u001b[49m\u001b[43m,\u001b[49m\u001b[43m \u001b[49m\u001b[43my\u001b[49m\u001b[43m,\u001b[49m\u001b[43m \u001b[49m\u001b[43mz_orig\u001b[49m\u001b[43m,\u001b[49m\u001b[43m \u001b[49m\u001b[43mkwargs\u001b[49m\u001b[43m)\u001b[49m\n\u001b[1;32m   1512\u001b[0m \u001b[38;5;28;01melse\u001b[39;00m:\n\u001b[1;32m   1513\u001b[0m     \u001b[38;5;28;01mraise\u001b[39;00m _api\u001b[38;5;241m.\u001b[39mnargs_error(fn, takes\u001b[38;5;241m=\u001b[39m\u001b[38;5;124m\"\u001b[39m\u001b[38;5;124mfrom 1 to 4\u001b[39m\u001b[38;5;124m\"\u001b[39m, given\u001b[38;5;241m=\u001b[39mnargs)\n",
      "File \u001b[0;32m/sdf/group/lcls/ds/ana/sw/conda1/inst/envs/ana-4.0.66-py3/lib/python3.9/site-packages/matplotlib/contour.py:1549\u001b[0m, in \u001b[0;36mQuadContourSet._check_xyz\u001b[0;34m(self, x, y, z, kwargs)\u001b[0m\n\u001b[1;32m   1547\u001b[0m ny, \u001b[38;5;241m=\u001b[39m y\u001b[38;5;241m.\u001b[39mshape\n\u001b[1;32m   1548\u001b[0m \u001b[38;5;28;01mif\u001b[39;00m nx \u001b[38;5;241m!=\u001b[39m Nx:\n\u001b[0;32m-> 1549\u001b[0m     \u001b[38;5;28;01mraise\u001b[39;00m \u001b[38;5;167;01mTypeError\u001b[39;00m(\u001b[38;5;124mf\u001b[39m\u001b[38;5;124m\"\u001b[39m\u001b[38;5;124mLength of x (\u001b[39m\u001b[38;5;132;01m{\u001b[39;00mnx\u001b[38;5;132;01m}\u001b[39;00m\u001b[38;5;124m) must match number of \u001b[39m\u001b[38;5;124m\"\u001b[39m\n\u001b[1;32m   1550\u001b[0m                     \u001b[38;5;124mf\u001b[39m\u001b[38;5;124m\"\u001b[39m\u001b[38;5;124mcolumns in z (\u001b[39m\u001b[38;5;132;01m{\u001b[39;00mNx\u001b[38;5;132;01m}\u001b[39;00m\u001b[38;5;124m)\u001b[39m\u001b[38;5;124m\"\u001b[39m)\n\u001b[1;32m   1551\u001b[0m \u001b[38;5;28;01mif\u001b[39;00m ny \u001b[38;5;241m!=\u001b[39m Ny:\n\u001b[1;32m   1552\u001b[0m     \u001b[38;5;28;01mraise\u001b[39;00m \u001b[38;5;167;01mTypeError\u001b[39;00m(\u001b[38;5;124mf\u001b[39m\u001b[38;5;124m\"\u001b[39m\u001b[38;5;124mLength of y (\u001b[39m\u001b[38;5;132;01m{\u001b[39;00mny\u001b[38;5;132;01m}\u001b[39;00m\u001b[38;5;124m) must match number of \u001b[39m\u001b[38;5;124m\"\u001b[39m\n\u001b[1;32m   1553\u001b[0m                     \u001b[38;5;124mf\u001b[39m\u001b[38;5;124m\"\u001b[39m\u001b[38;5;124mrows in z (\u001b[39m\u001b[38;5;132;01m{\u001b[39;00mNy\u001b[38;5;132;01m}\u001b[39;00m\u001b[38;5;124m)\u001b[39m\u001b[38;5;124m\"\u001b[39m)\n",
      "\u001b[0;31mTypeError\u001b[0m: Length of x (54) must match number of columns in z (55)"
     ]
    },
    {
     "data": {
      "image/png": "[encoded data removed]",
      "text/plain": [
       "<Figure size 750x450 with 1 Axes>"
      ]
     },
     "metadata": {},
     "output_type": "display_data"
    }
   ],
   "source": [
    "v=XSpect.XSpect_Visualization.XASVisualization()\n",
    "v.combine_spectra(xas_analysis=xas,\n",
    "                  xas_laser_key='epix_simultaneous_laser_time_energy_binned',\n",
    "                  xas_key='epix_xray_not_laser_time_energy_binned',\n",
    "                  norm_laser_key='ipm_simultaneous_laser_time_energy_binned',\n",
    "                  norm_key='ipm_xray_not_laser_time_energy_binned')\n",
    "\n",
    "v.plot_2d_difference_spectrum(xas, vmin=-0.2, vmax=0.2)"
   ]
  },
  {
   "cell_type": "code",
   "execution_count": null,
   "id": "8635ff22-5282-4410-9a8f-40b23d34602e",
   "metadata": {},
   "outputs": [],
   "source": []
  },
  {
   "cell_type": "code",
   "execution_count": null,
   "id": "f911d391-2de2-4e1d-9686-73425f36a0f0",
   "metadata": {},
   "outputs": [],
   "source": []
  },
  {
   "cell_type": "markdown",
   "id": "7c650858-93ad-47de-a479-0f336257011c",
   "metadata": {},
   "source": [
    "## Beamtime 100861524"
   ]
  },
  {
   "cell_type": "markdown",
   "id": "16f338ac-c621-4029-93f2-216bbe76e044",
   "metadata": {},
   "source": [
    "### Myoglobin\n",
    "- 4/19"
   ]
  },
  {
   "cell_type": "code",
   "execution_count": 13,
   "id": "b387480c-d6f6-42e7-a616-d5579379fa9d",
   "metadata": {},
   "outputs": [
    {
     "ename": "IndexError",
     "evalue": "index 52 is out of bounds for axis 1 with size 52",
     "output_type": "error",
     "traceback": [
      "\u001b[0;31m---------------------------------------------------------------------------\u001b[0m",
      "\u001b[0;31mIndexError\u001b[0m                                Traceback (most recent call last)",
      "Cell \u001b[0;32mIn[13], line 52\u001b[0m\n\u001b[1;32m     45\u001b[0m \u001b[38;5;66;03m## 1 ps time bins (for -10-70ps)\u001b[39;00m\n\u001b[1;32m     46\u001b[0m \u001b[38;5;66;03m#xas.numpoints = 80\u001b[39;00m\n\u001b[1;32m     47\u001b[0m \u001b[38;5;66;03m# ## 2 ps time bins (for -10-70ps)\u001b[39;00m\n\u001b[1;32m     48\u001b[0m \u001b[38;5;66;03m#xas.numpoints = 40\u001b[39;00m\n\u001b[1;32m     49\u001b[0m \u001b[38;5;66;03m# ## 5 ps time bins (for -10-70ps)\u001b[39;00m\n\u001b[1;32m     50\u001b[0m xas\u001b[38;5;241m.\u001b[39mnumpoints \u001b[38;5;241m=\u001b[39m \u001b[38;5;241m25\u001b[39m\n\u001b[0;32m---> 52\u001b[0m \u001b[43mxas\u001b[49m\u001b[38;5;241;43m.\u001b[39;49m\u001b[43mprimary_analysis_loop\u001b[49m\u001b[43m(\u001b[49m\u001b[43mxas_experiment\u001b[49m\u001b[43m,\u001b[49m\u001b[43m \u001b[49m\u001b[43mverbose\u001b[49m\u001b[43m \u001b[49m\u001b[38;5;241;43m=\u001b[39;49m\u001b[43m \u001b[49m\u001b[38;5;28;43;01mFalse\u001b[39;49;00m\u001b[43m)\u001b[49m\n\u001b[1;32m     53\u001b[0m \u001b[38;5;66;03m#xas.primary_analysis_loop(xas_experiment, 19)\u001b[39;00m\n",
      "File \u001b[0;32m~/./XSpecT/XSpect/XSpect_Controller.py:71\u001b[0m, in \u001b[0;36mBatchAnalysis.primary_analysis_loop\u001b[0;34m(self, experiment, verbose)\u001b[0m\n\u001b[1;32m     69\u001b[0m analyzed_runs \u001b[38;5;241m=\u001b[39m []\n\u001b[1;32m     70\u001b[0m \u001b[38;5;28;01mfor\u001b[39;00m run \u001b[38;5;129;01min\u001b[39;00m \u001b[38;5;28mself\u001b[39m\u001b[38;5;241m.\u001b[39mruns:\n\u001b[0;32m---> 71\u001b[0m     analyzed_runs\u001b[38;5;241m.\u001b[39mappend(\u001b[38;5;28;43mself\u001b[39;49m\u001b[38;5;241;43m.\u001b[39;49m\u001b[43mprimary_analysis\u001b[49m\u001b[43m(\u001b[49m\u001b[43mexperiment\u001b[49m\u001b[43m,\u001b[49m\u001b[43m \u001b[49m\u001b[43mrun\u001b[49m\u001b[43m,\u001b[49m\u001b[43m \u001b[49m\u001b[43mverbose\u001b[49m\u001b[43m)\u001b[49m)\n\u001b[1;32m     72\u001b[0m \u001b[38;5;28mself\u001b[39m\u001b[38;5;241m.\u001b[39manalyzed_runs \u001b[38;5;241m=\u001b[39m analyzed_runs\n\u001b[1;32m     73\u001b[0m \u001b[38;5;28mself\u001b[39m\u001b[38;5;241m.\u001b[39mupdate_status(\u001b[38;5;124m\"\u001b[39m\u001b[38;5;124mPrimary analysis loop completed.\u001b[39m\u001b[38;5;124m\"\u001b[39m)\n",
      "File \u001b[0;32m~/./XSpecT/XSpect/XSpect_Controller.py:394\u001b[0m, in \u001b[0;36mXASBatchAnalysis.primary_analysis\u001b[0;34m(self, experiment, run, verbose)\u001b[0m\n\u001b[1;32m    392\u001b[0m analysis\u001b[38;5;241m.\u001b[39munion_shots(f,\u001b[38;5;124m'\u001b[39m\u001b[38;5;124mccm_bin_indices\u001b[39m\u001b[38;5;124m'\u001b[39m,[\u001b[38;5;124m'\u001b[39m\u001b[38;5;124msimultaneous\u001b[39m\u001b[38;5;124m'\u001b[39m,\u001b[38;5;124m'\u001b[39m\u001b[38;5;124mlaser\u001b[39m\u001b[38;5;124m'\u001b[39m])\n\u001b[1;32m    393\u001b[0m analysis\u001b[38;5;241m.\u001b[39mseparate_shots(f,\u001b[38;5;124m'\u001b[39m\u001b[38;5;124mccm_bin_indices\u001b[39m\u001b[38;5;124m'\u001b[39m,[\u001b[38;5;124m'\u001b[39m\u001b[38;5;124mxray\u001b[39m\u001b[38;5;124m'\u001b[39m,\u001b[38;5;124m'\u001b[39m\u001b[38;5;124mlaser\u001b[39m\u001b[38;5;124m'\u001b[39m])\n\u001b[0;32m--> 394\u001b[0m \u001b[43manalysis\u001b[49m\u001b[38;5;241;43m.\u001b[39;49m\u001b[43mreduce_detector_ccm_temporal\u001b[49m\u001b[43m(\u001b[49m\u001b[43mf\u001b[49m\u001b[43m,\u001b[49m\u001b[38;5;124;43m'\u001b[39;49m\u001b[38;5;124;43mepix_simultaneous_laser\u001b[39;49m\u001b[38;5;124;43m'\u001b[39;49m\u001b[43m,\u001b[49m\u001b[38;5;124;43m'\u001b[39;49m\u001b[38;5;124;43mtiming_bin_indices_simultaneous_laser\u001b[39;49m\u001b[38;5;124;43m'\u001b[39;49m\u001b[43m,\u001b[49m\u001b[38;5;124;43m'\u001b[39;49m\u001b[38;5;124;43mccm_bin_indices_simultaneous_laser\u001b[39;49m\u001b[38;5;124;43m'\u001b[39;49m\u001b[43m,\u001b[49m\u001b[43maverage\u001b[49m\u001b[38;5;241;43m=\u001b[39;49m\u001b[38;5;28;43;01mTrue\u001b[39;49;00m\u001b[43m)\u001b[49m\n\u001b[1;32m    395\u001b[0m analysis\u001b[38;5;241m.\u001b[39mreduce_detector_ccm_temporal(f,\u001b[38;5;124m'\u001b[39m\u001b[38;5;124mepix_xray_not_laser\u001b[39m\u001b[38;5;124m'\u001b[39m,\u001b[38;5;124m'\u001b[39m\u001b[38;5;124mtiming_bin_indices_xray_not_laser\u001b[39m\u001b[38;5;124m'\u001b[39m,\u001b[38;5;124m'\u001b[39m\u001b[38;5;124mccm_bin_indices_xray_not_laser\u001b[39m\u001b[38;5;124m'\u001b[39m,average\u001b[38;5;241m=\u001b[39m\u001b[38;5;28;01mTrue\u001b[39;00m)\n\u001b[1;32m    396\u001b[0m analysis\u001b[38;5;241m.\u001b[39mreduce_detector_ccm_temporal(f,\u001b[38;5;124m'\u001b[39m\u001b[38;5;124mipm_simultaneous_laser\u001b[39m\u001b[38;5;124m'\u001b[39m,\u001b[38;5;124m'\u001b[39m\u001b[38;5;124mtiming_bin_indices_simultaneous_laser\u001b[39m\u001b[38;5;124m'\u001b[39m,\u001b[38;5;124m'\u001b[39m\u001b[38;5;124mccm_bin_indices_simultaneous_laser\u001b[39m\u001b[38;5;124m'\u001b[39m,average\u001b[38;5;241m=\u001b[39m\u001b[38;5;28;01mTrue\u001b[39;00m)\n",
      "File \u001b[0;32m~/./XSpecT/XSpect/XSpect_Analysis.py:479\u001b[0m, in \u001b[0;36mXASAnalysis.reduce_detector_ccm_temporal\u001b[0;34m(self, run, detector_key, timing_bin_key_indices, ccm_bin_key_indices, average)\u001b[0m\n\u001b[1;32m    475\u001b[0m \u001b[38;5;66;03m#         reduced_array = np.zeros((run.time_bins.shape[0], run.ccm_bins.shape[0]))\u001b[39;00m\n\u001b[1;32m    476\u001b[0m         \u001b[38;5;66;03m#for idx,i in enumerate(detector):\u001b[39;00m\n\u001b[1;32m    477\u001b[0m         \u001b[38;5;66;03m#    reduced_array[timing_indices[idx],ccm_indices[idx]]=detector[idx]+reduced_array[timing_indices[idx],ccm_indices[idx]]\u001b[39;00m\n\u001b[1;32m    478\u001b[0m         unique_indices \u001b[38;5;241m=\u001b[39mnp\u001b[38;5;241m.\u001b[39mcolumn_stack((timing_indices, ccm_indices))\n\u001b[0;32m--> 479\u001b[0m         \u001b[43mnp\u001b[49m\u001b[38;5;241;43m.\u001b[39;49m\u001b[43madd\u001b[49m\u001b[38;5;241;43m.\u001b[39;49m\u001b[43mat\u001b[49m\u001b[43m(\u001b[49m\u001b[43mreduced_array\u001b[49m\u001b[43m,\u001b[49m\u001b[43m \u001b[49m\u001b[43m(\u001b[49m\u001b[43munique_indices\u001b[49m\u001b[43m[\u001b[49m\u001b[43m:\u001b[49m\u001b[43m,\u001b[49m\u001b[43m \u001b[49m\u001b[38;5;241;43m0\u001b[39;49m\u001b[43m]\u001b[49m\u001b[43m,\u001b[49m\u001b[43m \u001b[49m\u001b[43munique_indices\u001b[49m\u001b[43m[\u001b[49m\u001b[43m:\u001b[49m\u001b[43m,\u001b[49m\u001b[43m \u001b[49m\u001b[38;5;241;43m1\u001b[39;49m\u001b[43m]\u001b[49m\u001b[43m)\u001b[49m\u001b[43m,\u001b[49m\u001b[43m \u001b[49m\u001b[43mdetector\u001b[49m\u001b[43m)\u001b[49m\n\u001b[1;32m    480\u001b[0m         reduced_array \u001b[38;5;241m=\u001b[39m reduced_array[:\u001b[38;5;241m-\u001b[39m\u001b[38;5;241m1\u001b[39m,:]\n\u001b[1;32m    481\u001b[0m         \u001b[38;5;28msetattr\u001b[39m(run, detector_key\u001b[38;5;241m+\u001b[39m\u001b[38;5;124m'\u001b[39m\u001b[38;5;124m_time_energy_binned\u001b[39m\u001b[38;5;124m'\u001b[39m, reduced_array)\n",
      "\u001b[0;31mIndexError\u001b[0m: index 52 is out of bounds for axis 1 with size 52"
     ]
    }
   ],
   "source": [
    "xas_experiment = XSpect.XSpect_Analysis.spectroscopy_experiment(lcls_run=24, hutch='xcs', experiment_id='xcs100864324')\n",
    "xas=XSpect.XSpect_Controller.XASBatchAnalysis()\n",
    "keys=['epicsUser/dccm_E','epicsUser/dccm_E_setpoint','tt/ttCorr','epics/lxt_ttc', 'enc/lasDelay' , 'ipm4/sum','tt/AMPL','epix_2/ROI_0_sum'] \n",
    "names=['ccm','ccm_E_setpoint','time_tool_correction','lxt_ttc'  ,'encoder','ipm', 'time_tool_ampl','epix']\n",
    "xas.set_key_aliases(keys,names)\n",
    "\n",
    "xas.add_filter('xray','ipm',200.0)\n",
    "xas.add_filter('simultaneous','ipm',500.0)\n",
    "xas.add_filter('simultaneous','time_tool_ampl',0.01)\n",
    "\n",
    "\n",
    "## Set normalization to use EPIX10k2M instead of ipm4\n",
    "xas.scattering=True\n",
    "\n",
    "#User specified unique ccm energie to remove glitch points\n",
    "# xas.ccm_E_input = np.array([7.102 , 7.104 , 7.106 , 7.108 , 7.1083, 7.1086, 7.1089, 7.1092,\n",
    "#        7.1095, 7.1098, 7.1101, 7.1104, 7.1107, 7.111 , 7.1113, 7.1116,\n",
    "#        7.1119, 7.1122, 7.1125, 7.1128, 7.1131, 7.1134, 7.1137, 7.114 ,\n",
    "#        7.115 , 7.116 , 7.117 , 7.118 , 7.119 , 7.12  , 7.121 , 7.122 ,\n",
    "#        7.123 , 7.124 , 7.125 , 7.126 , 7.127 , 7.128 , 7.129 , 7.13  ,\n",
    "#        7.132 , 7.134 , 7.136 , 7.138 , 7.14  , 7.142 , 7.144 , 7.146 ,\n",
    "#        7.148 , 7.15  , 7.152 , 7.154 ])\n",
    "\n",
    "xas.ccm_E_input = np.array([7.102 , 7.104 , 7.106 , 7.108 , 7.1083, 7.1086, 7.1089, 7.1092,\n",
    "       7.1095, 7.1098, 7.1101, 7.1104, 7.1107, 7.111 , 7.1113, 7.1116,\n",
    "       7.1119, 7.1122, 7.1125, 7.1128, 7.1131, 7.1134, 7.1137, 7.114 ,\n",
    "       7.115 , 7.116 , 7.117 , 7.118 , 7.119 , 7.12  , 7.121 , 7.122 ,\n",
    "       7.123 , 7.124 , 7.125 , 7.126 , 7.127 , 7.128 , 7.129 , 7.13  ,\n",
    "       7.132 , 7.134 , 7.136 , 7.138 , 7.14  , 7.142 , 7.144 , 7.146 ,\n",
    "       7.148 , 7.15  , 7.152 , 7.154 ])\n",
    "\n",
    "\n",
    "## -0.5 to 2.0 ps\n",
    "#xas.run_parser(['329 330 331 332 333 334 335']) # -0.5 to 2.5 ps\n",
    "#xas.run_parser(['374 375 376 377']) # -0.5 to 2.5 ps\n",
    "\n",
    "xas.run_parser(['19']) # -0.5 to 2.5 ps\n",
    "\n",
    "# xas.mintime = -0.5\n",
    "# xas.maxtime = 2\n",
    "\n",
    "xas.mintime = -20\n",
    "xas.maxtime = 20\n",
    "\n",
    "## 1 ps time bins (for -10-70ps)\n",
    "#xas.numpoints = 80\n",
    "# ## 2 ps time bins (for -10-70ps)\n",
    "#xas.numpoints = 40\n",
    "# ## 5 ps time bins (for -10-70ps)\n",
    "xas.numpoints = 25\n",
    "\n",
    "xas.primary_analysis_loop(xas_experiment, verbose = False)\n",
    "#xas.primary_analysis_loop(xas_experiment, 19)"
   ]
  },
  {
   "cell_type": "code",
   "execution_count": 14,
   "id": "aa10894f-98f3-4284-ac4d-77166683ddbe",
   "metadata": {},
   "outputs": [],
   "source": [
    "xas_experiment = XSpect.XSpect_Analysis.spectroscopy_experiment(lcls_run=24, hutch='xcs', experiment_id='xcs100864324')\n",
    "xas=XSpect.XSpect_Controller.XASBatchAnalysis()\n",
    "keys=['epicsUser/dccm_E','epicsUser/dccm_E_setpoint','tt/ttCorr','epics/lxt_ttc', 'enc/lasDelay' , 'ipm4/sum','tt/AMPL','epix_2/ROI_0_sum'] \n",
    "names=['ccm','ccm_E_setpoint','time_tool_correction','lxt_ttc'  ,'encoder','ipm', 'time_tool_ampl','epix']\n",
    "xas.set_key_aliases(keys,names)\n",
    "\n",
    "xas.add_filter('xray','ipm',200.0)\n",
    "xas.add_filter('simultaneous','ipm',500.0)\n",
    "xas.add_filter('simultaneous','time_tool_ampl',0.01)\n",
    "\n",
    "\n",
    "## Set normalization to use EPIX10k2M instead of ipm4\n",
    "xas.scattering=True\n",
    "\n",
    "#User specified unique ccm energie to remove glitch points\n",
    "# xas.ccm_E_input = np.array([7.102 , 7.104 , 7.106 , 7.108 , 7.1083, 7.1086, 7.1089, 7.1092,\n",
    "#        7.1095, 7.1098, 7.1101, 7.1104, 7.1107, 7.111 , 7.1113, 7.1116,\n",
    "#        7.1119, 7.1122, 7.1125, 7.1128, 7.1131, 7.1134, 7.1137, 7.114 ,\n",
    "#        7.115 , 7.116 , 7.117 , 7.118 , 7.119 , 7.12  , 7.121 , 7.122 ,\n",
    "#        7.123 , 7.124 , 7.125 , 7.126 , 7.127 , 7.128 , 7.129 , 7.13  ,\n",
    "#        7.132 , 7.134 , 7.136 , 7.138 , 7.14  , 7.142 , 7.144 , 7.146 ,\n",
    "#        7.148 , 7.15  , 7.152 , 7.154 ])\n",
    "\n",
    "xas.ccm_E_input = np.array([7.102 , 7.104 , 7.106 , 7.108 , 7.1083, 7.1086, 7.1089, 7.1092,\n",
    "       7.1095, 7.1098, 7.1101, 7.1104, 7.1107, 7.111 , 7.1113, 7.1116,\n",
    "       7.1119, 7.1122, 7.1125, 7.1128, 7.1131, 7.1134, 7.1137, 7.114 ,\n",
    "       7.115 , 7.116 , 7.117 , 7.118 , 7.119 , 7.12  , 7.121 , 7.122 ,\n",
    "       7.123 , 7.124 , 7.125 , 7.126 , 7.127 , 7.128 , 7.129 , 7.13  ,\n",
    "       7.132 , 7.134 , 7.136 , 7.138 , 7.14  , 7.142 , 7.144 , 7.146 ,\n",
    "       7.148 , 7.15  , 7.152 , 7.154 ])\n",
    "\n",
    "\n",
    "## -0.5 to 2.0 ps\n",
    "#xas.run_parser(['329 330 331 332 333 334 335']) # -0.5 to 2.5 ps\n",
    "#xas.run_parser(['374 375 376 377']) # -0.5 to 2.5 ps\n",
    "\n",
    "xas.run_parser(['19']) # -0.5 to 2.5 ps\n",
    "\n",
    "# xas.mintime = -0.5\n",
    "# xas.maxtime = 2\n",
    "\n",
    "xas.mintime = -20\n",
    "xas.maxtime = 20\n",
    "\n",
    "## 1 ps time bins (for -10-70ps)\n",
    "#xas.numpoints = 80\n",
    "# ## 2 ps time bins (for -10-70ps)\n",
    "#xas.numpoints = 40\n",
    "# ## 5 ps time bins (for -10-70ps)\n",
    "xas.numpoints = 25"
   ]
  },
  {
   "cell_type": "code",
   "execution_count": 16,
   "id": "2e53b332-4b83-4d2d-bd50-d0f3275a3aed",
   "metadata": {},
   "outputs": [],
   "source": [
    "f=XSpect.XSpect_Analysis.spectroscopy_run(xas_experiment,19,verbose=False)"
   ]
  },
  {
   "cell_type": "code",
   "execution_count": 17,
   "id": "a17559e8-d163-493e-abb0-035efb4bfc53",
   "metadata": {},
   "outputs": [],
   "source": [
    "f.get_run_shot_properties()"
   ]
  },
  {
   "cell_type": "code",
   "execution_count": 20,
   "id": "decc82f7-1d43-4726-ba75-6122c2c323d0",
   "metadata": {},
   "outputs": [],
   "source": [
    "f.load_run_keys(keys, names)"
   ]
  },
  {
   "cell_type": "code",
   "execution_count": 21,
   "id": "f1bcd423-3251-40cf-bcb1-be3d571ef43e",
   "metadata": {},
   "outputs": [],
   "source": [
    "f.load_sum_run_scattering('epix10k2M/azav_azav')"
   ]
  },
  {
   "cell_type": "code",
   "execution_count": 22,
   "id": "5623228b-f16b-4db2-ad8a-4e3dd7500bd0",
   "metadata": {},
   "outputs": [],
   "source": [
    "f.ipm=f.scattering[:-1]"
   ]
  },
  {
   "cell_type": "code",
   "execution_count": null,
   "id": "f9ed4580-bb17-491b-a7a6-87cdac073163",
   "metadata": {},
   "outputs": [],
   "source": []
  },
  {
   "cell_type": "code",
   "execution_count": null,
   "id": "0cb9f5f1-5cf1-4b0b-ad9e-6cbe5031f7ac",
   "metadata": {},
   "outputs": [],
   "source": []
  },
  {
   "cell_type": "code",
   "execution_count": null,
   "id": "c88ce020-b4b5-4818-aadf-cc78f1eeb169",
   "metadata": {},
   "outputs": [],
   "source": []
  },
  {
   "cell_type": "code",
   "execution_count": null,
   "id": "908897ef-70c3-42c1-82f7-27fb3ec78b05",
   "metadata": {},
   "outputs": [],
   "source": []
  },
  {
   "cell_type": "code",
   "execution_count": null,
   "id": "899477ec-ee96-4173-8ecb-1f4aaab19960",
   "metadata": {},
   "outputs": [],
   "source": []
  },
  {
   "cell_type": "code",
   "execution_count": null,
   "id": "12ac4010-47c4-48eb-bba9-99a9eed7d00a",
   "metadata": {},
   "outputs": [],
   "source": [
    "v=XSpect.XSpect_Visualization.XASVisualization()\n",
    "v.combine_spectra(xas_analysis=xas,\n",
    "                  xas_laser_key='epix_simultaneous_laser_time_energy_binned',\n",
    "                  xas_key='epix_xray_not_laser_time_energy_binned',\n",
    "                  norm_laser_key='ipm_simultaneous_laser_time_energy_binned',\n",
    "                  norm_key='ipm_xray_not_laser_time_energy_binned')\n",
    "\n",
    "v.plot_2d_difference_spectrum(xas, vmin=-0.2, vmax=0.2)"
   ]
  },
  {
   "cell_type": "code",
   "execution_count": null,
   "id": "2eb8ec53-99bc-4756-ba05-59d0a9d5e8ff",
   "metadata": {},
   "outputs": [],
   "source": []
  }
 ],
 "metadata": {
  "kernelspec": {
   "display_name": "Python 3 (ipykernel)",
   "language": "python",
   "name": "python3"
  },
  "language_info": {
   "codemirror_mode": {
    "name": "ipython",
    "version": 3
   },
   "file_extension": ".py",
   "mimetype": "text/x-python",
   "name": "python",
   "nbconvert_exporter": "python",
   "pygments_lexer": "ipython3",
   "version": "3.9.20"
  }
 },
 "nbformat": 4,
 "nbformat_minor": 5
}
